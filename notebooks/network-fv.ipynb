{
 "cells": [
  {
   "cell_type": "code",
   "execution_count": null,
   "metadata": {},
   "outputs": [],
   "source": []
  },
  {
   "cell_type": "markdown",
   "metadata": {},
   "source": [
    "do correlation analysis in kreise and connect ones that have corr>0.99\n",
    "\n",
    "dataset: **f**irmen**v**eränderung (company changes)"
   ]
  },
  {
   "cell_type": "code",
   "execution_count": 1,
   "metadata": {},
   "outputs": [],
   "source": [
    "import pandas as pd\n",
    "import matplotlib.pyplot as plt\n",
    "import networkx as nx"
   ]
  },
  {
   "cell_type": "code",
   "execution_count": null,
   "metadata": {},
   "outputs": [],
   "source": []
  },
  {
   "cell_type": "code",
   "execution_count": 2,
   "metadata": {},
   "outputs": [
    {
     "name": "stdout",
     "output_type": "stream",
     "text": [
      "/Users/cinny/GitHub/Map-Tool\n"
     ]
    }
   ],
   "source": [
    "cd .."
   ]
  },
  {
   "cell_type": "code",
   "execution_count": 4,
   "metadata": {},
   "outputs": [],
   "source": [
    "df = pd.read_csv('data/firmenveraenderungen.csv')"
   ]
  },
  {
   "cell_type": "code",
   "execution_count": 5,
   "metadata": {},
   "outputs": [
    {
     "data": {
      "text/plain": [
       "(10028, 34)"
      ]
     },
     "execution_count": 5,
     "metadata": {},
     "output_type": "execute_result"
    }
   ],
   "source": [
    "df.shape"
   ]
  },
  {
   "cell_type": "code",
   "execution_count": 14,
   "metadata": {},
   "outputs": [
    {
     "data": {
      "text/plain": [
       "402"
      ]
     },
     "execution_count": 14,
     "metadata": {},
     "output_type": "execute_result"
    }
   ],
   "source": [
    "len(df['ags5'].unique())"
   ]
  },
  {
   "cell_type": "code",
   "execution_count": 16,
   "metadata": {},
   "outputs": [
    {
     "data": {
      "text/plain": [
       "24.945273631840795"
      ]
     },
     "execution_count": 16,
     "metadata": {},
     "output_type": "execute_result"
    }
   ],
   "source": [
    "10028/402"
   ]
  },
  {
   "cell_type": "code",
   "execution_count": 17,
   "metadata": {},
   "outputs": [
    {
     "data": {
      "text/plain": [
       "['kr_firm_br_a_m',\n",
       " 'kr_firm_br_b_m',\n",
       " 'kr_firm_br_c_m',\n",
       " 'kr_firm_br_d_m',\n",
       " 'kr_firm_br_e_m',\n",
       " 'kr_firm_br_f_m',\n",
       " 'kr_firm_br_g_m',\n",
       " 'kr_firm_br_h_m',\n",
       " 'kr_firm_br_i_m',\n",
       " 'kr_firm_br_j_m',\n",
       " 'kr_firm_br_k_m',\n",
       " 'kr_firm_br_l_m',\n",
       " 'kr_firm_br_m_m',\n",
       " 'kr_firm_br_n_m',\n",
       " 'kr_firm_br_o_m',\n",
       " 'kr_firm_br_p_m',\n",
       " 'kr_firm_br_q_m',\n",
       " 'kr_firm_br_r_m',\n",
       " 'kr_firm_br_s_m',\n",
       " 'kr_firm_br_t_m',\n",
       " 'kr_firm_br_u_m',\n",
       " 'kr_firm_br_99_m',\n",
       " 'kr_firm_neug_m',\n",
       " 'kr_firm_loesch_m',\n",
       " 'kr_firm_liq_m']"
      ]
     },
     "execution_count": 17,
     "metadata": {},
     "output_type": "execute_result"
    }
   ],
   "source": [
    "list(df[df['ags5']==1001]['variable'])"
   ]
  },
  {
   "cell_type": "code",
   "execution_count": null,
   "metadata": {},
   "outputs": [],
   "source": [
    "# a - Monthly Company changes in economic sectors - agriculture, forestry and ﬁshing\n",
    "# b - Monthly Company changes in the economic sector - mining and quarrying of stones and earth\n",
    "# c - Monthly Company changes in the economic sector - manufacturing\n",
    "# d - Monthly Company changes in the economic sector - energy supply\n",
    "# e - Monthly Company changes in business sector - water supply; Sewage and waste disposal and pollution removal\n",
    "# f - Monthly Company changes in the economic sector - construction\n",
    "# g - Monthly Company changes in business sector - trade; Maintenance and repair of motor vehicles\n",
    "# h - Monthly Company changes in the economic sector - transport and storage\n",
    "# i - Monthly Company changes in the business sector - hospitality\n",
    "# j - Monthly Company changes in the business sector - information and communication\n",
    "# k - Monthly Company changes in the economic sector - provision of ﬁnancial and insurance services\n",
    "# l - Monthly Company changes in the economic sector - real estate and housing\n",
    "# m - Monthly Company changes in the economic sector - provision of professional, scientiﬁc and technical services\n",
    "# n - Monthly Company changes in the economic sector - provision of other economic services\n",
    "# o - Monthly Company changes in the economic sector - public administration, defense; social insurance\n",
    "# p - Monthly Company changes in business sector - education and teaching\n",
    "# q - Monthly Company changes in the economic sector - health and social services\n",
    "# r - Monthly Corporate changes in business - arts, entertainment and recreation\n",
    "# s - Monthly Company changes in the economic sector - provision of other services\n",
    "# t - Monthly Company changes in the economic sector - private households with domestic staff; \n",
    "#    Manufacture of goods and provision of services by private households for their own use without a pronounced focus\n",
    "# u - Monthly Company changes in the economic sector - extraterritorial organizations and corporations\n",
    "# 99 - Monthly Company changes in the economic sector - no information\n",
    "\n",
    "# neug - Startups by month\n",
    "# loesch - Company deletions by month\n",
    "# liq - Company liquidations by month"
   ]
  },
  {
   "cell_type": "code",
   "execution_count": null,
   "metadata": {},
   "outputs": [],
   "source": []
  },
  {
   "cell_type": "code",
   "execution_count": 18,
   "metadata": {},
   "outputs": [],
   "source": [
    "# fix ags5 code to be len=5, add 0 at front\n",
    "def fix_ags5(x):\n",
    "    if len(str(x))==4:\n",
    "        return '0'+str(x)\n",
    "    else:\n",
    "        return str(x)\n",
    "df['ags5'] = df['ags5'].apply(fix_ags5)"
   ]
  },
  {
   "cell_type": "code",
   "execution_count": null,
   "metadata": {},
   "outputs": [],
   "source": []
  },
  {
   "cell_type": "code",
   "execution_count": 37,
   "metadata": {},
   "outputs": [],
   "source": [
    "# filter_col1 = [col for col in df if col.startswith('kr_firm_neug_m')]\n",
    "# filter_col2 = [col for col in df if col.startswith('kr_firm_loesch_m')]\n",
    "filter_col1 = df[df['variable']=='kr_firm_neug_m']\n",
    "filter_col2 = df[df['variable']=='kr_firm_loesch_m']"
   ]
  },
  {
   "cell_type": "code",
   "execution_count": 49,
   "metadata": {},
   "outputs": [],
   "source": [
    "df_kr_firm = pd.concat([filter_col1, filter_col2])"
   ]
  },
  {
   "cell_type": "code",
   "execution_count": 50,
   "metadata": {},
   "outputs": [],
   "source": [
    "df_kr_firm_corr = df_kr_firm.set_index('ags5')[df_kr_firm.columns[6:]]"
   ]
  },
  {
   "cell_type": "code",
   "execution_count": 51,
   "metadata": {},
   "outputs": [
    {
     "data": {
      "text/html": [
       "<div>\n",
       "<style scoped>\n",
       "    .dataframe tbody tr th:only-of-type {\n",
       "        vertical-align: middle;\n",
       "    }\n",
       "\n",
       "    .dataframe tbody tr th {\n",
       "        vertical-align: top;\n",
       "    }\n",
       "\n",
       "    .dataframe thead th {\n",
       "        text-align: right;\n",
       "    }\n",
       "</style>\n",
       "<table border=\"1\" class=\"dataframe\">\n",
       "  <thead>\n",
       "    <tr style=\"text-align: right;\">\n",
       "      <th>ags5</th>\n",
       "      <th>01001</th>\n",
       "      <th>01002</th>\n",
       "      <th>01003</th>\n",
       "      <th>01004</th>\n",
       "      <th>01051</th>\n",
       "      <th>01053</th>\n",
       "      <th>01054</th>\n",
       "      <th>01055</th>\n",
       "      <th>01056</th>\n",
       "      <th>01057</th>\n",
       "      <th>...</th>\n",
       "      <th>16069</th>\n",
       "      <th>16070</th>\n",
       "      <th>16071</th>\n",
       "      <th>16072</th>\n",
       "      <th>16073</th>\n",
       "      <th>16074</th>\n",
       "      <th>16075</th>\n",
       "      <th>16076</th>\n",
       "      <th>16077</th>\n",
       "      <th>07000</th>\n",
       "    </tr>\n",
       "    <tr>\n",
       "      <th>ags5</th>\n",
       "      <th></th>\n",
       "      <th></th>\n",
       "      <th></th>\n",
       "      <th></th>\n",
       "      <th></th>\n",
       "      <th></th>\n",
       "      <th></th>\n",
       "      <th></th>\n",
       "      <th></th>\n",
       "      <th></th>\n",
       "      <th></th>\n",
       "      <th></th>\n",
       "      <th></th>\n",
       "      <th></th>\n",
       "      <th></th>\n",
       "      <th></th>\n",
       "      <th></th>\n",
       "      <th></th>\n",
       "      <th></th>\n",
       "      <th></th>\n",
       "      <th></th>\n",
       "    </tr>\n",
       "  </thead>\n",
       "  <tbody>\n",
       "    <tr>\n",
       "      <th>01001</th>\n",
       "      <td>1.000000</td>\n",
       "      <td>0.392424</td>\n",
       "      <td>0.157169</td>\n",
       "      <td>0.413639</td>\n",
       "      <td>0.115426</td>\n",
       "      <td>0.067385</td>\n",
       "      <td>0.167150</td>\n",
       "      <td>0.515951</td>\n",
       "      <td>0.134872</td>\n",
       "      <td>0.260702</td>\n",
       "      <td>...</td>\n",
       "      <td>-0.078988</td>\n",
       "      <td>-0.242141</td>\n",
       "      <td>-0.194731</td>\n",
       "      <td>0.087949</td>\n",
       "      <td>-0.250017</td>\n",
       "      <td>-0.054996</td>\n",
       "      <td>-0.187643</td>\n",
       "      <td>0.246278</td>\n",
       "      <td>-0.342404</td>\n",
       "      <td>NaN</td>\n",
       "    </tr>\n",
       "    <tr>\n",
       "      <th>01002</th>\n",
       "      <td>0.392424</td>\n",
       "      <td>1.000000</td>\n",
       "      <td>0.432148</td>\n",
       "      <td>0.481229</td>\n",
       "      <td>0.232522</td>\n",
       "      <td>0.257395</td>\n",
       "      <td>0.246655</td>\n",
       "      <td>0.363805</td>\n",
       "      <td>0.132009</td>\n",
       "      <td>0.157200</td>\n",
       "      <td>...</td>\n",
       "      <td>0.135734</td>\n",
       "      <td>-0.071608</td>\n",
       "      <td>-0.083734</td>\n",
       "      <td>0.012874</td>\n",
       "      <td>-0.206203</td>\n",
       "      <td>0.171747</td>\n",
       "      <td>-0.165509</td>\n",
       "      <td>0.228491</td>\n",
       "      <td>-0.187418</td>\n",
       "      <td>NaN</td>\n",
       "    </tr>\n",
       "    <tr>\n",
       "      <th>01003</th>\n",
       "      <td>0.157169</td>\n",
       "      <td>0.432148</td>\n",
       "      <td>1.000000</td>\n",
       "      <td>0.039611</td>\n",
       "      <td>0.096414</td>\n",
       "      <td>-0.010030</td>\n",
       "      <td>0.355759</td>\n",
       "      <td>0.441044</td>\n",
       "      <td>0.210534</td>\n",
       "      <td>0.219988</td>\n",
       "      <td>...</td>\n",
       "      <td>0.307434</td>\n",
       "      <td>0.165531</td>\n",
       "      <td>0.098252</td>\n",
       "      <td>-0.032778</td>\n",
       "      <td>0.289149</td>\n",
       "      <td>0.046865</td>\n",
       "      <td>0.035979</td>\n",
       "      <td>0.229707</td>\n",
       "      <td>0.285143</td>\n",
       "      <td>NaN</td>\n",
       "    </tr>\n",
       "    <tr>\n",
       "      <th>01004</th>\n",
       "      <td>0.413639</td>\n",
       "      <td>0.481229</td>\n",
       "      <td>0.039611</td>\n",
       "      <td>1.000000</td>\n",
       "      <td>0.246905</td>\n",
       "      <td>0.322580</td>\n",
       "      <td>0.126803</td>\n",
       "      <td>0.471813</td>\n",
       "      <td>0.410773</td>\n",
       "      <td>0.178058</td>\n",
       "      <td>...</td>\n",
       "      <td>-0.367688</td>\n",
       "      <td>-0.090813</td>\n",
       "      <td>-0.050024</td>\n",
       "      <td>0.274322</td>\n",
       "      <td>-0.549831</td>\n",
       "      <td>-0.061500</td>\n",
       "      <td>-0.217160</td>\n",
       "      <td>0.018329</td>\n",
       "      <td>-0.420890</td>\n",
       "      <td>NaN</td>\n",
       "    </tr>\n",
       "    <tr>\n",
       "      <th>01051</th>\n",
       "      <td>0.115426</td>\n",
       "      <td>0.232522</td>\n",
       "      <td>0.096414</td>\n",
       "      <td>0.246905</td>\n",
       "      <td>1.000000</td>\n",
       "      <td>0.064754</td>\n",
       "      <td>0.352574</td>\n",
       "      <td>0.304937</td>\n",
       "      <td>0.376008</td>\n",
       "      <td>-0.037945</td>\n",
       "      <td>...</td>\n",
       "      <td>0.017383</td>\n",
       "      <td>0.066082</td>\n",
       "      <td>0.085376</td>\n",
       "      <td>-0.096263</td>\n",
       "      <td>-0.108485</td>\n",
       "      <td>-0.173780</td>\n",
       "      <td>0.144534</td>\n",
       "      <td>0.056876</td>\n",
       "      <td>-0.351685</td>\n",
       "      <td>NaN</td>\n",
       "    </tr>\n",
       "    <tr>\n",
       "      <th>...</th>\n",
       "      <td>...</td>\n",
       "      <td>...</td>\n",
       "      <td>...</td>\n",
       "      <td>...</td>\n",
       "      <td>...</td>\n",
       "      <td>...</td>\n",
       "      <td>...</td>\n",
       "      <td>...</td>\n",
       "      <td>...</td>\n",
       "      <td>...</td>\n",
       "      <td>...</td>\n",
       "      <td>...</td>\n",
       "      <td>...</td>\n",
       "      <td>...</td>\n",
       "      <td>...</td>\n",
       "      <td>...</td>\n",
       "      <td>...</td>\n",
       "      <td>...</td>\n",
       "      <td>...</td>\n",
       "      <td>...</td>\n",
       "      <td>...</td>\n",
       "    </tr>\n",
       "    <tr>\n",
       "      <th>16074</th>\n",
       "      <td>-0.054996</td>\n",
       "      <td>0.171747</td>\n",
       "      <td>0.046865</td>\n",
       "      <td>-0.061500</td>\n",
       "      <td>-0.173780</td>\n",
       "      <td>0.383576</td>\n",
       "      <td>-0.241792</td>\n",
       "      <td>0.001062</td>\n",
       "      <td>-0.302187</td>\n",
       "      <td>0.265249</td>\n",
       "      <td>...</td>\n",
       "      <td>-0.085874</td>\n",
       "      <td>-0.301566</td>\n",
       "      <td>0.178930</td>\n",
       "      <td>0.079039</td>\n",
       "      <td>-0.020751</td>\n",
       "      <td>1.000000</td>\n",
       "      <td>0.196275</td>\n",
       "      <td>0.026252</td>\n",
       "      <td>0.370394</td>\n",
       "      <td>NaN</td>\n",
       "    </tr>\n",
       "    <tr>\n",
       "      <th>16075</th>\n",
       "      <td>-0.187643</td>\n",
       "      <td>-0.165509</td>\n",
       "      <td>0.035979</td>\n",
       "      <td>-0.217160</td>\n",
       "      <td>0.144534</td>\n",
       "      <td>-0.135437</td>\n",
       "      <td>-0.325759</td>\n",
       "      <td>-0.225465</td>\n",
       "      <td>-0.036996</td>\n",
       "      <td>-0.014428</td>\n",
       "      <td>...</td>\n",
       "      <td>0.166189</td>\n",
       "      <td>-0.040069</td>\n",
       "      <td>0.122328</td>\n",
       "      <td>0.074584</td>\n",
       "      <td>0.248791</td>\n",
       "      <td>0.196275</td>\n",
       "      <td>1.000000</td>\n",
       "      <td>-0.249747</td>\n",
       "      <td>-0.113127</td>\n",
       "      <td>NaN</td>\n",
       "    </tr>\n",
       "    <tr>\n",
       "      <th>16076</th>\n",
       "      <td>0.246278</td>\n",
       "      <td>0.228491</td>\n",
       "      <td>0.229707</td>\n",
       "      <td>0.018329</td>\n",
       "      <td>0.056876</td>\n",
       "      <td>0.028495</td>\n",
       "      <td>0.228477</td>\n",
       "      <td>0.352878</td>\n",
       "      <td>0.305600</td>\n",
       "      <td>0.166715</td>\n",
       "      <td>...</td>\n",
       "      <td>0.413424</td>\n",
       "      <td>0.323766</td>\n",
       "      <td>0.110385</td>\n",
       "      <td>0.270655</td>\n",
       "      <td>0.063364</td>\n",
       "      <td>0.026252</td>\n",
       "      <td>-0.249747</td>\n",
       "      <td>1.000000</td>\n",
       "      <td>0.259683</td>\n",
       "      <td>NaN</td>\n",
       "    </tr>\n",
       "    <tr>\n",
       "      <th>16077</th>\n",
       "      <td>-0.342404</td>\n",
       "      <td>-0.187418</td>\n",
       "      <td>0.285143</td>\n",
       "      <td>-0.420890</td>\n",
       "      <td>-0.351685</td>\n",
       "      <td>-0.154588</td>\n",
       "      <td>-0.016447</td>\n",
       "      <td>-0.131037</td>\n",
       "      <td>-0.213415</td>\n",
       "      <td>-0.021977</td>\n",
       "      <td>...</td>\n",
       "      <td>0.285723</td>\n",
       "      <td>0.218136</td>\n",
       "      <td>0.048917</td>\n",
       "      <td>-0.178625</td>\n",
       "      <td>0.286183</td>\n",
       "      <td>0.370394</td>\n",
       "      <td>-0.113127</td>\n",
       "      <td>0.259683</td>\n",
       "      <td>1.000000</td>\n",
       "      <td>NaN</td>\n",
       "    </tr>\n",
       "    <tr>\n",
       "      <th>07000</th>\n",
       "      <td>NaN</td>\n",
       "      <td>NaN</td>\n",
       "      <td>NaN</td>\n",
       "      <td>NaN</td>\n",
       "      <td>NaN</td>\n",
       "      <td>NaN</td>\n",
       "      <td>NaN</td>\n",
       "      <td>NaN</td>\n",
       "      <td>NaN</td>\n",
       "      <td>NaN</td>\n",
       "      <td>...</td>\n",
       "      <td>NaN</td>\n",
       "      <td>NaN</td>\n",
       "      <td>NaN</td>\n",
       "      <td>NaN</td>\n",
       "      <td>NaN</td>\n",
       "      <td>NaN</td>\n",
       "      <td>NaN</td>\n",
       "      <td>NaN</td>\n",
       "      <td>NaN</td>\n",
       "      <td>NaN</td>\n",
       "    </tr>\n",
       "  </tbody>\n",
       "</table>\n",
       "<p>804 rows × 804 columns</p>\n",
       "</div>"
      ],
      "text/plain": [
       "ags5      01001     01002     01003     01004     01051     01053     01054  \\\n",
       "ags5                                                                          \n",
       "01001  1.000000  0.392424  0.157169  0.413639  0.115426  0.067385  0.167150   \n",
       "01002  0.392424  1.000000  0.432148  0.481229  0.232522  0.257395  0.246655   \n",
       "01003  0.157169  0.432148  1.000000  0.039611  0.096414 -0.010030  0.355759   \n",
       "01004  0.413639  0.481229  0.039611  1.000000  0.246905  0.322580  0.126803   \n",
       "01051  0.115426  0.232522  0.096414  0.246905  1.000000  0.064754  0.352574   \n",
       "...         ...       ...       ...       ...       ...       ...       ...   \n",
       "16074 -0.054996  0.171747  0.046865 -0.061500 -0.173780  0.383576 -0.241792   \n",
       "16075 -0.187643 -0.165509  0.035979 -0.217160  0.144534 -0.135437 -0.325759   \n",
       "16076  0.246278  0.228491  0.229707  0.018329  0.056876  0.028495  0.228477   \n",
       "16077 -0.342404 -0.187418  0.285143 -0.420890 -0.351685 -0.154588 -0.016447   \n",
       "07000       NaN       NaN       NaN       NaN       NaN       NaN       NaN   \n",
       "\n",
       "ags5      01055     01056     01057  ...     16069     16070     16071  \\\n",
       "ags5                                 ...                                 \n",
       "01001  0.515951  0.134872  0.260702  ... -0.078988 -0.242141 -0.194731   \n",
       "01002  0.363805  0.132009  0.157200  ...  0.135734 -0.071608 -0.083734   \n",
       "01003  0.441044  0.210534  0.219988  ...  0.307434  0.165531  0.098252   \n",
       "01004  0.471813  0.410773  0.178058  ... -0.367688 -0.090813 -0.050024   \n",
       "01051  0.304937  0.376008 -0.037945  ...  0.017383  0.066082  0.085376   \n",
       "...         ...       ...       ...  ...       ...       ...       ...   \n",
       "16074  0.001062 -0.302187  0.265249  ... -0.085874 -0.301566  0.178930   \n",
       "16075 -0.225465 -0.036996 -0.014428  ...  0.166189 -0.040069  0.122328   \n",
       "16076  0.352878  0.305600  0.166715  ...  0.413424  0.323766  0.110385   \n",
       "16077 -0.131037 -0.213415 -0.021977  ...  0.285723  0.218136  0.048917   \n",
       "07000       NaN       NaN       NaN  ...       NaN       NaN       NaN   \n",
       "\n",
       "ags5      16072     16073     16074     16075     16076     16077  07000  \n",
       "ags5                                                                      \n",
       "01001  0.087949 -0.250017 -0.054996 -0.187643  0.246278 -0.342404    NaN  \n",
       "01002  0.012874 -0.206203  0.171747 -0.165509  0.228491 -0.187418    NaN  \n",
       "01003 -0.032778  0.289149  0.046865  0.035979  0.229707  0.285143    NaN  \n",
       "01004  0.274322 -0.549831 -0.061500 -0.217160  0.018329 -0.420890    NaN  \n",
       "01051 -0.096263 -0.108485 -0.173780  0.144534  0.056876 -0.351685    NaN  \n",
       "...         ...       ...       ...       ...       ...       ...    ...  \n",
       "16074  0.079039 -0.020751  1.000000  0.196275  0.026252  0.370394    NaN  \n",
       "16075  0.074584  0.248791  0.196275  1.000000 -0.249747 -0.113127    NaN  \n",
       "16076  0.270655  0.063364  0.026252 -0.249747  1.000000  0.259683    NaN  \n",
       "16077 -0.178625  0.286183  0.370394 -0.113127  0.259683  1.000000    NaN  \n",
       "07000       NaN       NaN       NaN       NaN       NaN       NaN    NaN  \n",
       "\n",
       "[804 rows x 804 columns]"
      ]
     },
     "execution_count": 51,
     "metadata": {},
     "output_type": "execute_result"
    }
   ],
   "source": [
    "df_kr_firm_corr.transpose().corr()"
   ]
  },
  {
   "cell_type": "code",
   "execution_count": 53,
   "metadata": {},
   "outputs": [
    {
     "data": {
      "text/plain": [
       "200"
      ]
     },
     "execution_count": 53,
     "metadata": {},
     "output_type": "execute_result"
    }
   ],
   "source": [
    "(sum((df_kr_firm_corr.transpose().corr()>0.99).sum())-401)//2"
   ]
  },
  {
   "cell_type": "code",
   "execution_count": null,
   "metadata": {},
   "outputs": [],
   "source": []
  },
  {
   "cell_type": "code",
   "execution_count": 55,
   "metadata": {},
   "outputs": [
    {
     "name": "stdout",
     "output_type": "stream",
     "text": [
      "0 rows processed ...\n",
      "10 rows processed ...\n",
      "20 rows processed ...\n",
      "30 rows processed ...\n",
      "40 rows processed ...\n",
      "50 rows processed ...\n",
      "60 rows processed ...\n",
      "70 rows processed ...\n",
      "80 rows processed ...\n",
      "90 rows processed ...\n",
      "100 rows processed ...\n",
      "110 rows processed ...\n",
      "120 rows processed ...\n",
      "130 rows processed ...\n",
      "140 rows processed ...\n",
      "150 rows processed ...\n",
      "160 rows processed ...\n",
      "170 rows processed ...\n",
      "180 rows processed ...\n",
      "190 rows processed ...\n",
      "200 rows processed ...\n",
      "210 rows processed ...\n",
      "220 rows processed ...\n",
      "230 rows processed ...\n",
      "240 rows processed ...\n",
      "250 rows processed ...\n",
      "260 rows processed ...\n",
      "270 rows processed ...\n",
      "280 rows processed ...\n",
      "290 rows processed ...\n",
      "300 rows processed ...\n",
      "310 rows processed ...\n",
      "320 rows processed ...\n",
      "330 rows processed ...\n",
      "340 rows processed ...\n",
      "350 rows processed ...\n",
      "360 rows processed ...\n",
      "370 rows processed ...\n",
      "380 rows processed ...\n",
      "390 rows processed ...\n"
     ]
    }
   ],
   "source": [
    "kreise1 = []\n",
    "kreise2 = []\n",
    "source = []\n",
    "target = []\n",
    "value = []\n",
    "#size = list(df['kr_ka_au_202104'])\n",
    "\n",
    "for col in range(400):\n",
    "    for row in range(col,400):\n",
    "        ratio = df_kr_firm_corr.transpose().corr().iloc[col][row]\n",
    "        # logging\n",
    "        if (col in list(range(0,401,10))) and (row in list(range(0,401,10))) and (col==row):\n",
    "            print(f'{col} rows processed ...')\n",
    "        # high correlation\n",
    "        if (ratio>0.99) and (ratio<1):\n",
    "            ags5 = df_kr_firm_corr.transpose().corr().index\n",
    "            kreise1.append(ags5[col])\n",
    "            kreise2.append(ags5[row])\n",
    "            source.append(col)\n",
    "            target.append(row)\n",
    "            value.append(ratio)"
   ]
  },
  {
   "cell_type": "code",
   "execution_count": 56,
   "metadata": {},
   "outputs": [],
   "source": [
    "match = pd.DataFrame({'kreise1': kreise1, 'kreise2': kreise2,\n",
    "                      'source': source, 'target': target,\n",
    "                      'value': value})"
   ]
  },
  {
   "cell_type": "code",
   "execution_count": 57,
   "metadata": {},
   "outputs": [],
   "source": [
    "match['group'] = match['kreise1'].astype(str).str[:2]\n",
    "# match['bd1'] = match['kreise1'].str[:2]\n",
    "# match['bd2'] = match['kreise2'].str[:2]"
   ]
  },
  {
   "cell_type": "code",
   "execution_count": 58,
   "metadata": {},
   "outputs": [
    {
     "data": {
      "text/plain": [
       "(0, 6)"
      ]
     },
     "execution_count": 58,
     "metadata": {},
     "output_type": "execute_result"
    }
   ],
   "source": [
    "match.shape"
   ]
  },
  {
   "cell_type": "code",
   "execution_count": null,
   "metadata": {},
   "outputs": [],
   "source": []
  },
  {
   "cell_type": "code",
   "execution_count": 177,
   "metadata": {},
   "outputs": [],
   "source": [
    "# linksdf = match[['source', 'target', 'value', 'group']]\n",
    "# #links = linksdf.to_dict('index')\n",
    "# links = linksdf.T.to_dict().values()\n",
    "# links = str(links)[12:-1].replace(\"'\", '\"')"
   ]
  },
  {
   "cell_type": "code",
   "execution_count": 178,
   "metadata": {},
   "outputs": [],
   "source": [
    "# nodesdf = df[['ags5', 'ags2', 'kr_ka_au_202009']]\n",
    "# nodesdf.columns = ['name', 'group', 'size']\n",
    "# nodes = nodesdf.T.to_dict().values()\n",
    "# nodes = str(nodes)[12:-1].replace(\"'\", '\"')"
   ]
  },
  {
   "cell_type": "code",
   "execution_count": 179,
   "metadata": {},
   "outputs": [],
   "source": [
    "# network = '{\"nodes\": ' + nodes + ', \"links\": ' + links + '}'"
   ]
  },
  {
   "cell_type": "code",
   "execution_count": 180,
   "metadata": {},
   "outputs": [],
   "source": [
    "# with open('network.txt', 'w') as writer:\n",
    "#     writer.write(network)"
   ]
  },
  {
   "cell_type": "code",
   "execution_count": null,
   "metadata": {},
   "outputs": [],
   "source": []
  },
  {
   "cell_type": "code",
   "execution_count": 134,
   "metadata": {},
   "outputs": [],
   "source": [
    "# {\"nodes\": [\n",
    "#     {\"name\": \"Azza Abouzied\", \"group\": 3, \"size\": 21.0}, {\"name\": \"Maeda F\", \"group\": 3, \"size\": 2.26}, \n",
    "#     {\"name\": \"Hanafi\", \"group\": 3, \"size\": 0.24}, {\"name\": \"Miro Mannino\", \"group\": 3, \"size\": 0.36}], \n",
    "#  \"links\": [\n",
    "#      {\"source\": 0, \"target\": 3, \"value\": 3, \"group\": 1}, {\"source\": 4, \"target\": 5, \"value\": 3, \"group\": 1}, \n",
    "#      {\"source\": 4, \"target\": 6, \"value\": 3, \"group\": 1}, {\"source\": 5, \"target\": 4, \"value\": 3, \"group\": 1}]}"
   ]
  },
  {
   "cell_type": "code",
   "execution_count": null,
   "metadata": {},
   "outputs": [],
   "source": []
  },
  {
   "cell_type": "code",
   "execution_count": 59,
   "metadata": {
    "scrolled": false
   },
   "outputs": [
    {
     "name": "stderr",
     "output_type": "stream",
     "text": [
      "No handles with labels found to put in legend.\n"
     ]
    },
    {
     "data": {
      "image/png": "[encoded data removed]",
      "text/plain": [
       "<Figure size 1440x1440 with 1 Axes>"
      ]
     },
     "metadata": {},
     "output_type": "display_data"
    }
   ],
   "source": [
    "plt.figure(figsize=(20,20))\n",
    "\n",
    "G01 = nx.from_pandas_edgelist(match[match['group']=='01'], source='kreise1', target='kreise2')\n",
    "G02 = nx.from_pandas_edgelist(match[match['group']=='02'], source='kreise1', target='kreise2')\n",
    "G03 = nx.from_pandas_edgelist(match[match['group']=='03'], source='kreise1', target='kreise2')\n",
    "G04 = nx.from_pandas_edgelist(match[match['group']=='04'], source='kreise1', target='kreise2')\n",
    "G05 = nx.from_pandas_edgelist(match[match['group']=='05'], source='kreise1', target='kreise2')\n",
    "G06 = nx.from_pandas_edgelist(match[match['group']=='06'], source='kreise1', target='kreise2')\n",
    "G07 = nx.from_pandas_edgelist(match[match['group']=='07'], source='kreise1', target='kreise2')\n",
    "G08 = nx.from_pandas_edgelist(match[match['group']=='08'], source='kreise1', target='kreise2')\n",
    "G09 = nx.from_pandas_edgelist(match[match['group']=='09'], source='kreise1', target='kreise2')\n",
    "G10 = nx.from_pandas_edgelist(match[match['group']=='10'], source='kreise1', target='kreise2')\n",
    "G11 = nx.from_pandas_edgelist(match[match['group']=='11'], source='kreise1', target='kreise2')\n",
    "G12 = nx.from_pandas_edgelist(match[match['group']=='12'], source='kreise1', target='kreise2')\n",
    "G13 = nx.from_pandas_edgelist(match[match['group']=='13'], source='kreise1', target='kreise2')\n",
    "G14 = nx.from_pandas_edgelist(match[match['group']=='14'], source='kreise1', target='kreise2')\n",
    "G15 = nx.from_pandas_edgelist(match[match['group']=='15'], source='kreise1', target='kreise2')\n",
    "G16 = nx.from_pandas_edgelist(match[match['group']=='16'], source='kreise1', target='kreise2')\n",
    "\n",
    "Gmatch = nx.from_pandas_edgelist(match, source='kreise1', target='kreise2')\n",
    "pos = nx.spring_layout(Gmatch)\n",
    "options = {'node_size':50, 'alpha':1, 'width':0.1, 'font_size':8}\n",
    "\n",
    "nx.draw_networkx(G01, pos, with_labels=True, node_color=\"#d3d3d3\", label='01', **options)\n",
    "nx.draw_networkx(G02, pos, with_labels=True, node_color=\"#9c9d97\", label='02', **options)\n",
    "nx.draw_networkx(G03, pos, with_labels=True, node_color=\"#474f52\", label='03', **options)\n",
    "nx.draw_networkx(G04, pos, with_labels=True, node_color=\"#1d1c21\", label='04', **options)\n",
    "nx.draw_networkx(G05, pos, with_labels=True, node_color=\"#ffd83d\", label='05', **options)\n",
    "nx.draw_networkx(G06, pos, with_labels=True, node_color=\"#f9801d\", label='06', **options)\n",
    "nx.draw_networkx(G07, pos, with_labels=True, node_color=\"#b02e26\", label='07', **options)\n",
    "nx.draw_networkx(G08, pos, with_labels=True, node_color=\"#825432\", label='08', **options)\n",
    "nx.draw_networkx(G09, pos, with_labels=True, node_color=\"#80c71f\", label='09', **options)\n",
    "nx.draw_networkx(G10, pos, with_labels=True, node_color=\"#5d7c15\", label='10', **options)\n",
    "nx.draw_networkx(G11, pos, with_labels=True, node_color=\"#3ab3da\", label='11', **options)\n",
    "nx.draw_networkx(G12, pos, with_labels=True, node_color=\"#169c9d\", label='12', **options)\n",
    "nx.draw_networkx(G13, pos, with_labels=True, node_color=\"#3c44a9\", label='13', **options)\n",
    "nx.draw_networkx(G14, pos, with_labels=True, node_color=\"#f38caa\", label='14', **options)\n",
    "nx.draw_networkx(G15, pos, with_labels=True, node_color=\"#c64fbd\", label='15', **options)\n",
    "nx.draw_networkx(G16, pos, with_labels=True, node_color=\"#8932b7\", label='16', **options)\n",
    "\n",
    "plt.legend()\n",
    "plt.show()"
   ]
  },
  {
   "cell_type": "code",
   "execution_count": null,
   "metadata": {},
   "outputs": [],
   "source": []
  },
  {
   "cell_type": "code",
   "execution_count": 60,
   "metadata": {},
   "outputs": [
    {
     "data": {
      "text/plain": [
       "[]"
      ]
     },
     "execution_count": 60,
     "metadata": {},
     "output_type": "execute_result"
    }
   ],
   "source": [
    "[len(c) for c in sorted(nx.connected_components(Gmatch), key=len, reverse=True)]"
   ]
  },
  {
   "cell_type": "code",
   "execution_count": 61,
   "metadata": {},
   "outputs": [],
   "source": [
    "clusters = [c for c in sorted(nx.connected_components(Gmatch), key=len, reverse=True)]"
   ]
  },
  {
   "cell_type": "code",
   "execution_count": 62,
   "metadata": {},
   "outputs": [],
   "source": [
    "for c in clusters:\n",
    "    c = list(c)\n",
    "    c = [str(i) for i in c]\n",
    "    counties = df[df['ags5'].isin(c)]\n",
    "    print(list(counties['kreis']))"
   ]
  },
  {
   "cell_type": "code",
   "execution_count": null,
   "metadata": {},
   "outputs": [],
   "source": []
  },
  {
   "cell_type": "code",
   "execution_count": 286,
   "metadata": {},
   "outputs": [
    {
     "data": {
      "text/plain": [
       "(3, 28)"
      ]
     },
     "execution_count": 286,
     "metadata": {},
     "output_type": "execute_result"
    }
   ],
   "source": [
    "cluster1 = df_kr_alq[df_kr_alq['kreis'].isin(['Wesel', 'Unna', 'Nürnberg'])][filter_col]\n",
    "cluster1.shape"
   ]
  },
  {
   "cell_type": "code",
   "execution_count": 320,
   "metadata": {},
   "outputs": [
    {
     "data": {
      "text/plain": [
       "<matplotlib.legend.Legend at 0x7fe7a4dc3b50>"
      ]
     },
     "execution_count": 320,
     "metadata": {},
     "output_type": "execute_result"
    },
    {
     "data": {
      "image/png": "[encoded data removed]",
      "text/plain": [
       "<Figure size 432x288 with 1 Axes>"
      ]
     },
     "metadata": {
      "needs_background": "light"
     },
     "output_type": "display_data"
    }
   ],
   "source": [
    "plt.plot(cluster1.columns, cluster1.iloc[0], 'go-', label='Wesel', linewidth=2)\n",
    "plt.plot(cluster1.columns, cluster1.iloc[1], 'bo-', label='Unna', linewidth=2)\n",
    "plt.plot(cluster1.columns, cluster1.iloc[2], 'ro-', label='Nürnberg', linewidth=2)\n",
    "plt.xticks(rotation=45)\n",
    "plt.ylim(1.5, 8.5)\n",
    "plt.legend()"
   ]
  },
  {
   "cell_type": "code",
   "execution_count": 312,
   "metadata": {},
   "outputs": [
    {
     "data": {
      "text/html": [
       "<div>\n",
       "<style scoped>\n",
       "    .dataframe tbody tr th:only-of-type {\n",
       "        vertical-align: middle;\n",
       "    }\n",
       "\n",
       "    .dataframe tbody tr th {\n",
       "        vertical-align: top;\n",
       "    }\n",
       "\n",
       "    .dataframe thead th {\n",
       "        text-align: right;\n",
       "    }\n",
       "</style>\n",
       "<table border=\"1\" class=\"dataframe\">\n",
       "  <thead>\n",
       "    <tr style=\"text-align: right;\">\n",
       "      <th></th>\n",
       "      <th>kr_alq_201901</th>\n",
       "      <th>kr_alq_201902</th>\n",
       "      <th>kr_alq_201903</th>\n",
       "      <th>kr_alq_201904</th>\n",
       "      <th>kr_alq_201905</th>\n",
       "      <th>kr_alq_201906</th>\n",
       "      <th>kr_alq_201907</th>\n",
       "      <th>kr_alq_201908</th>\n",
       "      <th>kr_alq_201909</th>\n",
       "      <th>kr_alq_201910</th>\n",
       "      <th>...</th>\n",
       "      <th>kr_alq_202007</th>\n",
       "      <th>kr_alq_202008</th>\n",
       "      <th>kr_alq_202009</th>\n",
       "      <th>kr_alq_202010</th>\n",
       "      <th>kr_alq_202011</th>\n",
       "      <th>kr_alq_202012</th>\n",
       "      <th>kr_alq_202101</th>\n",
       "      <th>kr_alq_202102</th>\n",
       "      <th>kr_alq_202103</th>\n",
       "      <th>kr_alq_202104</th>\n",
       "    </tr>\n",
       "  </thead>\n",
       "  <tbody>\n",
       "    <tr>\n",
       "      <th>77</th>\n",
       "      <td>6.2</td>\n",
       "      <td>6.1</td>\n",
       "      <td>6.0</td>\n",
       "      <td>6.0</td>\n",
       "      <td>6.0</td>\n",
       "      <td>5.9</td>\n",
       "      <td>6.0</td>\n",
       "      <td>6.1</td>\n",
       "      <td>5.9</td>\n",
       "      <td>5.7</td>\n",
       "      <td>...</td>\n",
       "      <td>7.0</td>\n",
       "      <td>7.1</td>\n",
       "      <td>6.9</td>\n",
       "      <td>6.8</td>\n",
       "      <td>6.7</td>\n",
       "      <td>6.7</td>\n",
       "      <td>6.9</td>\n",
       "      <td>6.9</td>\n",
       "      <td>6.8</td>\n",
       "      <td>6.7</td>\n",
       "    </tr>\n",
       "    <tr>\n",
       "      <th>115</th>\n",
       "      <td>7.3</td>\n",
       "      <td>7.0</td>\n",
       "      <td>6.9</td>\n",
       "      <td>6.8</td>\n",
       "      <td>6.8</td>\n",
       "      <td>6.8</td>\n",
       "      <td>6.8</td>\n",
       "      <td>6.9</td>\n",
       "      <td>6.6</td>\n",
       "      <td>6.5</td>\n",
       "      <td>...</td>\n",
       "      <td>8.1</td>\n",
       "      <td>8.2</td>\n",
       "      <td>8.0</td>\n",
       "      <td>7.7</td>\n",
       "      <td>7.5</td>\n",
       "      <td>7.5</td>\n",
       "      <td>8.0</td>\n",
       "      <td>8.0</td>\n",
       "      <td>7.9</td>\n",
       "      <td>7.8</td>\n",
       "    </tr>\n",
       "    <tr>\n",
       "      <th>283</th>\n",
       "      <td>5.7</td>\n",
       "      <td>5.5</td>\n",
       "      <td>5.3</td>\n",
       "      <td>5.2</td>\n",
       "      <td>5.2</td>\n",
       "      <td>5.1</td>\n",
       "      <td>5.2</td>\n",
       "      <td>5.4</td>\n",
       "      <td>5.2</td>\n",
       "      <td>5.0</td>\n",
       "      <td>...</td>\n",
       "      <td>7.0</td>\n",
       "      <td>7.1</td>\n",
       "      <td>6.9</td>\n",
       "      <td>6.5</td>\n",
       "      <td>6.3</td>\n",
       "      <td>6.2</td>\n",
       "      <td>6.8</td>\n",
       "      <td>6.7</td>\n",
       "      <td>6.6</td>\n",
       "      <td>6.6</td>\n",
       "    </tr>\n",
       "  </tbody>\n",
       "</table>\n",
       "<p>3 rows × 28 columns</p>\n",
       "</div>"
      ],
      "text/plain": [
       "     kr_alq_201901  kr_alq_201902  kr_alq_201903  kr_alq_201904  \\\n",
       "77             6.2            6.1            6.0            6.0   \n",
       "115            7.3            7.0            6.9            6.8   \n",
       "283            5.7            5.5            5.3            5.2   \n",
       "\n",
       "     kr_alq_201905  kr_alq_201906  kr_alq_201907  kr_alq_201908  \\\n",
       "77             6.0            5.9            6.0            6.1   \n",
       "115            6.8            6.8            6.8            6.9   \n",
       "283            5.2            5.1            5.2            5.4   \n",
       "\n",
       "     kr_alq_201909  kr_alq_201910  ...  kr_alq_202007  kr_alq_202008  \\\n",
       "77             5.9            5.7  ...            7.0            7.1   \n",
       "115            6.6            6.5  ...            8.1            8.2   \n",
       "283            5.2            5.0  ...            7.0            7.1   \n",
       "\n",
       "     kr_alq_202009  kr_alq_202010  kr_alq_202011  kr_alq_202012  \\\n",
       "77             6.9            6.8            6.7            6.7   \n",
       "115            8.0            7.7            7.5            7.5   \n",
       "283            6.9            6.5            6.3            6.2   \n",
       "\n",
       "     kr_alq_202101  kr_alq_202102  kr_alq_202103  kr_alq_202104  \n",
       "77             6.9            6.9            6.8            6.7  \n",
       "115            8.0            8.0            7.9            7.8  \n",
       "283            6.8            6.7            6.6            6.6  \n",
       "\n",
       "[3 rows x 28 columns]"
      ]
     },
     "execution_count": 312,
     "metadata": {},
     "output_type": "execute_result"
    }
   ],
   "source": [
    "cluster1"
   ]
  },
  {
   "cell_type": "code",
   "execution_count": null,
   "metadata": {},
   "outputs": [],
   "source": [
    "#kr_firm = [22295, 17645, 29263] #>75%"
   ]
  },
  {
   "cell_type": "code",
   "execution_count": null,
   "metadata": {},
   "outputs": [],
   "source": [
    "# Wesel is a city in North Rhine-Westphalia, Germany. It is the capital of the Wesel district.\n",
    "# Unna is a city of around 57,000 people in North Rhine-Westphalia, Germany, the seat of the Unna district.\n",
    "# Nuremberg is the second-largest city of the German state of Bavaria after its capital Munich, and its 518,370 inhabitants make it the 14th-largest city in Germany."
   ]
  },
  {
   "cell_type": "code",
   "execution_count": null,
   "metadata": {},
   "outputs": [],
   "source": []
  },
  {
   "cell_type": "code",
   "execution_count": 292,
   "metadata": {},
   "outputs": [
    {
     "data": {
      "text/plain": [
       "(3, 28)"
      ]
     },
     "execution_count": 292,
     "metadata": {},
     "output_type": "execute_result"
    }
   ],
   "source": [
    "cluster2 = df_kr_alq[df_kr_alq['kreis'].isin(['Fulda', 'Neuwied', 'Gotha'])][filter_col]\n",
    "cluster2.shape"
   ]
  },
  {
   "cell_type": "code",
   "execution_count": 321,
   "metadata": {},
   "outputs": [
    {
     "data": {
      "text/plain": [
       "<matplotlib.legend.Legend at 0x7fe7a3919b20>"
      ]
     },
     "execution_count": 321,
     "metadata": {},
     "output_type": "execute_result"
    },
    {
     "data": {
      "image/png": "[encoded data removed]",
      "text/plain": [
       "<Figure size 432x288 with 1 Axes>"
      ]
     },
     "metadata": {
      "needs_background": "light"
     },
     "output_type": "display_data"
    }
   ],
   "source": [
    "plt.plot(cluster2.columns, cluster2.iloc[0], 'go-', label='Fulda', linewidth=2)\n",
    "plt.plot(cluster2.columns, cluster2.iloc[1], 'bo-', label='Neuwied', linewidth=2)\n",
    "plt.plot(cluster2.columns, cluster2.iloc[2], 'ro-', label='Gotha', linewidth=2)\n",
    "plt.xticks(rotation=45)\n",
    "plt.ylim(1.5, 8.5)\n",
    "plt.legend()"
   ]
  },
  {
   "cell_type": "code",
   "execution_count": null,
   "metadata": {},
   "outputs": [],
   "source": []
  },
  {
   "cell_type": "code",
   "execution_count": 297,
   "metadata": {},
   "outputs": [
    {
     "data": {
      "text/plain": [
       "(8, 28)"
      ]
     },
     "execution_count": 297,
     "metadata": {},
     "output_type": "execute_result"
    }
   ],
   "source": [
    "cluster3 = df_kr_alq[df_kr_alq['kreis'].isin(\n",
    "    ['Ortenaukreis', 'Dachau', 'Ebersberg', 'Erding', 'Freising', 'Landsberg am Lech', \n",
    "     'Erlangen-Höchstadt', 'Dillingen a.d.Donau'])][filter_col]\n",
    "cluster3.shape"
   ]
  },
  {
   "cell_type": "code",
   "execution_count": 322,
   "metadata": {},
   "outputs": [
    {
     "data": {
      "text/plain": [
       "<matplotlib.legend.Legend at 0x7fe7c10d92b0>"
      ]
     },
     "execution_count": 322,
     "metadata": {},
     "output_type": "execute_result"
    },
    {
     "data": {
      "image/png": "[encoded data removed]",
      "text/plain": [
       "<Figure size 432x288 with 1 Axes>"
      ]
     },
     "metadata": {
      "needs_background": "light"
     },
     "output_type": "display_data"
    }
   ],
   "source": [
    "plt.plot(cluster3.columns, cluster3.iloc[0], 'go-', label='Ortenaukreis', linewidth=2)\n",
    "plt.plot(cluster3.columns, cluster3.iloc[1], 'bo-', label='Dachau', linewidth=2)\n",
    "plt.plot(cluster3.columns, cluster3.iloc[2], 'ro-', label='Ebersberg', linewidth=2)\n",
    "plt.plot(cluster3.columns, cluster3.iloc[3], 'co-', label='Erding', linewidth=2)\n",
    "plt.plot(cluster3.columns, cluster3.iloc[4], 'mo-', label='Freising', linewidth=2)\n",
    "plt.plot(cluster3.columns, cluster3.iloc[5], 'yo-', label='Landsberg am Lech', linewidth=2)\n",
    "plt.plot(cluster3.columns, cluster3.iloc[6], 'ko-', label='Erlangen-Höchstadt', linewidth=2)\n",
    "plt.plot(cluster3.columns, cluster3.iloc[7], 'wo-', label='Dillingen a.d.Donau', linewidth=2)\n",
    "plt.xticks(rotation=45)\n",
    "plt.ylim(1.5, 8.5)\n",
    "plt.legend()"
   ]
  },
  {
   "cell_type": "code",
   "execution_count": null,
   "metadata": {},
   "outputs": [],
   "source": []
  },
  {
   "cell_type": "code",
   "execution_count": 311,
   "metadata": {},
   "outputs": [
    {
     "data": {
      "image/png": "[encoded data removed]",
      "text/plain": [
       "<Figure size 432x288 with 1 Axes>"
      ]
     },
     "metadata": {
      "needs_background": "light"
     },
     "output_type": "display_data"
    }
   ],
   "source": [
    "plt.plot(cluster1.columns, cluster1.iloc[0], 'go-', label='Wesel', linewidth=2)\n",
    "plt.plot(cluster1.columns, cluster1.iloc[1], 'bo-', label='Unna', linewidth=2)\n",
    "plt.plot(cluster1.columns, cluster1.iloc[2], 'ro-', label='Nürnberg', linewidth=2)\n",
    "\n",
    "# plt.plot(cluster2.columns, cluster2.iloc[0], 'co-', label='Fulda', linewidth=2)\n",
    "# plt.plot(cluster2.columns, cluster2.iloc[1], 'mo-', label='Neuwied', linewidth=2)\n",
    "# plt.plot(cluster2.columns, cluster2.iloc[2], 'yo-', label='Gotha', linewidth=2)\n",
    "\n",
    "plt.plot(cluster3.columns, cluster3.iloc[3], 'co-', label='Erding', linewidth=2)\n",
    "plt.plot(cluster3.columns, cluster3.iloc[4], 'mo-', label='Freising', linewidth=2)\n",
    "plt.plot(cluster3.columns, cluster3.iloc[5], 'yo-', label='Landsberg am Lech', linewidth=2)\n",
    "\n",
    "plt.xticks(rotation=45)\n",
    "#plt.legend()\n",
    "plt.show()"
   ]
  },
  {
   "cell_type": "code",
   "execution_count": null,
   "metadata": {},
   "outputs": [],
   "source": []
  }
 ],
 "metadata": {
  "kernelspec": {
   "display_name": "Python 3",
   "language": "python",
   "name": "python3"
  },
  "language_info": {
   "codemirror_mode": {
    "name": "ipython",
    "version": 3
   },
   "file_extension": ".py",
   "mimetype": "text/x-python",
   "name": "python",
   "nbconvert_exporter": "python",
   "pygments_lexer": "ipython3",
   "version": "3.8.5"
  }
 },
 "nbformat": 4,
 "nbformat_minor": 4
}
