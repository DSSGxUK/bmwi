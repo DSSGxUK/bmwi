{
 "cells": [
  {
   "cell_type": "markdown",
   "metadata": {},
   "source": [
    "network approach on unemployment rate for the big cluster in PCA/k-means"
   ]
  },
  {
   "cell_type": "code",
   "execution_count": null,
   "metadata": {},
   "outputs": [],
   "source": []
  },
  {
   "cell_type": "code",
   "execution_count": 1,
   "metadata": {},
   "outputs": [],
   "source": [
    "import pandas as pd\n",
    "import matplotlib.pyplot as plt"
   ]
  },
  {
   "cell_type": "code",
   "execution_count": null,
   "metadata": {},
   "outputs": [],
   "source": []
  },
  {
   "cell_type": "code",
   "execution_count": 2,
   "metadata": {},
   "outputs": [
    {
     "name": "stdout",
     "output_type": "stream",
     "text": [
      "/Users/cinny/GitHub/Map-Tool\n"
     ]
    }
   ],
   "source": [
    "cd .."
   ]
  },
  {
   "cell_type": "code",
   "execution_count": null,
   "metadata": {},
   "outputs": [],
   "source": []
  },
  {
   "cell_type": "markdown",
   "metadata": {},
   "source": [
    "### clustering results"
   ]
  },
  {
   "cell_type": "code",
   "execution_count": 3,
   "metadata": {},
   "outputs": [],
   "source": [
    "df_cluster = pd.read_csv('data/df_final_with_clusters.csv', index_col=0)"
   ]
  },
  {
   "cell_type": "code",
   "execution_count": 4,
   "metadata": {},
   "outputs": [
    {
     "data": {
      "text/html": [
       "<div>\n",
       "<style scoped>\n",
       "    .dataframe tbody tr th:only-of-type {\n",
       "        vertical-align: middle;\n",
       "    }\n",
       "\n",
       "    .dataframe tbody tr th {\n",
       "        vertical-align: top;\n",
       "    }\n",
       "\n",
       "    .dataframe thead th {\n",
       "        text-align: right;\n",
       "    }\n",
       "</style>\n",
       "<table border=\"1\" class=\"dataframe\">\n",
       "  <thead>\n",
       "    <tr style=\"text-align: right;\">\n",
       "      <th></th>\n",
       "      <th>data_index</th>\n",
       "      <th>cluster</th>\n",
       "      <th>kreis</th>\n",
       "      <th>ags5</th>\n",
       "      <th>ags2</th>\n",
       "      <th>supermarkets_population</th>\n",
       "      <th>supermarkets_average_distance</th>\n",
       "      <th>public_transport_availability</th>\n",
       "      <th>average_distance_bus_stop</th>\n",
       "      <th>average_distance_train_station</th>\n",
       "      <th>...</th>\n",
       "      <th>median_income</th>\n",
       "      <th>purchasing_power_per_household</th>\n",
       "      <th>purchasing_power_per_person</th>\n",
       "      <th>debtor_quota</th>\n",
       "      <th>household_in_income_calss_1</th>\n",
       "      <th>household_in_income_calss_2</th>\n",
       "      <th>household_in_income_calss_3</th>\n",
       "      <th>household_in_income_calss_4</th>\n",
       "      <th>household_in_income_calss_5</th>\n",
       "      <th>household_in_income_calss_6</th>\n",
       "    </tr>\n",
       "  </thead>\n",
       "  <tbody>\n",
       "    <tr>\n",
       "      <th>0</th>\n",
       "      <td>0</td>\n",
       "      <td>2</td>\n",
       "      <td>Flensburg, Stadt</td>\n",
       "      <td>1001</td>\n",
       "      <td>1</td>\n",
       "      <td>92</td>\n",
       "      <td>500</td>\n",
       "      <td>35</td>\n",
       "      <td>240</td>\n",
       "      <td>2901</td>\n",
       "      <td>...</td>\n",
       "      <td>2986</td>\n",
       "      <td>34496</td>\n",
       "      <td>19556</td>\n",
       "      <td>16.0</td>\n",
       "      <td>13209</td>\n",
       "      <td>12385</td>\n",
       "      <td>13092</td>\n",
       "      <td>5441</td>\n",
       "      <td>3096</td>\n",
       "      <td>3497</td>\n",
       "    </tr>\n",
       "  </tbody>\n",
       "</table>\n",
       "<p>1 rows × 171 columns</p>\n",
       "</div>"
      ],
      "text/plain": [
       "   data_index  cluster             kreis  ags5  ags2  supermarkets_population  \\\n",
       "0           0        2  Flensburg, Stadt  1001     1                       92   \n",
       "\n",
       "   supermarkets_average_distance  public_transport_availability  \\\n",
       "0                            500                             35   \n",
       "\n",
       "   average_distance_bus_stop  average_distance_train_station  ...  \\\n",
       "0                        240                            2901  ...   \n",
       "\n",
       "   median_income  purchasing_power_per_household  purchasing_power_per_person  \\\n",
       "0           2986                           34496                        19556   \n",
       "\n",
       "   debtor_quota  household_in_income_calss_1  household_in_income_calss_2  \\\n",
       "0          16.0                        13209                        12385   \n",
       "\n",
       "   household_in_income_calss_3  household_in_income_calss_4  \\\n",
       "0                        13092                         5441   \n",
       "\n",
       "   household_in_income_calss_5  household_in_income_calss_6  \n",
       "0                         3096                         3497  \n",
       "\n",
       "[1 rows x 171 columns]"
      ]
     },
     "execution_count": 4,
     "metadata": {},
     "output_type": "execute_result"
    }
   ],
   "source": [
    "df_cluster.head(1)"
   ]
  },
  {
   "cell_type": "code",
   "execution_count": 5,
   "metadata": {},
   "outputs": [],
   "source": [
    "df_cluster = df_cluster[['cluster', 'ags2', 'kreis', 'ags5']]"
   ]
  },
  {
   "cell_type": "code",
   "execution_count": 6,
   "metadata": {},
   "outputs": [],
   "source": [
    "# fix ags5 code to be len=5, add 0 at front\n",
    "def fix_ags5(x):\n",
    "    if len(str(x))==4:\n",
    "        return '0'+str(x)\n",
    "    else:\n",
    "        return str(x)\n",
    "df_cluster['ags5'] = df_cluster['ags5'].apply(fix_ags5)"
   ]
  },
  {
   "cell_type": "code",
   "execution_count": 7,
   "metadata": {},
   "outputs": [
    {
     "data": {
      "text/plain": [
       "2    331\n",
       "0     68\n",
       "1      2\n",
       "Name: cluster, dtype: int64"
      ]
     },
     "execution_count": 7,
     "metadata": {},
     "output_type": "execute_result"
    }
   ],
   "source": [
    "df_cluster['cluster'].value_counts()"
   ]
  },
  {
   "cell_type": "code",
   "execution_count": 8,
   "metadata": {},
   "outputs": [],
   "source": [
    "df_cluster2 = df_cluster[df_cluster['cluster']==2] "
   ]
  },
  {
   "cell_type": "code",
   "execution_count": 9,
   "metadata": {},
   "outputs": [
    {
     "data": {
      "text/plain": [
       "331"
      ]
     },
     "execution_count": 9,
     "metadata": {},
     "output_type": "execute_result"
    }
   ],
   "source": [
    "len(set(df_cluster2['kreis'])) #331"
   ]
  },
  {
   "cell_type": "code",
   "execution_count": null,
   "metadata": {},
   "outputs": [],
   "source": []
  },
  {
   "cell_type": "markdown",
   "metadata": {},
   "source": [
    "### network approach"
   ]
  },
  {
   "cell_type": "code",
   "execution_count": 10,
   "metadata": {},
   "outputs": [],
   "source": [
    "df = pd.read_csv('data/arbeitsmarktentwicklung.csv')"
   ]
  },
  {
   "cell_type": "code",
   "execution_count": 11,
   "metadata": {},
   "outputs": [],
   "source": [
    "# fix ags5 code to be len=5, add 0 at front\n",
    "def fix_ags5(x):\n",
    "    if len(str(x))==4:\n",
    "        return '0'+str(x)\n",
    "    else:\n",
    "        return str(x)\n",
    "df['ags5'] = df['ags5'].apply(fix_ags5)"
   ]
  },
  {
   "cell_type": "code",
   "execution_count": 12,
   "metadata": {},
   "outputs": [],
   "source": [
    "# unemployment rate\n",
    "filter_col = [col for col in df if col.startswith('kr_alq_')]\n",
    "df_kr_alq = df[['ags5'] + filter_col]"
   ]
  },
  {
   "cell_type": "code",
   "execution_count": null,
   "metadata": {},
   "outputs": [],
   "source": []
  },
  {
   "cell_type": "code",
   "execution_count": 13,
   "metadata": {},
   "outputs": [],
   "source": [
    "df = pd.merge(df_cluster2, df_kr_alq, on='ags5')"
   ]
  },
  {
   "cell_type": "code",
   "execution_count": 14,
   "metadata": {},
   "outputs": [],
   "source": [
    "df_corr = df.set_index('ags5')[filter_col]"
   ]
  },
  {
   "cell_type": "code",
   "execution_count": 15,
   "metadata": {},
   "outputs": [
    {
     "data": {
      "text/html": [
       "<div>\n",
       "<style scoped>\n",
       "    .dataframe tbody tr th:only-of-type {\n",
       "        vertical-align: middle;\n",
       "    }\n",
       "\n",
       "    .dataframe tbody tr th {\n",
       "        vertical-align: top;\n",
       "    }\n",
       "\n",
       "    .dataframe thead th {\n",
       "        text-align: right;\n",
       "    }\n",
       "</style>\n",
       "<table border=\"1\" class=\"dataframe\">\n",
       "  <thead>\n",
       "    <tr style=\"text-align: right;\">\n",
       "      <th>ags5</th>\n",
       "      <th>01001</th>\n",
       "      <th>01004</th>\n",
       "      <th>01051</th>\n",
       "      <th>01053</th>\n",
       "      <th>01054</th>\n",
       "      <th>01055</th>\n",
       "      <th>01056</th>\n",
       "      <th>01057</th>\n",
       "      <th>01058</th>\n",
       "      <th>01059</th>\n",
       "      <th>...</th>\n",
       "      <th>16068</th>\n",
       "      <th>16069</th>\n",
       "      <th>16070</th>\n",
       "      <th>16071</th>\n",
       "      <th>16072</th>\n",
       "      <th>16073</th>\n",
       "      <th>16074</th>\n",
       "      <th>16075</th>\n",
       "      <th>16076</th>\n",
       "      <th>16077</th>\n",
       "    </tr>\n",
       "    <tr>\n",
       "      <th>ags5</th>\n",
       "      <th></th>\n",
       "      <th></th>\n",
       "      <th></th>\n",
       "      <th></th>\n",
       "      <th></th>\n",
       "      <th></th>\n",
       "      <th></th>\n",
       "      <th></th>\n",
       "      <th></th>\n",
       "      <th></th>\n",
       "      <th></th>\n",
       "      <th></th>\n",
       "      <th></th>\n",
       "      <th></th>\n",
       "      <th></th>\n",
       "      <th></th>\n",
       "      <th></th>\n",
       "      <th></th>\n",
       "      <th></th>\n",
       "      <th></th>\n",
       "      <th></th>\n",
       "    </tr>\n",
       "  </thead>\n",
       "  <tbody>\n",
       "    <tr>\n",
       "      <th>01001</th>\n",
       "      <td>1.000000</td>\n",
       "      <td>0.857821</td>\n",
       "      <td>0.688320</td>\n",
       "      <td>0.916818</td>\n",
       "      <td>0.390461</td>\n",
       "      <td>0.384950</td>\n",
       "      <td>0.872014</td>\n",
       "      <td>0.854145</td>\n",
       "      <td>0.874896</td>\n",
       "      <td>0.877899</td>\n",
       "      <td>...</td>\n",
       "      <td>0.897264</td>\n",
       "      <td>0.802101</td>\n",
       "      <td>0.859229</td>\n",
       "      <td>0.857468</td>\n",
       "      <td>0.893061</td>\n",
       "      <td>0.742200</td>\n",
       "      <td>0.680475</td>\n",
       "      <td>0.450199</td>\n",
       "      <td>0.788869</td>\n",
       "      <td>0.181870</td>\n",
       "    </tr>\n",
       "    <tr>\n",
       "      <th>01004</th>\n",
       "      <td>0.857821</td>\n",
       "      <td>1.000000</td>\n",
       "      <td>0.769886</td>\n",
       "      <td>0.970232</td>\n",
       "      <td>0.498894</td>\n",
       "      <td>0.505034</td>\n",
       "      <td>0.990470</td>\n",
       "      <td>0.904970</td>\n",
       "      <td>0.967913</td>\n",
       "      <td>0.965859</td>\n",
       "      <td>...</td>\n",
       "      <td>0.939557</td>\n",
       "      <td>0.896830</td>\n",
       "      <td>0.890014</td>\n",
       "      <td>0.925019</td>\n",
       "      <td>0.962851</td>\n",
       "      <td>0.900445</td>\n",
       "      <td>0.823090</td>\n",
       "      <td>0.647421</td>\n",
       "      <td>0.814727</td>\n",
       "      <td>0.292500</td>\n",
       "    </tr>\n",
       "    <tr>\n",
       "      <th>01051</th>\n",
       "      <td>0.688320</td>\n",
       "      <td>0.769886</td>\n",
       "      <td>1.000000</td>\n",
       "      <td>0.780922</td>\n",
       "      <td>0.911184</td>\n",
       "      <td>0.908203</td>\n",
       "      <td>0.763807</td>\n",
       "      <td>0.853953</td>\n",
       "      <td>0.761588</td>\n",
       "      <td>0.832761</td>\n",
       "      <td>...</td>\n",
       "      <td>0.856000</td>\n",
       "      <td>0.896097</td>\n",
       "      <td>0.887001</td>\n",
       "      <td>0.905616</td>\n",
       "      <td>0.795807</td>\n",
       "      <td>0.927125</td>\n",
       "      <td>0.960186</td>\n",
       "      <td>0.871511</td>\n",
       "      <td>0.927166</td>\n",
       "      <td>0.585637</td>\n",
       "    </tr>\n",
       "    <tr>\n",
       "      <th>01053</th>\n",
       "      <td>0.916818</td>\n",
       "      <td>0.970232</td>\n",
       "      <td>0.780922</td>\n",
       "      <td>1.000000</td>\n",
       "      <td>0.508367</td>\n",
       "      <td>0.512201</td>\n",
       "      <td>0.983248</td>\n",
       "      <td>0.940682</td>\n",
       "      <td>0.961942</td>\n",
       "      <td>0.968019</td>\n",
       "      <td>...</td>\n",
       "      <td>0.968850</td>\n",
       "      <td>0.891276</td>\n",
       "      <td>0.928989</td>\n",
       "      <td>0.938249</td>\n",
       "      <td>0.961462</td>\n",
       "      <td>0.870648</td>\n",
       "      <td>0.809444</td>\n",
       "      <td>0.608189</td>\n",
       "      <td>0.858061</td>\n",
       "      <td>0.280444</td>\n",
       "    </tr>\n",
       "    <tr>\n",
       "      <th>01054</th>\n",
       "      <td>0.390461</td>\n",
       "      <td>0.498894</td>\n",
       "      <td>0.911184</td>\n",
       "      <td>0.508367</td>\n",
       "      <td>1.000000</td>\n",
       "      <td>0.994043</td>\n",
       "      <td>0.493366</td>\n",
       "      <td>0.647722</td>\n",
       "      <td>0.490433</td>\n",
       "      <td>0.599598</td>\n",
       "      <td>...</td>\n",
       "      <td>0.621651</td>\n",
       "      <td>0.730582</td>\n",
       "      <td>0.685006</td>\n",
       "      <td>0.706133</td>\n",
       "      <td>0.541864</td>\n",
       "      <td>0.748773</td>\n",
       "      <td>0.841639</td>\n",
       "      <td>0.824063</td>\n",
       "      <td>0.794012</td>\n",
       "      <td>0.613923</td>\n",
       "    </tr>\n",
       "    <tr>\n",
       "      <th>...</th>\n",
       "      <td>...</td>\n",
       "      <td>...</td>\n",
       "      <td>...</td>\n",
       "      <td>...</td>\n",
       "      <td>...</td>\n",
       "      <td>...</td>\n",
       "      <td>...</td>\n",
       "      <td>...</td>\n",
       "      <td>...</td>\n",
       "      <td>...</td>\n",
       "      <td>...</td>\n",
       "      <td>...</td>\n",
       "      <td>...</td>\n",
       "      <td>...</td>\n",
       "      <td>...</td>\n",
       "      <td>...</td>\n",
       "      <td>...</td>\n",
       "      <td>...</td>\n",
       "      <td>...</td>\n",
       "      <td>...</td>\n",
       "      <td>...</td>\n",
       "    </tr>\n",
       "    <tr>\n",
       "      <th>16073</th>\n",
       "      <td>0.742200</td>\n",
       "      <td>0.900445</td>\n",
       "      <td>0.927125</td>\n",
       "      <td>0.870648</td>\n",
       "      <td>0.748773</td>\n",
       "      <td>0.741378</td>\n",
       "      <td>0.882100</td>\n",
       "      <td>0.884994</td>\n",
       "      <td>0.889128</td>\n",
       "      <td>0.901501</td>\n",
       "      <td>...</td>\n",
       "      <td>0.905833</td>\n",
       "      <td>0.894771</td>\n",
       "      <td>0.927326</td>\n",
       "      <td>0.934308</td>\n",
       "      <td>0.856372</td>\n",
       "      <td>1.000000</td>\n",
       "      <td>0.958580</td>\n",
       "      <td>0.886365</td>\n",
       "      <td>0.899514</td>\n",
       "      <td>0.596373</td>\n",
       "    </tr>\n",
       "    <tr>\n",
       "      <th>16074</th>\n",
       "      <td>0.680475</td>\n",
       "      <td>0.823090</td>\n",
       "      <td>0.960186</td>\n",
       "      <td>0.809444</td>\n",
       "      <td>0.841639</td>\n",
       "      <td>0.840043</td>\n",
       "      <td>0.805331</td>\n",
       "      <td>0.879606</td>\n",
       "      <td>0.823636</td>\n",
       "      <td>0.855221</td>\n",
       "      <td>...</td>\n",
       "      <td>0.885073</td>\n",
       "      <td>0.894765</td>\n",
       "      <td>0.909559</td>\n",
       "      <td>0.936522</td>\n",
       "      <td>0.815492</td>\n",
       "      <td>0.958580</td>\n",
       "      <td>1.000000</td>\n",
       "      <td>0.913116</td>\n",
       "      <td>0.933227</td>\n",
       "      <td>0.645964</td>\n",
       "    </tr>\n",
       "    <tr>\n",
       "      <th>16075</th>\n",
       "      <td>0.450199</td>\n",
       "      <td>0.647421</td>\n",
       "      <td>0.871511</td>\n",
       "      <td>0.608189</td>\n",
       "      <td>0.824063</td>\n",
       "      <td>0.820981</td>\n",
       "      <td>0.626960</td>\n",
       "      <td>0.747086</td>\n",
       "      <td>0.684015</td>\n",
       "      <td>0.666186</td>\n",
       "      <td>...</td>\n",
       "      <td>0.709086</td>\n",
       "      <td>0.709776</td>\n",
       "      <td>0.782120</td>\n",
       "      <td>0.771041</td>\n",
       "      <td>0.582529</td>\n",
       "      <td>0.886365</td>\n",
       "      <td>0.913116</td>\n",
       "      <td>1.000000</td>\n",
       "      <td>0.819795</td>\n",
       "      <td>0.842406</td>\n",
       "    </tr>\n",
       "    <tr>\n",
       "      <th>16076</th>\n",
       "      <td>0.788869</td>\n",
       "      <td>0.814727</td>\n",
       "      <td>0.927166</td>\n",
       "      <td>0.858061</td>\n",
       "      <td>0.794012</td>\n",
       "      <td>0.795024</td>\n",
       "      <td>0.825419</td>\n",
       "      <td>0.939936</td>\n",
       "      <td>0.841311</td>\n",
       "      <td>0.892245</td>\n",
       "      <td>...</td>\n",
       "      <td>0.928302</td>\n",
       "      <td>0.905197</td>\n",
       "      <td>0.949670</td>\n",
       "      <td>0.956311</td>\n",
       "      <td>0.842628</td>\n",
       "      <td>0.899514</td>\n",
       "      <td>0.933227</td>\n",
       "      <td>0.819795</td>\n",
       "      <td>1.000000</td>\n",
       "      <td>0.571696</td>\n",
       "    </tr>\n",
       "    <tr>\n",
       "      <th>16077</th>\n",
       "      <td>0.181870</td>\n",
       "      <td>0.292500</td>\n",
       "      <td>0.585637</td>\n",
       "      <td>0.280444</td>\n",
       "      <td>0.613923</td>\n",
       "      <td>0.593967</td>\n",
       "      <td>0.281350</td>\n",
       "      <td>0.502275</td>\n",
       "      <td>0.415166</td>\n",
       "      <td>0.282551</td>\n",
       "      <td>...</td>\n",
       "      <td>0.409805</td>\n",
       "      <td>0.301349</td>\n",
       "      <td>0.536194</td>\n",
       "      <td>0.477651</td>\n",
       "      <td>0.202852</td>\n",
       "      <td>0.596373</td>\n",
       "      <td>0.645964</td>\n",
       "      <td>0.842406</td>\n",
       "      <td>0.571696</td>\n",
       "      <td>1.000000</td>\n",
       "    </tr>\n",
       "  </tbody>\n",
       "</table>\n",
       "<p>331 rows × 331 columns</p>\n",
       "</div>"
      ],
      "text/plain": [
       "ags5      01001     01004     01051     01053     01054     01055     01056  \\\n",
       "ags5                                                                          \n",
       "01001  1.000000  0.857821  0.688320  0.916818  0.390461  0.384950  0.872014   \n",
       "01004  0.857821  1.000000  0.769886  0.970232  0.498894  0.505034  0.990470   \n",
       "01051  0.688320  0.769886  1.000000  0.780922  0.911184  0.908203  0.763807   \n",
       "01053  0.916818  0.970232  0.780922  1.000000  0.508367  0.512201  0.983248   \n",
       "01054  0.390461  0.498894  0.911184  0.508367  1.000000  0.994043  0.493366   \n",
       "...         ...       ...       ...       ...       ...       ...       ...   \n",
       "16073  0.742200  0.900445  0.927125  0.870648  0.748773  0.741378  0.882100   \n",
       "16074  0.680475  0.823090  0.960186  0.809444  0.841639  0.840043  0.805331   \n",
       "16075  0.450199  0.647421  0.871511  0.608189  0.824063  0.820981  0.626960   \n",
       "16076  0.788869  0.814727  0.927166  0.858061  0.794012  0.795024  0.825419   \n",
       "16077  0.181870  0.292500  0.585637  0.280444  0.613923  0.593967  0.281350   \n",
       "\n",
       "ags5      01057     01058     01059  ...     16068     16069     16070  \\\n",
       "ags5                                 ...                                 \n",
       "01001  0.854145  0.874896  0.877899  ...  0.897264  0.802101  0.859229   \n",
       "01004  0.904970  0.967913  0.965859  ...  0.939557  0.896830  0.890014   \n",
       "01051  0.853953  0.761588  0.832761  ...  0.856000  0.896097  0.887001   \n",
       "01053  0.940682  0.961942  0.968019  ...  0.968850  0.891276  0.928989   \n",
       "01054  0.647722  0.490433  0.599598  ...  0.621651  0.730582  0.685006   \n",
       "...         ...       ...       ...  ...       ...       ...       ...   \n",
       "16073  0.884994  0.889128  0.901501  ...  0.905833  0.894771  0.927326   \n",
       "16074  0.879606  0.823636  0.855221  ...  0.885073  0.894765  0.909559   \n",
       "16075  0.747086  0.684015  0.666186  ...  0.709086  0.709776  0.782120   \n",
       "16076  0.939936  0.841311  0.892245  ...  0.928302  0.905197  0.949670   \n",
       "16077  0.502275  0.415166  0.282551  ...  0.409805  0.301349  0.536194   \n",
       "\n",
       "ags5      16071     16072     16073     16074     16075     16076     16077  \n",
       "ags5                                                                         \n",
       "01001  0.857468  0.893061  0.742200  0.680475  0.450199  0.788869  0.181870  \n",
       "01004  0.925019  0.962851  0.900445  0.823090  0.647421  0.814727  0.292500  \n",
       "01051  0.905616  0.795807  0.927125  0.960186  0.871511  0.927166  0.585637  \n",
       "01053  0.938249  0.961462  0.870648  0.809444  0.608189  0.858061  0.280444  \n",
       "01054  0.706133  0.541864  0.748773  0.841639  0.824063  0.794012  0.613923  \n",
       "...         ...       ...       ...       ...       ...       ...       ...  \n",
       "16073  0.934308  0.856372  1.000000  0.958580  0.886365  0.899514  0.596373  \n",
       "16074  0.936522  0.815492  0.958580  1.000000  0.913116  0.933227  0.645964  \n",
       "16075  0.771041  0.582529  0.886365  0.913116  1.000000  0.819795  0.842406  \n",
       "16076  0.956311  0.842628  0.899514  0.933227  0.819795  1.000000  0.571696  \n",
       "16077  0.477651  0.202852  0.596373  0.645964  0.842406  0.571696  1.000000  \n",
       "\n",
       "[331 rows x 331 columns]"
      ]
     },
     "execution_count": 15,
     "metadata": {},
     "output_type": "execute_result"
    }
   ],
   "source": [
    "df_corr.T.corr()"
   ]
  },
  {
   "cell_type": "code",
   "execution_count": 16,
   "metadata": {},
   "outputs": [
    {
     "data": {
      "text/plain": [
       "18"
      ]
     },
     "execution_count": 16,
     "metadata": {},
     "output_type": "execute_result"
    }
   ],
   "source": [
    "(sum((df_corr.transpose().corr()>0.99).sum())-401)//2"
   ]
  },
  {
   "cell_type": "code",
   "execution_count": null,
   "metadata": {},
   "outputs": [],
   "source": []
  },
  {
   "cell_type": "code",
   "execution_count": 17,
   "metadata": {},
   "outputs": [],
   "source": [
    "cluster2 = set(df_cluster2['kreis'])"
   ]
  },
  {
   "cell_type": "code",
   "execution_count": 18,
   "metadata": {},
   "outputs": [],
   "source": [
    "group1 = set(['Segeberg', 'Stormarn', 'Hamburg', 'Hannover', 'Diepholz', 'Lüneburg', 'Stade', 'Düsseldorf', 'Krefeld', 'Mülheim an der Ruhr', 'Wuppertal', 'Mettmann', 'Rhein-Kreis Neuss', 'Bonn', 'Köln', 'Euskirchen', 'Rheinisch-Bergischer Kreis', 'Rhein-Sieg-Kreis', 'Gelsenkirchen', 'Dortmund', 'Ennepe-Ruhr-Kreis', 'Olpe', 'Siegen-Wittgenstein', 'Kreisfreie Stadt Frankfurt am Main', 'Groß-Gerau', 'Main-Taunus', 'Offenbach', 'Stadt Worms', 'Südliche Weinstraße', 'Rhein-Pfalz-Kreis', 'Mainz-Bingen', 'Stuttgart', 'Böblingen', 'Esslingen', 'Göppingen', 'Ludwigsburg', 'Rems-Murr-Kreis', 'Heilbronn, Stadt', 'Heilbronn, Kreis', 'Schwäbisch Hall', 'Ostalbkreis', 'Karlsruhe, Stadt', 'Karlsruhe, Kreis', 'Rastatt', 'Rhein-Neckar-Kreis', 'Pforzheim', 'Enzkreis', 'Freudenstadt', 'Freiburg im Breisgau', 'Breisgau-Hochschwarzwald', 'Schwarzwald-Baar-Kreis', 'Konstanz', 'Lörrach', 'Waldshut', 'Reutlingen', 'Zollernalbkreis', 'Ulm', 'Alb-Donau-Kreis', 'Sigmaringen', 'Ingolstadt', 'München, Landeshauptstadt', 'Fürstenfeldbruck', 'München, Kreis', 'Starnberg', 'Regensburg, Stadt', 'Aschaffenburg, Kreis', 'Augsburg, Stadt', 'Kempten (Allgäu)', 'Berlin', 'Leipzig, Stadt', 'Wartburgkreis'])\n",
    "group2 = set(['Ortenaukreis', 'Dachau', 'Ebersberg', 'Erding', 'Freising', 'Landsberg am Lech', 'Erlangen-Höchstadt', 'Dillingen a.d.Donau'])\n",
    "group3 = set(['Wesel', 'Unna', 'Nürnberg'])\n",
    "group4 = set(['Fulda', 'Neuwied', 'Gotha'])\n",
    "group5 = set(['Neumünster, Stadt', 'Pinneberg'])\n",
    "group6 = set(['Nordfriesland', 'Ostholstein'])\n",
    "group7 = set(['Osnabrück', 'Soest'])\n",
    "group8 = set(['Donnersbergkreis', 'Eichstätt'])\n",
    "group9 = set(['Freyung-Grafenau', 'Regen'])\n",
    "group10 = set(['Halle (Saale)', 'Erfurt'])"
   ]
  },
  {
   "cell_type": "code",
   "execution_count": 31,
   "metadata": {},
   "outputs": [
    {
     "name": "stdout",
     "output_type": "stream",
     "text": [
      "{'Göppingen', 'Ostalbkreis', 'Enzkreis', 'Mülheim an der Ruhr', 'Euskirchen', 'Rheinisch-Bergischer Kreis', 'Freudenstadt', 'Stormarn', 'Diepholz', 'Heilbronn, Kreis', 'Stadt Worms', 'Zollernalbkreis', 'Ulm', 'Mainz-Bingen', 'Aschaffenburg, Kreis', 'Schwarzwald-Baar-Kreis', 'Lörrach', 'Siegen-Wittgenstein', 'Schwäbisch Hall', 'Pforzheim', 'Breisgau-Hochschwarzwald', 'Ingolstadt', 'Segeberg', 'Waldshut', 'Olpe', 'Alb-Donau-Kreis', 'Kempten (Allgäu)', 'Lüneburg', 'Fürstenfeldbruck', 'Starnberg', 'Main-Taunus', 'Reutlingen', 'Sigmaringen', 'Rastatt', 'Wartburgkreis', 'Stade', 'Konstanz', 'Heilbronn, Stadt', 'Rhein-Pfalz-Kreis', 'Südliche Weinstraße'}\n"
     ]
    }
   ],
   "source": [
    "print(cluster2.intersection(group1)) # 71->40"
   ]
  },
  {
   "cell_type": "code",
   "execution_count": 20,
   "metadata": {},
   "outputs": [
    {
     "data": {
      "text/plain": [
       "{'Dachau',\n",
       " 'Dillingen a.d.Donau',\n",
       " 'Ebersberg',\n",
       " 'Erding',\n",
       " 'Erlangen-Höchstadt',\n",
       " 'Freising',\n",
       " 'Landsberg am Lech'}"
      ]
     },
     "execution_count": 20,
     "metadata": {},
     "output_type": "execute_result"
    }
   ],
   "source": [
    "cluster2.intersection(group2) #8->7: Ortenaukreis"
   ]
  },
  {
   "cell_type": "code",
   "execution_count": 21,
   "metadata": {},
   "outputs": [
    {
     "data": {
      "text/plain": [
       "set()"
      ]
     },
     "execution_count": 21,
     "metadata": {},
     "output_type": "execute_result"
    }
   ],
   "source": [
    "cluster2.intersection(group3) #3->0: 'Wesel', 'Unna', 'Nürnberg'"
   ]
  },
  {
   "cell_type": "code",
   "execution_count": 22,
   "metadata": {},
   "outputs": [
    {
     "data": {
      "text/plain": [
       "{'Fulda', 'Gotha', 'Neuwied'}"
      ]
     },
     "execution_count": 22,
     "metadata": {},
     "output_type": "execute_result"
    }
   ],
   "source": [
    "cluster2.intersection(group4) #3->3 "
   ]
  },
  {
   "cell_type": "code",
   "execution_count": 23,
   "metadata": {},
   "outputs": [
    {
     "data": {
      "text/plain": [
       "{'Neumünster, Stadt', 'Pinneberg'}"
      ]
     },
     "execution_count": 23,
     "metadata": {},
     "output_type": "execute_result"
    }
   ],
   "source": [
    "cluster2.intersection(group5) #2->2"
   ]
  },
  {
   "cell_type": "code",
   "execution_count": 24,
   "metadata": {},
   "outputs": [
    {
     "data": {
      "text/plain": [
       "{'Nordfriesland', 'Ostholstein'}"
      ]
     },
     "execution_count": 24,
     "metadata": {},
     "output_type": "execute_result"
    }
   ],
   "source": [
    "cluster2.intersection(group6) #2->2"
   ]
  },
  {
   "cell_type": "code",
   "execution_count": 25,
   "metadata": {},
   "outputs": [
    {
     "data": {
      "text/plain": [
       "{'Soest'}"
      ]
     },
     "execution_count": 25,
     "metadata": {},
     "output_type": "execute_result"
    }
   ],
   "source": [
    "cluster2.intersection(group7) #2->1: Osnabrück"
   ]
  },
  {
   "cell_type": "code",
   "execution_count": 26,
   "metadata": {},
   "outputs": [
    {
     "data": {
      "text/plain": [
       "{'Donnersbergkreis', 'Eichstätt'}"
      ]
     },
     "execution_count": 26,
     "metadata": {},
     "output_type": "execute_result"
    }
   ],
   "source": [
    "cluster2.intersection(group8) #2->2"
   ]
  },
  {
   "cell_type": "code",
   "execution_count": 27,
   "metadata": {},
   "outputs": [
    {
     "data": {
      "text/plain": [
       "{'Freyung-Grafenau', 'Regen'}"
      ]
     },
     "execution_count": 27,
     "metadata": {},
     "output_type": "execute_result"
    }
   ],
   "source": [
    "cluster2.intersection(group9) #2->2"
   ]
  },
  {
   "cell_type": "code",
   "execution_count": 28,
   "metadata": {},
   "outputs": [
    {
     "data": {
      "text/plain": [
       "set()"
      ]
     },
     "execution_count": 28,
     "metadata": {},
     "output_type": "execute_result"
    }
   ],
   "source": [
    "cluster2.intersection(group10) #2->0: 'Halle (Saale)', 'Erfurt'"
   ]
  },
  {
   "cell_type": "code",
   "execution_count": null,
   "metadata": {},
   "outputs": [],
   "source": []
  },
  {
   "cell_type": "code",
   "execution_count": null,
   "metadata": {},
   "outputs": [],
   "source": []
  }
 ],
 "metadata": {
  "kernelspec": {
   "display_name": "Python 3",
   "language": "python",
   "name": "python3"
  },
  "language_info": {
   "codemirror_mode": {
    "name": "ipython",
    "version": 3
   },
   "file_extension": ".py",
   "mimetype": "text/x-python",
   "name": "python",
   "nbconvert_exporter": "python",
   "pygments_lexer": "ipython3",
   "version": "3.8.5"
  }
 },
 "nbformat": 4,
 "nbformat_minor": 4
}
