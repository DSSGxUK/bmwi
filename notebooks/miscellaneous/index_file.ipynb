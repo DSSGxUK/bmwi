{
 "cells": [
  {
   "cell_type": "code",
   "execution_count": 1,
   "metadata": {},
   "outputs": [],
   "source": [
    "import pandas as pd"
   ]
  },
  {
   "cell_type": "code",
   "execution_count": 2,
   "metadata": {},
   "outputs": [],
   "source": [
    "df = pd.read_csv('../data/arbeitsmarktentwicklung.csv')"
   ]
  },
  {
   "cell_type": "code",
   "execution_count": 3,
   "metadata": {},
   "outputs": [
    {
     "data": {
      "text/plain": [
       "Index(['_id', 'ags2', 'bundesland', 'ags5', 'kreis', 'kr_ka_au_202001',\n",
       "       'kr_ka_au_202002', 'kr_ka_au_202003', 'kr_ka_au_202004',\n",
       "       'kr_ka_au_202005',\n",
       "       ...\n",
       "       'kr_rlb_202007', 'kr_rlb_202008', 'kr_rlb_202009', 'kr_rlb_202010',\n",
       "       'kr_rlb_202011', 'kr_rlb_202012', 'kr_rlb_202101', 'kr_rlb_202102',\n",
       "       'kr_rlb_202103', 'kr_rlb_202104'],\n",
       "      dtype='object', length=228)"
      ]
     },
     "execution_count": 3,
     "metadata": {},
     "output_type": "execute_result"
    }
   ],
   "source": [
    "df.columns"
   ]
  },
  {
   "cell_type": "code",
   "execution_count": 4,
   "metadata": {},
   "outputs": [],
   "source": [
    "df_index = df[['ags2', 'bundesland', 'ags5', 'kreis']]"
   ]
  },
  {
   "cell_type": "code",
   "execution_count": 5,
   "metadata": {},
   "outputs": [],
   "source": [
    "#df_index.to_csv('../data/index.csv', index=False)"
   ]
  },
  {
   "cell_type": "code",
   "execution_count": null,
   "metadata": {},
   "outputs": [],
   "source": []
  }
 ],
 "metadata": {
  "kernelspec": {
   "display_name": "Python 3",
   "language": "python",
   "name": "python3"
  },
  "language_info": {
   "codemirror_mode": {
    "name": "ipython",
    "version": 3
   },
   "file_extension": ".py",
   "mimetype": "text/x-python",
   "name": "python",
   "nbconvert_exporter": "python",
   "pygments_lexer": "ipython3",
   "version": "3.8.5"
  }
 },
 "nbformat": 4,
 "nbformat_minor": 4
}
