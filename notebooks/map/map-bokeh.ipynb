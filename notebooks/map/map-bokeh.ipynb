{
 "cells": [
  {
   "cell_type": "code",
   "execution_count": null,
   "metadata": {},
   "outputs": [],
   "source": []
  },
  {
   "cell_type": "code",
   "execution_count": 1,
   "metadata": {},
   "outputs": [],
   "source": [
    "import pandas as pd\n",
    "import geopandas as gpd\n",
    "import json\n",
    "import matplotlib.pyplot as plt"
   ]
  },
  {
   "cell_type": "code",
   "execution_count": null,
   "metadata": {},
   "outputs": [],
   "source": []
  },
  {
   "cell_type": "markdown",
   "metadata": {},
   "source": [
    "## data file"
   ]
  },
  {
   "cell_type": "code",
   "execution_count": 3,
   "metadata": {},
   "outputs": [],
   "source": [
    "df = pd.read_csv('data/firmeninformationen.csv')"
   ]
  },
  {
   "cell_type": "code",
   "execution_count": 4,
   "metadata": {},
   "outputs": [
    {
     "data": {
      "text/plain": [
       "(401, 34)"
      ]
     },
     "execution_count": 4,
     "metadata": {},
     "output_type": "execute_result"
    }
   ],
   "source": [
    "df.shape"
   ]
  },
  {
   "cell_type": "code",
   "execution_count": 5,
   "metadata": {},
   "outputs": [
    {
     "data": {
      "text/html": [
       "<div>\n",
       "<style scoped>\n",
       "    .dataframe tbody tr th:only-of-type {\n",
       "        vertical-align: middle;\n",
       "    }\n",
       "\n",
       "    .dataframe tbody tr th {\n",
       "        vertical-align: top;\n",
       "    }\n",
       "\n",
       "    .dataframe thead th {\n",
       "        text-align: right;\n",
       "    }\n",
       "</style>\n",
       "<table border=\"1\" class=\"dataframe\">\n",
       "  <thead>\n",
       "    <tr style=\"text-align: right;\">\n",
       "      <th></th>\n",
       "      <th>_id</th>\n",
       "      <th>id</th>\n",
       "      <th>ags2</th>\n",
       "      <th>bundesland</th>\n",
       "      <th>ags5</th>\n",
       "      <th>kreis</th>\n",
       "      <th>kr_firm</th>\n",
       "      <th>kr_firm_br_a</th>\n",
       "      <th>kr_firm_br_b</th>\n",
       "      <th>kr_firm_br_c</th>\n",
       "      <th>...</th>\n",
       "      <th>kr_firm_br_r</th>\n",
       "      <th>kr_firm_br_s</th>\n",
       "      <th>kr_firm_br_t</th>\n",
       "      <th>kr_firm_br_u</th>\n",
       "      <th>kr_firm_br_99</th>\n",
       "      <th>kr_firm_be_kl1</th>\n",
       "      <th>kr_firm_be_kl2</th>\n",
       "      <th>kr_firm_be_kl3</th>\n",
       "      <th>kr_firm_be_kl4</th>\n",
       "      <th>kr_firm_be_kl99</th>\n",
       "    </tr>\n",
       "  </thead>\n",
       "  <tbody>\n",
       "    <tr>\n",
       "      <th>0</th>\n",
       "      <td>1</td>\n",
       "      <td>1</td>\n",
       "      <td>1</td>\n",
       "      <td>Schleswig-Holstein</td>\n",
       "      <td>1001</td>\n",
       "      <td>Flensburg, Stadt</td>\n",
       "      <td>5078</td>\n",
       "      <td>15</td>\n",
       "      <td>0</td>\n",
       "      <td>194</td>\n",
       "      <td>...</td>\n",
       "      <td>126</td>\n",
       "      <td>760</td>\n",
       "      <td>0</td>\n",
       "      <td>0</td>\n",
       "      <td>169</td>\n",
       "      <td>2396</td>\n",
       "      <td>1284</td>\n",
       "      <td>116</td>\n",
       "      <td>12</td>\n",
       "      <td>1270</td>\n",
       "    </tr>\n",
       "  </tbody>\n",
       "</table>\n",
       "<p>1 rows × 34 columns</p>\n",
       "</div>"
      ],
      "text/plain": [
       "   _id  id  ags2          bundesland  ags5             kreis  kr_firm  \\\n",
       "0    1   1     1  Schleswig-Holstein  1001  Flensburg, Stadt     5078   \n",
       "\n",
       "   kr_firm_br_a  kr_firm_br_b  kr_firm_br_c  ...  kr_firm_br_r  kr_firm_br_s  \\\n",
       "0            15             0           194  ...           126           760   \n",
       "\n",
       "   kr_firm_br_t  kr_firm_br_u  kr_firm_br_99  kr_firm_be_kl1  kr_firm_be_kl2  \\\n",
       "0             0             0            169            2396            1284   \n",
       "\n",
       "   kr_firm_be_kl3  kr_firm_be_kl4  kr_firm_be_kl99  \n",
       "0             116              12             1270  \n",
       "\n",
       "[1 rows x 34 columns]"
      ]
     },
     "execution_count": 5,
     "metadata": {},
     "output_type": "execute_result"
    }
   ],
   "source": [
    "df.head(1)"
   ]
  },
  {
   "cell_type": "code",
   "execution_count": 6,
   "metadata": {},
   "outputs": [],
   "source": [
    "# fix ags5 code to be len=5, add 0 at front\n",
    "# df['ags5'] = gdf['krs_code']\n",
    "def fix_ags5(x):\n",
    "    if len(str(x))==4:\n",
    "        return '0'+str(x)\n",
    "    else:\n",
    "        return str(x)\n",
    "df['ags5_fix'] = df['ags5'].apply(fix_ags5)"
   ]
  },
  {
   "cell_type": "code",
   "execution_count": null,
   "metadata": {},
   "outputs": [],
   "source": []
  },
  {
   "cell_type": "markdown",
   "metadata": {},
   "source": [
    "## geo file"
   ]
  },
  {
   "cell_type": "markdown",
   "metadata": {},
   "source": [
    "### shapefile"
   ]
  },
  {
   "cell_type": "code",
   "execution_count": 7,
   "metadata": {},
   "outputs": [],
   "source": [
    "gdf = gpd.read_file('georef-germany-kreis/georef-germany-kreis-millesime.shp')"
   ]
  },
  {
   "cell_type": "code",
   "execution_count": 8,
   "metadata": {},
   "outputs": [
    {
     "data": {
      "text/plain": [
       "(401, 9)"
      ]
     },
     "execution_count": 8,
     "metadata": {},
     "output_type": "execute_result"
    }
   ],
   "source": [
    "gdf.shape"
   ]
  },
  {
   "cell_type": "code",
   "execution_count": 9,
   "metadata": {
    "scrolled": true
   },
   "outputs": [
    {
     "data": {
      "text/html": [
       "<div>\n",
       "<style scoped>\n",
       "    .dataframe tbody tr th:only-of-type {\n",
       "        vertical-align: middle;\n",
       "    }\n",
       "\n",
       "    .dataframe tbody tr th {\n",
       "        vertical-align: top;\n",
       "    }\n",
       "\n",
       "    .dataframe thead th {\n",
       "        text-align: right;\n",
       "    }\n",
       "</style>\n",
       "<table border=\"1\" class=\"dataframe\">\n",
       "  <thead>\n",
       "    <tr style=\"text-align: right;\">\n",
       "      <th></th>\n",
       "      <th>year</th>\n",
       "      <th>lan_code</th>\n",
       "      <th>lan_name</th>\n",
       "      <th>krs_code</th>\n",
       "      <th>krs_name</th>\n",
       "      <th>krs_area_co</th>\n",
       "      <th>krs_type</th>\n",
       "      <th>krs_name_sh</th>\n",
       "      <th>geometry</th>\n",
       "    </tr>\n",
       "  </thead>\n",
       "  <tbody>\n",
       "    <tr>\n",
       "      <th>0</th>\n",
       "      <td>2020</td>\n",
       "      <td>08</td>\n",
       "      <td>Baden-WÃ¼rttemberg</td>\n",
       "      <td>08211</td>\n",
       "      <td>Stadtkreis Baden-Baden</td>\n",
       "      <td>DEU</td>\n",
       "      <td>Stadtkreis</td>\n",
       "      <td>Baden-Baden</td>\n",
       "      <td>MULTIPOLYGON (((8.15840 48.84665, 8.15952 48.8...</td>\n",
       "    </tr>\n",
       "  </tbody>\n",
       "</table>\n",
       "</div>"
      ],
      "text/plain": [
       "   year lan_code            lan_name krs_code                krs_name  \\\n",
       "0  2020       08  Baden-WÃ¼rttemberg    08211  Stadtkreis Baden-Baden   \n",
       "\n",
       "  krs_area_co    krs_type  krs_name_sh  \\\n",
       "0         DEU  Stadtkreis  Baden-Baden   \n",
       "\n",
       "                                            geometry  \n",
       "0  MULTIPOLYGON (((8.15840 48.84665, 8.15952 48.8...  "
      ]
     },
     "execution_count": 9,
     "metadata": {},
     "output_type": "execute_result"
    }
   ],
   "source": [
    "gdf.head(1)"
   ]
  },
  {
   "cell_type": "code",
   "execution_count": 10,
   "metadata": {},
   "outputs": [
    {
     "data": {
      "text/plain": [
       "<AxesSubplot:>"
      ]
     },
     "execution_count": 10,
     "metadata": {},
     "output_type": "execute_result"
    },
    {
     "data": {
      "image/png": "[encoded data removed]",
      "text/plain": [
       "<Figure size 432x288 with 1 Axes>"
      ]
     },
     "metadata": {
      "needs_background": "light"
     },
     "output_type": "display_data"
    }
   ],
   "source": [
    "gdf.plot()"
   ]
  },
  {
   "cell_type": "code",
   "execution_count": null,
   "metadata": {},
   "outputs": [],
   "source": []
  },
  {
   "cell_type": "markdown",
   "metadata": {},
   "source": [
    "### json file"
   ]
  },
  {
   "cell_type": "code",
   "execution_count": 11,
   "metadata": {},
   "outputs": [],
   "source": [
    "with open('georef-germany-kreis/georef-germany-kreis.json') as response:\n",
    "    gjs = json.load(response)"
   ]
  },
  {
   "cell_type": "code",
   "execution_count": null,
   "metadata": {},
   "outputs": [],
   "source": []
  },
  {
   "cell_type": "code",
   "execution_count": 13,
   "metadata": {},
   "outputs": [],
   "source": [
    "merged = pd.merge(df, gdf, left_on='ags5_fix', right_on='krs_code')"
   ]
  },
  {
   "cell_type": "code",
   "execution_count": 14,
   "metadata": {},
   "outputs": [],
   "source": [
    "merged = merged[['ags2', 'bundesland', 'ags5_fix', 'kreis', 'kr_firm',\n",
    "       'kr_firm_br_a', 'kr_firm_br_b', 'kr_firm_br_c', 'kr_firm_br_d',\n",
    "       'kr_firm_br_e', 'kr_firm_br_f', 'kr_firm_br_g', 'kr_firm_br_h',\n",
    "       'kr_firm_br_i', 'kr_firm_br_j', 'kr_firm_br_k', 'kr_firm_br_l',\n",
    "       'kr_firm_br_m', 'kr_firm_br_n', 'kr_firm_br_o', 'kr_firm_br_p',\n",
    "       'kr_firm_br_q', 'kr_firm_br_r', 'kr_firm_br_s', 'kr_firm_br_t',\n",
    "       'kr_firm_br_u', 'kr_firm_br_99', 'kr_firm_be_kl1', 'kr_firm_be_kl2',\n",
    "       'kr_firm_be_kl3', 'kr_firm_be_kl4', 'kr_firm_be_kl99', 'year', \n",
    "       'lan_code', 'lan_name', 'krs_code', 'krs_name', 'krs_area_co',\n",
    "       'krs_type', 'krs_name_sh', 'geometry']]"
   ]
  },
  {
   "cell_type": "code",
   "execution_count": 15,
   "metadata": {},
   "outputs": [],
   "source": [
    "merged['coords'] = merged['geometry'].apply(lambda x: x.representative_point().coords[:])\n",
    "merged['coords'] = [coords[0] for coords in merged['coords']]"
   ]
  },
  {
   "cell_type": "code",
   "execution_count": 16,
   "metadata": {},
   "outputs": [],
   "source": [
    "merged['longitude'] = merged['coords'].str[0]\n",
    "merged['latitude'] = merged['coords'].str[1]"
   ]
  },
  {
   "cell_type": "code",
   "execution_count": 17,
   "metadata": {},
   "outputs": [],
   "source": [
    "merged = gpd.GeoDataFrame(merged)"
   ]
  },
  {
   "cell_type": "code",
   "execution_count": 18,
   "metadata": {},
   "outputs": [],
   "source": [
    "merged_json = json.loads(merged.to_json(), default_handler=str)\n",
    "json_data = json.dumps(merged_json)"
   ]
  },
  {
   "cell_type": "code",
   "execution_count": null,
   "metadata": {},
   "outputs": [],
   "source": []
  },
  {
   "cell_type": "code",
   "execution_count": null,
   "metadata": {},
   "outputs": [],
   "source": []
  },
  {
   "cell_type": "code",
   "execution_count": null,
   "metadata": {},
   "outputs": [],
   "source": []
  }
 ],
 "metadata": {
  "kernelspec": {
   "display_name": "Python 3",
   "language": "python",
   "name": "python3"
  },
  "language_info": {
   "codemirror_mode": {
    "name": "ipython",
    "version": 3
   },
   "file_extension": ".py",
   "mimetype": "text/x-python",
   "name": "python",
   "nbconvert_exporter": "python",
   "pygments_lexer": "ipython3",
   "version": "3.8.5"
  }
 },
 "nbformat": 4,
 "nbformat_minor": 4
}
