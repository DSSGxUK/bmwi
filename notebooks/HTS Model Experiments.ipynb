{
 "cells": [
  {
   "cell_type": "code",
   "execution_count": 1,
   "id": "8f5902d6",
   "metadata": {},
   "outputs": [],
   "source": [
    "# Import libraries \n",
    "import os\n",
    "import pandas as pd\n",
    "import numpy as np\n",
    "import json\n",
    "\n",
    "import mlflow\n",
    "\n",
    "import matplotlib.pyplot as plt\n",
    "import seaborn as sns; sns.set()\n",
    "\n",
    "from pathlib import Path\n",
    "from functools import reduce\n",
    "\n",
    "from datetime import datetime\n",
    "from hts import HTSRegressor\n",
    "import hts.functions\n",
    "import collections\n",
    "from hts.hierarchy import HierarchyTree\n",
    "from sklearn.metrics import mean_squared_error\n",
    "\n",
    "import warnings\n",
    "warnings.simplefilter(\"ignore\")\n",
    "\n",
    "# settings\n",
    "plt.style.use('seaborn')\n",
    "plt.rcParams[\"figure.figsize\"] = (20, 8)"
   ]
  },
  {
   "cell_type": "markdown",
   "id": "973f88a5",
   "metadata": {},
   "source": [
    "## Utility functions "
   ]
  },
  {
   "cell_type": "code",
   "execution_count": 2,
   "id": "3c097ea6",
   "metadata": {},
   "outputs": [],
   "source": [
    "# function to fix the ags \n",
    "def fix_ags5(x):\n",
    "    if len((str(x))) == 4:\n",
    "        return '0' + str(x)\n",
    "    else: \n",
    "        return x"
   ]
  },
  {
   "cell_type": "code",
   "execution_count": 3,
   "id": "7ec45c39",
   "metadata": {},
   "outputs": [],
   "source": [
    "# Function to add the column to the main data\n",
    "def add_column_to_main_data(data, cluster_data, col_name):\n",
    "    \n",
    "    cluster_data['ags5'] = cluster_data['ags5'].apply(fix_ags5)\n",
    "    \n",
    "    # Get the cluster and ags 5 and set ags 5 as index \n",
    "    cluster_info = cluster_data.set_index('ags5').to_dict()[col_name]\n",
    "    \n",
    "    data['cluster'] = '0'\n",
    "    data['cluster'] = data['ags5'].map(cluster_info)\n",
    "\n",
    "    # check if the cluster have been allotted correctly \n",
    "    print(\"original cluster data\")\n",
    "    print(cluster_data[col_name].value_counts())\n",
    "    print(\"New data\")\n",
    "    print(data.drop_duplicates(subset=['ags5'])['cluster'].value_counts())\n",
    "    \n",
    "    return data "
   ]
  },
  {
   "cell_type": "markdown",
   "id": "936fc109",
   "metadata": {},
   "source": [
    "## Read the data"
   ]
  },
  {
   "cell_type": "code",
   "execution_count": 4,
   "id": "7f5ea4b7",
   "metadata": {},
   "outputs": [
    {
     "data": {
      "text/plain": [
       "(48120, 3)"
      ]
     },
     "execution_count": 4,
     "metadata": {},
     "output_type": "execute_result"
    }
   ],
   "source": [
    "# Read the data\n",
    "df = pd.read_csv('data_from_2010_to_2019_unemployment_rate.csv', converters={'ags2': str, 'ags5': str})\n",
    "df.shape"
   ]
  },
  {
   "cell_type": "code",
   "execution_count": 5,
   "id": "1306da75",
   "metadata": {},
   "outputs": [
    {
     "data": {
      "text/html": [
       "<div>\n",
       "<style scoped>\n",
       "    .dataframe tbody tr th:only-of-type {\n",
       "        vertical-align: middle;\n",
       "    }\n",
       "\n",
       "    .dataframe tbody tr th {\n",
       "        vertical-align: top;\n",
       "    }\n",
       "\n",
       "    .dataframe thead th {\n",
       "        text-align: right;\n",
       "    }\n",
       "</style>\n",
       "<table border=\"1\" class=\"dataframe\">\n",
       "  <thead>\n",
       "    <tr style=\"text-align: right;\">\n",
       "      <th></th>\n",
       "      <th>ags5</th>\n",
       "      <th>date</th>\n",
       "      <th>unemployment_rate</th>\n",
       "    </tr>\n",
       "  </thead>\n",
       "  <tbody>\n",
       "    <tr>\n",
       "      <th>0</th>\n",
       "      <td>01001</td>\n",
       "      <td>2010-01-31</td>\n",
       "      <td>13.7</td>\n",
       "    </tr>\n",
       "    <tr>\n",
       "      <th>1</th>\n",
       "      <td>01001</td>\n",
       "      <td>2010-02-28</td>\n",
       "      <td>14.1</td>\n",
       "    </tr>\n",
       "    <tr>\n",
       "      <th>2</th>\n",
       "      <td>01001</td>\n",
       "      <td>2010-03-31</td>\n",
       "      <td>13.6</td>\n",
       "    </tr>\n",
       "    <tr>\n",
       "      <th>3</th>\n",
       "      <td>01001</td>\n",
       "      <td>2010-04-30</td>\n",
       "      <td>13.1</td>\n",
       "    </tr>\n",
       "    <tr>\n",
       "      <th>4</th>\n",
       "      <td>01001</td>\n",
       "      <td>2010-05-31</td>\n",
       "      <td>12.5</td>\n",
       "    </tr>\n",
       "  </tbody>\n",
       "</table>\n",
       "</div>"
      ],
      "text/plain": [
       "    ags5        date  unemployment_rate\n",
       "0  01001  2010-01-31               13.7\n",
       "1  01001  2010-02-28               14.1\n",
       "2  01001  2010-03-31               13.6\n",
       "3  01001  2010-04-30               13.1\n",
       "4  01001  2010-05-31               12.5"
      ]
     },
     "execution_count": 5,
     "metadata": {},
     "output_type": "execute_result"
    }
   ],
   "source": [
    "df.head()"
   ]
  },
  {
   "cell_type": "code",
   "execution_count": 6,
   "id": "43f15c1e",
   "metadata": {},
   "outputs": [
    {
     "data": {
      "text/html": [
       "<div>\n",
       "<style scoped>\n",
       "    .dataframe tbody tr th:only-of-type {\n",
       "        vertical-align: middle;\n",
       "    }\n",
       "\n",
       "    .dataframe tbody tr th {\n",
       "        vertical-align: top;\n",
       "    }\n",
       "\n",
       "    .dataframe thead th {\n",
       "        text-align: right;\n",
       "    }\n",
       "</style>\n",
       "<table border=\"1\" class=\"dataframe\">\n",
       "  <thead>\n",
       "    <tr style=\"text-align: right;\">\n",
       "      <th></th>\n",
       "      <th>ags5</th>\n",
       "      <th>date</th>\n",
       "      <th>unemployment_rate</th>\n",
       "    </tr>\n",
       "  </thead>\n",
       "  <tbody>\n",
       "    <tr>\n",
       "      <th>48115</th>\n",
       "      <td>16077</td>\n",
       "      <td>2019-08-31</td>\n",
       "      <td>7.0</td>\n",
       "    </tr>\n",
       "    <tr>\n",
       "      <th>48116</th>\n",
       "      <td>16077</td>\n",
       "      <td>2019-09-30</td>\n",
       "      <td>6.5</td>\n",
       "    </tr>\n",
       "    <tr>\n",
       "      <th>48117</th>\n",
       "      <td>16077</td>\n",
       "      <td>2019-10-31</td>\n",
       "      <td>6.5</td>\n",
       "    </tr>\n",
       "    <tr>\n",
       "      <th>48118</th>\n",
       "      <td>16077</td>\n",
       "      <td>2019-11-30</td>\n",
       "      <td>6.3</td>\n",
       "    </tr>\n",
       "    <tr>\n",
       "      <th>48119</th>\n",
       "      <td>16077</td>\n",
       "      <td>2019-12-31</td>\n",
       "      <td>6.5</td>\n",
       "    </tr>\n",
       "  </tbody>\n",
       "</table>\n",
       "</div>"
      ],
      "text/plain": [
       "        ags5        date  unemployment_rate\n",
       "48115  16077  2019-08-31                7.0\n",
       "48116  16077  2019-09-30                6.5\n",
       "48117  16077  2019-10-31                6.5\n",
       "48118  16077  2019-11-30                6.3\n",
       "48119  16077  2019-12-31                6.5"
      ]
     },
     "execution_count": 6,
     "metadata": {},
     "output_type": "execute_result"
    }
   ],
   "source": [
    "df.tail()"
   ]
  },
  {
   "cell_type": "markdown",
   "id": "9167cc97",
   "metadata": {},
   "source": [
    "## Data Preparation"
   ]
  },
  {
   "cell_type": "code",
   "execution_count": 7,
   "id": "6f7836a1",
   "metadata": {},
   "outputs": [
    {
     "data": {
      "text/html": [
       "<div>\n",
       "<style scoped>\n",
       "    .dataframe tbody tr th:only-of-type {\n",
       "        vertical-align: middle;\n",
       "    }\n",
       "\n",
       "    .dataframe tbody tr th {\n",
       "        vertical-align: top;\n",
       "    }\n",
       "\n",
       "    .dataframe thead th {\n",
       "        text-align: right;\n",
       "    }\n",
       "</style>\n",
       "<table border=\"1\" class=\"dataframe\">\n",
       "  <thead>\n",
       "    <tr style=\"text-align: right;\">\n",
       "      <th></th>\n",
       "      <th>ags5</th>\n",
       "      <th>date</th>\n",
       "      <th>unemployment_rate</th>\n",
       "      <th>ags2</th>\n",
       "    </tr>\n",
       "  </thead>\n",
       "  <tbody>\n",
       "    <tr>\n",
       "      <th>0</th>\n",
       "      <td>01001</td>\n",
       "      <td>2010-01-31</td>\n",
       "      <td>13.7</td>\n",
       "      <td>01</td>\n",
       "    </tr>\n",
       "    <tr>\n",
       "      <th>1</th>\n",
       "      <td>01001</td>\n",
       "      <td>2010-02-28</td>\n",
       "      <td>14.1</td>\n",
       "      <td>01</td>\n",
       "    </tr>\n",
       "    <tr>\n",
       "      <th>2</th>\n",
       "      <td>01001</td>\n",
       "      <td>2010-03-31</td>\n",
       "      <td>13.6</td>\n",
       "      <td>01</td>\n",
       "    </tr>\n",
       "    <tr>\n",
       "      <th>3</th>\n",
       "      <td>01001</td>\n",
       "      <td>2010-04-30</td>\n",
       "      <td>13.1</td>\n",
       "      <td>01</td>\n",
       "    </tr>\n",
       "    <tr>\n",
       "      <th>4</th>\n",
       "      <td>01001</td>\n",
       "      <td>2010-05-31</td>\n",
       "      <td>12.5</td>\n",
       "      <td>01</td>\n",
       "    </tr>\n",
       "  </tbody>\n",
       "</table>\n",
       "</div>"
      ],
      "text/plain": [
       "    ags5        date  unemployment_rate ags2\n",
       "0  01001  2010-01-31               13.7   01\n",
       "1  01001  2010-02-28               14.1   01\n",
       "2  01001  2010-03-31               13.6   01\n",
       "3  01001  2010-04-30               13.1   01\n",
       "4  01001  2010-05-31               12.5   01"
      ]
     },
     "execution_count": 7,
     "metadata": {},
     "output_type": "execute_result"
    }
   ],
   "source": [
    "# Add AGS 2\n",
    "def get_ags2(x):\n",
    "    return x[0:2]\n",
    "\n",
    "df['ags2'] = df['ags5'].apply(get_ags2)\n",
    "df.head()"
   ]
  },
  {
   "cell_type": "markdown",
   "id": "4e72b195",
   "metadata": {},
   "source": [
    "## ML Flow Experiment Setup "
   ]
  },
  {
   "cell_type": "code",
   "execution_count": 8,
   "id": "2ead061a",
   "metadata": {},
   "outputs": [],
   "source": [
    "def train_heirarchical_cluster_model(data, agregate_col, params, cluster_type=\"ags2\"):\n",
    "    \n",
    "    ''' Generate a run name '''\n",
    "    run_name = 'hierarchical_' + '_'.join(list(params.values())[0:2])\n",
    "    \n",
    "    with mlflow.start_run(run_name=run_name):\n",
    "        \n",
    "        # Create a list of kreis\n",
    "        kreis_list = list(data['ags5'].unique())\n",
    "        \n",
    "        ''' Generate the dataset from the cluster with the ags and total summation '''\n",
    "        print(\"Generating the hierarchical dataset...\")\n",
    "    \n",
    "        # Filter Data by relevant columns \n",
    "        relevant_cols = ['ags5', 'unemployment_rate', 'date']\n",
    "        relevant_cols.append(agregate_col)\n",
    "        df = data[relevant_cols]\n",
    "    \n",
    "        # Get bottom level data - ags5\n",
    "        df_ags5 = df.pivot(index=\"date\", columns=\"ags5\", values=\"unemployment_rate\")\n",
    "        \n",
    "        # Get middle level data - aggregate_col\n",
    "        df_middle = df.groupby([\"date\", agregate_col]).sum().reset_index(drop=False).pivot(index=\"date\", \n",
    "                                                                           columns=agregate_col, \n",
    "                                                                           values=\"unemployment_rate\")\n",
    "        \n",
    "        print(f\"Got {df_middle.shape[1]} clusters..\")\n",
    "        \n",
    "        # Get the top level data\n",
    "        df_total = df.groupby(\"date\")[\"unemployment_rate\"].sum().to_frame().rename(columns={\"unemployment_rate\": \"total\"})\n",
    "        \n",
    "        # Join the data frames\n",
    "        hdf = df_ags5.join(df_middle).join(df_total)\n",
    "\n",
    "        # Set the index in datetime format\n",
    "        hdf.index = pd.to_datetime(hdf.index)\n",
    "        \n",
    "        print(\"The dataset size is\", hdf.shape)\n",
    "        \n",
    "        # Create the hierarchical cluster set \n",
    "        cluster_set = df.groupby(agregate_col)['ags5'].apply(lambda x: list(set(x))).to_dict()\n",
    "        \n",
    "        # Add total to the dictionary\n",
    "        cluster_set['total'] = list(cluster_set.keys())\n",
    "    \n",
    "        ''' Model Fitting '''\n",
    "        \n",
    "        # Get the params\n",
    "        model_type = params['model']\n",
    "        rev_type = params['revision_method']\n",
    "        time_steps = params['time_steps']\n",
    "        internal_params = params['model_params']\n",
    "        \n",
    "        # Divide the data into train and test sets\n",
    "        train_hdf = hdf.head(len(hdf) - time_steps)\n",
    "        test_hdf = hdf.tail(time_steps)\n",
    "        \n",
    "        print(f\"Fitting the model {model_type} with revision method {rev_type}.\")\n",
    "        \n",
    "        # Fit the model \n",
    "        hts_model = HTSRegressor(model=model_type, revision_method=rev_type, n_jobs=0, **internal_params)\n",
    "        hts_model.fit(train_hdf, cluster_set)\n",
    "        \n",
    "        print(f\"Predicting for the next {time_steps} time steps.\")\n",
    "        \n",
    "        # Get the predictions \n",
    "        preds = hts_model.predict(steps_ahead=time_steps)\n",
    "        \n",
    "        ''' Model Evaluation '''\n",
    "        \n",
    "        # Get the predicted vales \n",
    "        actual_preds = preds.tail(time_steps)\n",
    "        \n",
    "        # Check if there are negative values in the predictions \n",
    "        negative_pred = (actual_preds < 0).values.any()\n",
    "        if negative_pred:\n",
    "            print(\"There are negative values in the predictions.\")\n",
    "        else: \n",
    "            print(\"No negative values found in the predictions\")\n",
    "            \n",
    "        # Check if the prediction and test have the same size\n",
    "        assert actual_preds.shape[0] == test_hdf.shape[0]\n",
    "        \n",
    "        # Calculate the mse for each kreis\n",
    "        total_mse = 0\n",
    "        total_rmse = 0\n",
    "        for kreis in kreis_list: \n",
    "            total_mse  += mean_squared_error(y_pred=actual_preds[kreis].values, y_true=test_hdf[kreis].values, squared=True)\n",
    "            total_rmse += mean_squared_error(y_pred=actual_preds[kreis].values, y_true=test_hdf[kreis].values, squared=False)\n",
    "#             print(total_mse, total_rmse)\n",
    "        \n",
    "        # Calculate average mse \n",
    "        average_mse = total_mse/len(kreis_list)\n",
    "        average_rmse = total_rmse/len(kreis_list)\n",
    "        print(\"The average error is:\", average_mse)\n",
    "        \n",
    "        \n",
    "        ''' Log experiment details in ML Flow '''\n",
    "        # Log params\n",
    "        mlflow.log_params(params)\n",
    "        mlflow.log_params(internal_params)\n",
    "        mlflow.log_param(\"Cluster Type\", cluster_type)\n",
    "        mlflow.log_param(\"Cluster Set\", cluster_set)\n",
    "        \n",
    "        # Log metrics\n",
    "        mlflow.log_metric(\"mse\", average_mse)\n",
    "        mlflow.log_metric(\"rmse\", average_rmse)\n",
    "        \n",
    "        negative_pred = 1 if negative_pred else 0 \n",
    "        mlflow.log_metric(\"negative_preds\", negative_pred)        \n",
    "        \n",
    "        return preds\n",
    "        \n",
    "        \n",
    "        "
   ]
  },
  {
   "cell_type": "markdown",
   "id": "1778f395",
   "metadata": {},
   "source": [
    "## Model Testing and Parameter tuning"
   ]
  },
  {
   "cell_type": "code",
   "execution_count": 65,
   "id": "bb576cef",
   "metadata": {
    "scrolled": true
   },
   "outputs": [
    {
     "name": "stdout",
     "output_type": "stream",
     "text": [
      "Generating the hierarchical dataset...\n",
      "Got 16 clusters..\n",
      "The dataset size is (120, 418)\n",
      "Fitting the model sarimax with revision method BU.\n"
     ]
    },
    {
     "name": "stderr",
     "output_type": "stream",
     "text": [
      "Fitting models: 100%|████████████████████████████████████████████████████████████████| 418/418 [02:24<00:00,  2.90it/s]\n",
      "Fitting models:   8%|████▉                                                           | 32/418 [00:00<00:02, 163.91it/s]"
     ]
    },
    {
     "name": "stdout",
     "output_type": "stream",
     "text": [
      "Predicting for the next 12 time steps.\n"
     ]
    },
    {
     "name": "stderr",
     "output_type": "stream",
     "text": [
      "Fitting models: 100%|███████████████████████████████████████████████████████████████| 418/418 [00:02<00:00, 183.24it/s]\n"
     ]
    },
    {
     "name": "stdout",
     "output_type": "stream",
     "text": [
      "No negative values found in the predictions\n",
      "The average error is: 0.7136935475057907\n"
     ]
    }
   ],
   "source": [
    "# Set the params \n",
    "params = {\n",
    "    'model':'sarimax',\n",
    "    'revision_method':'BU',\n",
    "    'time_steps': 12,\n",
    "    'model_params': {\n",
    "        'order': (2, 2, 2)\n",
    "    }\n",
    "}\n",
    "\n",
    "# Run the function \n",
    "predictions = train_heirarchical_cluster_model(data=df,\n",
    "                                 agregate_col='ags2', \n",
    "                                 params=params,\n",
    "                                 cluster_type=\"ags2\")"
   ]
  },
  {
   "cell_type": "markdown",
   "id": "5202ecbe",
   "metadata": {},
   "source": [
    "Revision types to the model.\n",
    "\n",
    "* **AHP** — average historical proportions (top-down approach),\n",
    "* **PHA** — proportions of historical averages (top-down approach),\n",
    "* **FP** — the forecasted proportions (top-down approach),\n",
    "* **OLS** — the optimal combination using OLS,\n",
    "* **WLSS** - optimal combination using structurally weighted OLS,\n",
    "* **WLSV** - optimal combination using variance-weighted OLS."
   ]
  },
  {
   "cell_type": "markdown",
   "id": "3114bf88",
   "metadata": {},
   "source": [
    "### Run revision iterations"
   ]
  },
  {
   "cell_type": "code",
   "execution_count": 63,
   "id": "6c62b270",
   "metadata": {
    "scrolled": true
   },
   "outputs": [
    {
     "name": "stdout",
     "output_type": "stream",
     "text": [
      "Model: sarimax and Revision: BU\n",
      "Generating the hierarchical dataset...\n",
      "Got 16 clusters..\n",
      "The dataset size is (120, 418)\n",
      "Fitting the model sarimax with revision method BU.\n"
     ]
    },
    {
     "name": "stderr",
     "output_type": "stream",
     "text": [
      "Fitting models: 100%|████████████████████████████████████████████████████████████████| 418/418 [01:59<00:00,  3.49it/s]\n",
      "Fitting models:   5%|███▏                                                            | 21/418 [00:00<00:02, 188.54it/s]"
     ]
    },
    {
     "name": "stdout",
     "output_type": "stream",
     "text": [
      "Predicting for the next 12 time steps.\n"
     ]
    },
    {
     "name": "stderr",
     "output_type": "stream",
     "text": [
      "Fitting models: 100%|███████████████████████████████████████████████████████████████| 418/418 [00:02<00:00, 148.26it/s]\n"
     ]
    },
    {
     "name": "stdout",
     "output_type": "stream",
     "text": [
      "No negative values found in the predictions\n",
      "The average error is: 0.14641924858639638\n",
      "Model: sarimax and Revision: AHP\n",
      "Generating the hierarchical dataset...\n",
      "Got 16 clusters..\n",
      "The dataset size is (120, 418)\n",
      "Fitting the model sarimax with revision method AHP.\n"
     ]
    },
    {
     "name": "stderr",
     "output_type": "stream",
     "text": [
      "Fitting models: 100%|████████████████████████████████████████████████████████████████| 418/418 [02:35<00:00,  2.69it/s]\n",
      "Fitting models:   3%|█▉                                                              | 13/418 [00:00<00:03, 118.30it/s]"
     ]
    },
    {
     "name": "stdout",
     "output_type": "stream",
     "text": [
      "Predicting for the next 12 time steps.\n"
     ]
    },
    {
     "name": "stderr",
     "output_type": "stream",
     "text": [
      "Fitting models: 100%|███████████████████████████████████████████████████████████████| 418/418 [00:03<00:00, 134.95it/s]\n"
     ]
    },
    {
     "name": "stdout",
     "output_type": "stream",
     "text": [
      "No negative values found in the predictions\n",
      "The average error is: 0.4131294997850292\n",
      "Model: sarimax and Revision: PHA\n",
      "Generating the hierarchical dataset...\n",
      "Got 16 clusters..\n",
      "The dataset size is (120, 418)\n",
      "Fitting the model sarimax with revision method PHA.\n"
     ]
    },
    {
     "name": "stderr",
     "output_type": "stream",
     "text": [
      "Fitting models: 100%|████████████████████████████████████████████████████████████████| 418/418 [02:48<00:00,  2.49it/s]\n",
      "Fitting models:   6%|███▌                                                            | 23/418 [00:00<00:01, 223.80it/s]"
     ]
    },
    {
     "name": "stdout",
     "output_type": "stream",
     "text": [
      "Predicting for the next 12 time steps.\n"
     ]
    },
    {
     "name": "stderr",
     "output_type": "stream",
     "text": [
      "Fitting models: 100%|███████████████████████████████████████████████████████████████| 418/418 [00:02<00:00, 196.82it/s]\n"
     ]
    },
    {
     "name": "stdout",
     "output_type": "stream",
     "text": [
      "No negative values found in the predictions\n",
      "The average error is: 0.4528342008754722\n",
      "Model: sarimax and Revision: FP\n",
      "Generating the hierarchical dataset...\n",
      "Got 16 clusters..\n",
      "The dataset size is (120, 418)\n",
      "Fitting the model sarimax with revision method FP.\n"
     ]
    },
    {
     "name": "stderr",
     "output_type": "stream",
     "text": [
      "Fitting models: 100%|████████████████████████████████████████████████████████████████| 418/418 [02:31<00:00,  2.76it/s]\n",
      "Fitting models:   5%|███                                                             | 20/418 [00:00<00:02, 195.49it/s]"
     ]
    },
    {
     "name": "stdout",
     "output_type": "stream",
     "text": [
      "Predicting for the next 12 time steps.\n"
     ]
    },
    {
     "name": "stderr",
     "output_type": "stream",
     "text": [
      "Fitting models: 100%|███████████████████████████████████████████████████████████████| 418/418 [00:02<00:00, 158.64it/s]\n"
     ]
    },
    {
     "name": "stdout",
     "output_type": "stream",
     "text": [
      "(16, 120)\n",
      "No negative values found in the predictions\n",
      "The average error is: 26.527558187863697\n",
      "Model: sarimax and Revision: OLS\n",
      "Generating the hierarchical dataset...\n",
      "Got 16 clusters..\n",
      "The dataset size is (120, 418)\n",
      "Fitting the model sarimax with revision method OLS.\n"
     ]
    },
    {
     "name": "stderr",
     "output_type": "stream",
     "text": [
      "Fitting models: 100%|████████████████████████████████████████████████████████████████| 418/418 [02:51<00:00,  2.44it/s]\n",
      "Fitting models:  11%|██████▋                                                         | 44/418 [00:00<00:01, 215.32it/s]"
     ]
    },
    {
     "name": "stdout",
     "output_type": "stream",
     "text": [
      "Predicting for the next 12 time steps.\n"
     ]
    },
    {
     "name": "stderr",
     "output_type": "stream",
     "text": [
      "Fitting models: 100%|███████████████████████████████████████████████████████████████| 418/418 [00:02<00:00, 202.81it/s]\n"
     ]
    },
    {
     "name": "stdout",
     "output_type": "stream",
     "text": [
      "There are negative values in the predictions.\n",
      "The average error is: 87.64391731569015\n",
      "Model: sarimax and Revision: WLSS\n",
      "Generating the hierarchical dataset...\n",
      "Got 16 clusters..\n",
      "The dataset size is (120, 418)\n",
      "Fitting the model sarimax with revision method WLSS.\n"
     ]
    },
    {
     "name": "stderr",
     "output_type": "stream",
     "text": [
      "Fitting models: 100%|████████████████████████████████████████████████████████████████| 418/418 [03:00<00:00,  2.32it/s]\n",
      "Fitting models:   5%|██▉                                                             | 19/418 [00:00<00:02, 184.46it/s]"
     ]
    },
    {
     "name": "stdout",
     "output_type": "stream",
     "text": [
      "Predicting for the next 12 time steps.\n"
     ]
    },
    {
     "name": "stderr",
     "output_type": "stream",
     "text": [
      "Fitting models: 100%|███████████████████████████████████████████████████████████████| 418/418 [00:02<00:00, 162.99it/s]\n"
     ]
    },
    {
     "name": "stdout",
     "output_type": "stream",
     "text": [
      "There are negative values in the predictions.\n",
      "The average error is: 4.829053266776892\n",
      "Model: sarimax and Revision: WLSV\n",
      "Generating the hierarchical dataset...\n",
      "Got 16 clusters..\n",
      "The dataset size is (120, 418)\n",
      "Fitting the model sarimax with revision method WLSV.\n"
     ]
    },
    {
     "name": "stderr",
     "output_type": "stream",
     "text": [
      "Fitting models: 100%|████████████████████████████████████████████████████████████████| 418/418 [02:28<00:00,  2.82it/s]\n",
      "Fitting models:  10%|██████▌                                                         | 43/418 [00:00<00:01, 214.60it/s]"
     ]
    },
    {
     "name": "stdout",
     "output_type": "stream",
     "text": [
      "Predicting for the next 12 time steps.\n"
     ]
    },
    {
     "name": "stderr",
     "output_type": "stream",
     "text": [
      "Fitting models: 100%|███████████████████████████████████████████████████████████████| 418/418 [00:01<00:00, 230.29it/s]\n"
     ]
    },
    {
     "name": "stdout",
     "output_type": "stream",
     "text": [
      "There are negative values in the predictions.\n",
      "The average error is: 108.12431593973784\n"
     ]
    }
   ],
   "source": [
    "# Run all combinations for models \n",
    "model_types = ['sarimax']\n",
    "revisions = ['BU', 'AHP', 'PHA', 'FP', 'OLS', 'WLSS', 'WLSV']\n",
    "\n",
    "# Set the params \n",
    "params = {\n",
    "    'model':'sarimax',\n",
    "    'revision_method':'BU',\n",
    "    'time_steps': 12,\n",
    "    'model_params': {\n",
    "        'order': (2, 1, 2)\n",
    "    }\n",
    "}\n",
    "\n",
    "for m in model_types:\n",
    "    for r in revisions:\n",
    "        print(f\"Model: {m} and Revision: {r}\")\n",
    "        \n",
    "        # Change params \n",
    "        params['model'] = m\n",
    "        params['revision_method'] = r\n",
    "        \n",
    "        # Run the prediction model  \n",
    "        predictions = train_heirarchical_cluster_model(data=df,\n",
    "                                         agregate_col='ags2', \n",
    "                                         params=params)"
   ]
  },
  {
   "cell_type": "markdown",
   "id": "1faba942",
   "metadata": {},
   "source": [
    "## Models with custom clusters"
   ]
  },
  {
   "cell_type": "code",
   "execution_count": 9,
   "id": "66318d8f",
   "metadata": {},
   "outputs": [
    {
     "name": "stdout",
     "output_type": "stream",
     "text": [
      "original cluster data\n",
      "0    332\n",
      "2     67\n",
      "1      2\n",
      "Name: cluster, dtype: int64\n",
      "New data\n",
      "0    332\n",
      "2     67\n",
      "1      2\n",
      "Name: cluster, dtype: int64\n"
     ]
    }
   ],
   "source": [
    "# read the pca clusters by Amit \n",
    "cluster1 = pd.read_csv('df_final_stationary.csv', converters={'ags5':str, 'cluster':str})\n",
    "cluster1_input = add_column_to_main_data(df, cluster1, 'cluster')"
   ]
  },
  {
   "cell_type": "code",
   "execution_count": 15,
   "id": "20dbd864",
   "metadata": {},
   "outputs": [
    {
     "name": "stdout",
     "output_type": "stream",
     "text": [
      "Generating the hierarchical dataset...\n",
      "Got 3 clusters..\n",
      "The dataset size is (120, 405)\n",
      "Fitting the model sarimax with revision method BU.\n"
     ]
    },
    {
     "name": "stderr",
     "output_type": "stream",
     "text": [
      "Fitting models: 100%|████████████████████████████████████████████████████████████████| 405/405 [02:24<00:00,  2.80it/s]\n",
      "Fitting models:   2%|█▌                                                               | 10/405 [00:00<00:04, 96.29it/s]"
     ]
    },
    {
     "name": "stdout",
     "output_type": "stream",
     "text": [
      "Predicting for the next 12 time steps.\n"
     ]
    },
    {
     "name": "stderr",
     "output_type": "stream",
     "text": [
      "Fitting models: 100%|███████████████████████████████████████████████████████████████| 405/405 [00:03<00:00, 108.05it/s]\n"
     ]
    },
    {
     "name": "stdout",
     "output_type": "stream",
     "text": [
      "No negative values found in the predictions\n",
      "The average error is: 0.33549409016305043\n"
     ]
    }
   ],
   "source": [
    "# Set the params \n",
    "params = {\n",
    "    'model':'sarimax',\n",
    "    'revision_method':'BU',\n",
    "    'time_steps': 12,\n",
    "    'model_params': {\n",
    "        'order': (1, 1, 2),\n",
    "        'Seasonal_order': (1, 0, 2, 12),\n",
    "        'trend': 't'\n",
    "    }\n",
    "}\n",
    "\n",
    "# Run the function \n",
    "predictions = train_heirarchical_cluster_model(data=cluster1_input,\n",
    "                                 agregate_col='cluster', \n",
    "                                 params=params,\n",
    "                                 cluster_type=\"pca clusters \")"
   ]
  },
  {
   "cell_type": "code",
   "execution_count": 12,
   "id": "d7050b86",
   "metadata": {},
   "outputs": [
    {
     "data": {
      "text/html": [
       "<div>\n",
       "<style scoped>\n",
       "    .dataframe tbody tr th:only-of-type {\n",
       "        vertical-align: middle;\n",
       "    }\n",
       "\n",
       "    .dataframe tbody tr th {\n",
       "        vertical-align: top;\n",
       "    }\n",
       "\n",
       "    .dataframe thead th {\n",
       "        text-align: right;\n",
       "    }\n",
       "</style>\n",
       "<table border=\"1\" class=\"dataframe\">\n",
       "  <thead>\n",
       "    <tr style=\"text-align: right;\">\n",
       "      <th></th>\n",
       "      <th>total</th>\n",
       "      <th>0</th>\n",
       "      <th>1</th>\n",
       "      <th>2</th>\n",
       "      <th>12072</th>\n",
       "      <th>09778</th>\n",
       "      <th>15084</th>\n",
       "      <th>09279</th>\n",
       "      <th>05512</th>\n",
       "      <th>07336</th>\n",
       "      <th>...</th>\n",
       "      <th>05566</th>\n",
       "      <th>05114</th>\n",
       "      <th>05119</th>\n",
       "      <th>05954</th>\n",
       "      <th>04011</th>\n",
       "      <th>05513</th>\n",
       "      <th>08311</th>\n",
       "      <th>06413</th>\n",
       "      <th>06412</th>\n",
       "      <th>05162</th>\n",
       "    </tr>\n",
       "  </thead>\n",
       "  <tbody>\n",
       "    <tr>\n",
       "      <th>2010-01-31</th>\n",
       "      <td>0.000000</td>\n",
       "      <td>0.000000</td>\n",
       "      <td>0.000000</td>\n",
       "      <td>0.000000</td>\n",
       "      <td>0.000000</td>\n",
       "      <td>0.000000</td>\n",
       "      <td>0.000000</td>\n",
       "      <td>0.000000</td>\n",
       "      <td>0.000000</td>\n",
       "      <td>0.000000</td>\n",
       "      <td>...</td>\n",
       "      <td>0.000000</td>\n",
       "      <td>0.000000</td>\n",
       "      <td>0.000000</td>\n",
       "      <td>0.000000</td>\n",
       "      <td>0.000000</td>\n",
       "      <td>0.000000</td>\n",
       "      <td>0.000000</td>\n",
       "      <td>0.000000</td>\n",
       "      <td>0.000000</td>\n",
       "      <td>0.000000</td>\n",
       "    </tr>\n",
       "    <tr>\n",
       "      <th>2010-02-28</th>\n",
       "      <td>3215.728277</td>\n",
       "      <td>2696.158623</td>\n",
       "      <td>45.068760</td>\n",
       "      <td>697.441771</td>\n",
       "      <td>10.182352</td>\n",
       "      <td>21.029312</td>\n",
       "      <td>14.885475</td>\n",
       "      <td>25.263996</td>\n",
       "      <td>9.188157</td>\n",
       "      <td>10.441419</td>\n",
       "      <td>...</td>\n",
       "      <td>11.097031</td>\n",
       "      <td>11.507215</td>\n",
       "      <td>11.975326</td>\n",
       "      <td>41.476504</td>\n",
       "      <td>11.242676</td>\n",
       "      <td>14.017330</td>\n",
       "      <td>-2942.708510</td>\n",
       "      <td>7.599474</td>\n",
       "      <td>-582.215430</td>\n",
       "      <td>-883.080275</td>\n",
       "    </tr>\n",
       "    <tr>\n",
       "      <th>2010-03-31</th>\n",
       "      <td>3226.877372</td>\n",
       "      <td>2714.953146</td>\n",
       "      <td>45.084134</td>\n",
       "      <td>698.529681</td>\n",
       "      <td>10.182333</td>\n",
       "      <td>20.900868</td>\n",
       "      <td>14.878815</td>\n",
       "      <td>25.414209</td>\n",
       "      <td>9.306414</td>\n",
       "      <td>10.709941</td>\n",
       "      <td>...</td>\n",
       "      <td>11.349092</td>\n",
       "      <td>11.499709</td>\n",
       "      <td>11.972892</td>\n",
       "      <td>41.479253</td>\n",
       "      <td>11.348171</td>\n",
       "      <td>14.370025</td>\n",
       "      <td>-2974.766544</td>\n",
       "      <td>7.441088</td>\n",
       "      <td>-582.829469</td>\n",
       "      <td>-883.886904</td>\n",
       "    </tr>\n",
       "    <tr>\n",
       "      <th>2010-04-30</th>\n",
       "      <td>3089.899632</td>\n",
       "      <td>2582.290753</td>\n",
       "      <td>43.701448</td>\n",
       "      <td>683.159944</td>\n",
       "      <td>10.025183</td>\n",
       "      <td>19.837872</td>\n",
       "      <td>14.451293</td>\n",
       "      <td>24.037783</td>\n",
       "      <td>9.146713</td>\n",
       "      <td>10.266229</td>\n",
       "      <td>...</td>\n",
       "      <td>10.714932</td>\n",
       "      <td>11.417884</td>\n",
       "      <td>11.597963</td>\n",
       "      <td>39.995974</td>\n",
       "      <td>11.310055</td>\n",
       "      <td>14.047799</td>\n",
       "      <td>-2839.609260</td>\n",
       "      <td>7.906260</td>\n",
       "      <td>-559.510517</td>\n",
       "      <td>-848.899184</td>\n",
       "    </tr>\n",
       "    <tr>\n",
       "      <th>2010-05-31</th>\n",
       "      <td>2895.340039</td>\n",
       "      <td>2385.678012</td>\n",
       "      <td>42.269617</td>\n",
       "      <td>669.221364</td>\n",
       "      <td>9.191637</td>\n",
       "      <td>18.232475</td>\n",
       "      <td>13.826904</td>\n",
       "      <td>22.192561</td>\n",
       "      <td>8.941844</td>\n",
       "      <td>9.698692</td>\n",
       "      <td>...</td>\n",
       "      <td>10.170271</td>\n",
       "      <td>11.386776</td>\n",
       "      <td>11.628856</td>\n",
       "      <td>38.293974</td>\n",
       "      <td>11.139743</td>\n",
       "      <td>13.786346</td>\n",
       "      <td>-2638.018427</td>\n",
       "      <td>8.014611</td>\n",
       "      <td>-523.003082</td>\n",
       "      <td>-793.764342</td>\n",
       "    </tr>\n",
       "    <tr>\n",
       "      <th>...</th>\n",
       "      <td>...</td>\n",
       "      <td>...</td>\n",
       "      <td>...</td>\n",
       "      <td>...</td>\n",
       "      <td>...</td>\n",
       "      <td>...</td>\n",
       "      <td>...</td>\n",
       "      <td>...</td>\n",
       "      <td>...</td>\n",
       "      <td>...</td>\n",
       "      <td>...</td>\n",
       "      <td>...</td>\n",
       "      <td>...</td>\n",
       "      <td>...</td>\n",
       "      <td>...</td>\n",
       "      <td>...</td>\n",
       "      <td>...</td>\n",
       "      <td>...</td>\n",
       "      <td>...</td>\n",
       "      <td>...</td>\n",
       "      <td>...</td>\n",
       "    </tr>\n",
       "    <tr>\n",
       "      <th>2019-01-08</th>\n",
       "      <td>1870.549771</td>\n",
       "      <td>1518.064902</td>\n",
       "      <td>26.153477</td>\n",
       "      <td>467.398122</td>\n",
       "      <td>4.303086</td>\n",
       "      <td>11.741827</td>\n",
       "      <td>6.451676</td>\n",
       "      <td>14.673506</td>\n",
       "      <td>6.539645</td>\n",
       "      <td>6.311926</td>\n",
       "      <td>...</td>\n",
       "      <td>7.372984</td>\n",
       "      <td>9.432014</td>\n",
       "      <td>9.764160</td>\n",
       "      <td>24.361509</td>\n",
       "      <td>8.980641</td>\n",
       "      <td>11.723917</td>\n",
       "      <td>-1685.192373</td>\n",
       "      <td>6.428440</td>\n",
       "      <td>-334.227292</td>\n",
       "      <td>-506.557753</td>\n",
       "    </tr>\n",
       "    <tr>\n",
       "      <th>2019-01-09</th>\n",
       "      <td>1820.539344</td>\n",
       "      <td>1469.532761</td>\n",
       "      <td>25.830131</td>\n",
       "      <td>460.427221</td>\n",
       "      <td>4.304600</td>\n",
       "      <td>11.361734</td>\n",
       "      <td>6.454733</td>\n",
       "      <td>14.238765</td>\n",
       "      <td>6.402435</td>\n",
       "      <td>6.122587</td>\n",
       "      <td>...</td>\n",
       "      <td>7.205529</td>\n",
       "      <td>9.442798</td>\n",
       "      <td>9.607117</td>\n",
       "      <td>23.808067</td>\n",
       "      <td>8.982978</td>\n",
       "      <td>11.613547</td>\n",
       "      <td>-1642.455563</td>\n",
       "      <td>6.496742</td>\n",
       "      <td>-327.472522</td>\n",
       "      <td>-496.372498</td>\n",
       "    </tr>\n",
       "    <tr>\n",
       "      <th>2019-01-10</th>\n",
       "      <td>1758.174544</td>\n",
       "      <td>1410.236353</td>\n",
       "      <td>25.456686</td>\n",
       "      <td>445.793594</td>\n",
       "      <td>4.306123</td>\n",
       "      <td>10.858396</td>\n",
       "      <td>6.465435</td>\n",
       "      <td>13.723825</td>\n",
       "      <td>6.317931</td>\n",
       "      <td>5.962557</td>\n",
       "      <td>...</td>\n",
       "      <td>6.942239</td>\n",
       "      <td>9.456235</td>\n",
       "      <td>9.437773</td>\n",
       "      <td>23.111879</td>\n",
       "      <td>8.985992</td>\n",
       "      <td>11.506725</td>\n",
       "      <td>-1586.426256</td>\n",
       "      <td>6.585278</td>\n",
       "      <td>-320.279588</td>\n",
       "      <td>-485.526819</td>\n",
       "    </tr>\n",
       "    <tr>\n",
       "      <th>2019-01-11</th>\n",
       "      <td>1745.483458</td>\n",
       "      <td>1398.980761</td>\n",
       "      <td>25.405595</td>\n",
       "      <td>438.105374</td>\n",
       "      <td>4.306810</td>\n",
       "      <td>10.733410</td>\n",
       "      <td>6.470204</td>\n",
       "      <td>13.641405</td>\n",
       "      <td>6.372121</td>\n",
       "      <td>5.992824</td>\n",
       "      <td>...</td>\n",
       "      <td>6.846372</td>\n",
       "      <td>9.459666</td>\n",
       "      <td>9.426463</td>\n",
       "      <td>22.965973</td>\n",
       "      <td>8.986722</td>\n",
       "      <td>11.510666</td>\n",
       "      <td>-1572.964348</td>\n",
       "      <td>6.607098</td>\n",
       "      <td>-319.834288</td>\n",
       "      <td>-484.855292</td>\n",
       "    </tr>\n",
       "    <tr>\n",
       "      <th>2019-01-12</th>\n",
       "      <td>1793.963307</td>\n",
       "      <td>1445.845359</td>\n",
       "      <td>25.721216</td>\n",
       "      <td>444.994823</td>\n",
       "      <td>4.306708</td>\n",
       "      <td>11.105144</td>\n",
       "      <td>6.464211</td>\n",
       "      <td>14.064815</td>\n",
       "      <td>6.509701</td>\n",
       "      <td>6.177192</td>\n",
       "      <td>...</td>\n",
       "      <td>7.012042</td>\n",
       "      <td>9.449995</td>\n",
       "      <td>9.584536</td>\n",
       "      <td>23.504894</td>\n",
       "      <td>8.984503</td>\n",
       "      <td>11.620998</td>\n",
       "      <td>-1614.628027</td>\n",
       "      <td>6.542599</td>\n",
       "      <td>-326.382432</td>\n",
       "      <td>-494.728568</td>\n",
       "    </tr>\n",
       "  </tbody>\n",
       "</table>\n",
       "<p>120 rows × 405 columns</p>\n",
       "</div>"
      ],
      "text/plain": [
       "                  total            0          1           2      12072  \\\n",
       "2010-01-31     0.000000     0.000000   0.000000    0.000000   0.000000   \n",
       "2010-02-28  3215.728277  2696.158623  45.068760  697.441771  10.182352   \n",
       "2010-03-31  3226.877372  2714.953146  45.084134  698.529681  10.182333   \n",
       "2010-04-30  3089.899632  2582.290753  43.701448  683.159944  10.025183   \n",
       "2010-05-31  2895.340039  2385.678012  42.269617  669.221364   9.191637   \n",
       "...                 ...          ...        ...         ...        ...   \n",
       "2019-01-08  1870.549771  1518.064902  26.153477  467.398122   4.303086   \n",
       "2019-01-09  1820.539344  1469.532761  25.830131  460.427221   4.304600   \n",
       "2019-01-10  1758.174544  1410.236353  25.456686  445.793594   4.306123   \n",
       "2019-01-11  1745.483458  1398.980761  25.405595  438.105374   4.306810   \n",
       "2019-01-12  1793.963307  1445.845359  25.721216  444.994823   4.306708   \n",
       "\n",
       "                09778      15084      09279     05512      07336  ...  \\\n",
       "2010-01-31   0.000000   0.000000   0.000000  0.000000   0.000000  ...   \n",
       "2010-02-28  21.029312  14.885475  25.263996  9.188157  10.441419  ...   \n",
       "2010-03-31  20.900868  14.878815  25.414209  9.306414  10.709941  ...   \n",
       "2010-04-30  19.837872  14.451293  24.037783  9.146713  10.266229  ...   \n",
       "2010-05-31  18.232475  13.826904  22.192561  8.941844   9.698692  ...   \n",
       "...               ...        ...        ...       ...        ...  ...   \n",
       "2019-01-08  11.741827   6.451676  14.673506  6.539645   6.311926  ...   \n",
       "2019-01-09  11.361734   6.454733  14.238765  6.402435   6.122587  ...   \n",
       "2019-01-10  10.858396   6.465435  13.723825  6.317931   5.962557  ...   \n",
       "2019-01-11  10.733410   6.470204  13.641405  6.372121   5.992824  ...   \n",
       "2019-01-12  11.105144   6.464211  14.064815  6.509701   6.177192  ...   \n",
       "\n",
       "                05566      05114      05119      05954      04011      05513  \\\n",
       "2010-01-31   0.000000   0.000000   0.000000   0.000000   0.000000   0.000000   \n",
       "2010-02-28  11.097031  11.507215  11.975326  41.476504  11.242676  14.017330   \n",
       "2010-03-31  11.349092  11.499709  11.972892  41.479253  11.348171  14.370025   \n",
       "2010-04-30  10.714932  11.417884  11.597963  39.995974  11.310055  14.047799   \n",
       "2010-05-31  10.170271  11.386776  11.628856  38.293974  11.139743  13.786346   \n",
       "...               ...        ...        ...        ...        ...        ...   \n",
       "2019-01-08   7.372984   9.432014   9.764160  24.361509   8.980641  11.723917   \n",
       "2019-01-09   7.205529   9.442798   9.607117  23.808067   8.982978  11.613547   \n",
       "2019-01-10   6.942239   9.456235   9.437773  23.111879   8.985992  11.506725   \n",
       "2019-01-11   6.846372   9.459666   9.426463  22.965973   8.986722  11.510666   \n",
       "2019-01-12   7.012042   9.449995   9.584536  23.504894   8.984503  11.620998   \n",
       "\n",
       "                  08311     06413       06412       05162  \n",
       "2010-01-31     0.000000  0.000000    0.000000    0.000000  \n",
       "2010-02-28 -2942.708510  7.599474 -582.215430 -883.080275  \n",
       "2010-03-31 -2974.766544  7.441088 -582.829469 -883.886904  \n",
       "2010-04-30 -2839.609260  7.906260 -559.510517 -848.899184  \n",
       "2010-05-31 -2638.018427  8.014611 -523.003082 -793.764342  \n",
       "...                 ...       ...         ...         ...  \n",
       "2019-01-08 -1685.192373  6.428440 -334.227292 -506.557753  \n",
       "2019-01-09 -1642.455563  6.496742 -327.472522 -496.372498  \n",
       "2019-01-10 -1586.426256  6.585278 -320.279588 -485.526819  \n",
       "2019-01-11 -1572.964348  6.607098 -319.834288 -484.855292  \n",
       "2019-01-12 -1614.628027  6.542599 -326.382432 -494.728568  \n",
       "\n",
       "[120 rows x 405 columns]"
      ]
     },
     "execution_count": 12,
     "metadata": {},
     "output_type": "execute_result"
    }
   ],
   "source": [
    "predictions"
   ]
  },
  {
   "cell_type": "code",
   "execution_count": 90,
   "id": "ef5962a2",
   "metadata": {
    "scrolled": true
   },
   "outputs": [
    {
     "name": "stdout",
     "output_type": "stream",
     "text": [
      "Model: sarimax and Revision: BU\n",
      "Generating the hierarchical dataset...\n",
      "Got 3 clusters..\n",
      "The dataset size is (120, 405)\n",
      "Fitting the model sarimax with revision method BU.\n"
     ]
    },
    {
     "name": "stderr",
     "output_type": "stream",
     "text": [
      "Fitting models: 100%|████████████████████████████████████████████████████████████████| 405/405 [01:59<00:00,  3.40it/s]\n",
      "Fitting models:   9%|██████                                                          | 38/405 [00:00<00:01, 189.69it/s]"
     ]
    },
    {
     "name": "stdout",
     "output_type": "stream",
     "text": [
      "Predicting for the next 12 time steps.\n"
     ]
    },
    {
     "name": "stderr",
     "output_type": "stream",
     "text": [
      "Fitting models: 100%|███████████████████████████████████████████████████████████████| 405/405 [00:01<00:00, 209.39it/s]\n"
     ]
    },
    {
     "name": "stdout",
     "output_type": "stream",
     "text": [
      "No negative values found in the predictions\n",
      "The average error is: 0.14641924858639638\n",
      "Model: sarimax and Revision: AHP\n",
      "Generating the hierarchical dataset...\n",
      "Got 3 clusters..\n",
      "The dataset size is (120, 405)\n",
      "Fitting the model sarimax with revision method AHP.\n"
     ]
    },
    {
     "name": "stderr",
     "output_type": "stream",
     "text": [
      "Fitting models: 100%|████████████████████████████████████████████████████████████████| 405/405 [02:12<00:00,  3.07it/s]\n",
      "Fitting models:   6%|████                                                            | 26/405 [00:00<00:01, 252.15it/s]"
     ]
    },
    {
     "name": "stdout",
     "output_type": "stream",
     "text": [
      "Predicting for the next 12 time steps.\n"
     ]
    },
    {
     "name": "stderr",
     "output_type": "stream",
     "text": [
      "Fitting models: 100%|███████████████████████████████████████████████████████████████| 405/405 [00:01<00:00, 225.90it/s]\n"
     ]
    },
    {
     "name": "stdout",
     "output_type": "stream",
     "text": [
      "No negative values found in the predictions\n",
      "The average error is: 0.4131294997850292\n",
      "Model: sarimax and Revision: PHA\n",
      "Generating the hierarchical dataset...\n",
      "Got 3 clusters..\n",
      "The dataset size is (120, 405)\n",
      "Fitting the model sarimax with revision method PHA.\n"
     ]
    },
    {
     "name": "stderr",
     "output_type": "stream",
     "text": [
      "Fitting models: 100%|████████████████████████████████████████████████████████████████| 405/405 [02:07<00:00,  3.19it/s]\n",
      "Fitting models:   4%|██▌                                                             | 16/405 [00:00<00:02, 150.10it/s]"
     ]
    },
    {
     "name": "stdout",
     "output_type": "stream",
     "text": [
      "Predicting for the next 12 time steps.\n"
     ]
    },
    {
     "name": "stderr",
     "output_type": "stream",
     "text": [
      "Fitting models: 100%|███████████████████████████████████████████████████████████████| 405/405 [00:02<00:00, 194.15it/s]\n"
     ]
    },
    {
     "name": "stdout",
     "output_type": "stream",
     "text": [
      "No negative values found in the predictions\n",
      "The average error is: 0.4528342008754722\n",
      "Model: sarimax and Revision: FP\n",
      "Generating the hierarchical dataset...\n",
      "Got 3 clusters..\n",
      "The dataset size is (120, 405)\n",
      "Fitting the model sarimax with revision method FP.\n"
     ]
    },
    {
     "name": "stderr",
     "output_type": "stream",
     "text": [
      "Fitting models: 100%|████████████████████████████████████████████████████████████████| 405/405 [02:08<00:00,  3.16it/s]\n",
      "Fitting models:   2%|█▍                                                                | 9/405 [00:00<00:04, 87.03it/s]"
     ]
    },
    {
     "name": "stdout",
     "output_type": "stream",
     "text": [
      "Predicting for the next 12 time steps.\n"
     ]
    },
    {
     "name": "stderr",
     "output_type": "stream",
     "text": [
      "Fitting models: 100%|███████████████████████████████████████████████████████████████| 405/405 [00:02<00:00, 153.85it/s]\n"
     ]
    },
    {
     "name": "stdout",
     "output_type": "stream",
     "text": [
      "(3, 120)\n",
      "No negative values found in the predictions\n",
      "The average error is: 26.527558187863697\n",
      "Model: sarimax and Revision: OLS\n",
      "Generating the hierarchical dataset...\n",
      "Got 3 clusters..\n",
      "The dataset size is (120, 405)\n",
      "Fitting the model sarimax with revision method OLS.\n"
     ]
    },
    {
     "name": "stderr",
     "output_type": "stream",
     "text": [
      "Fitting models: 100%|████████████████████████████████████████████████████████████████| 405/405 [01:54<00:00,  3.53it/s]\n",
      "Fitting models:   6%|███▉                                                            | 25/405 [00:00<00:01, 249.18it/s]"
     ]
    },
    {
     "name": "stdout",
     "output_type": "stream",
     "text": [
      "Predicting for the next 12 time steps.\n"
     ]
    },
    {
     "name": "stderr",
     "output_type": "stream",
     "text": [
      "Fitting models: 100%|███████████████████████████████████████████████████████████████| 405/405 [00:01<00:00, 262.21it/s]\n"
     ]
    },
    {
     "name": "stdout",
     "output_type": "stream",
     "text": [
      "There are negative values in the predictions.\n",
      "The average error is: 373.3821404417998\n",
      "Model: sarimax and Revision: WLSS\n",
      "Generating the hierarchical dataset...\n",
      "Got 3 clusters..\n",
      "The dataset size is (120, 405)\n",
      "Fitting the model sarimax with revision method WLSS.\n"
     ]
    },
    {
     "name": "stderr",
     "output_type": "stream",
     "text": [
      "Fitting models: 100%|████████████████████████████████████████████████████████████████| 405/405 [02:38<00:00,  2.56it/s]\n",
      "Fitting models:   6%|███▋                                                            | 23/405 [00:00<00:01, 224.74it/s]"
     ]
    },
    {
     "name": "stdout",
     "output_type": "stream",
     "text": [
      "Predicting for the next 12 time steps.\n"
     ]
    },
    {
     "name": "stderr",
     "output_type": "stream",
     "text": [
      "Fitting models: 100%|███████████████████████████████████████████████████████████████| 405/405 [00:02<00:00, 186.33it/s]\n"
     ]
    },
    {
     "name": "stdout",
     "output_type": "stream",
     "text": [
      "There are negative values in the predictions.\n",
      "The average error is: 9.014238244241934\n",
      "Model: sarimax and Revision: WLSV\n",
      "Generating the hierarchical dataset...\n",
      "Got 3 clusters..\n",
      "The dataset size is (120, 405)\n",
      "Fitting the model sarimax with revision method WLSV.\n"
     ]
    },
    {
     "name": "stderr",
     "output_type": "stream",
     "text": [
      "Fitting models: 100%|████████████████████████████████████████████████████████████████| 405/405 [02:37<00:00,  2.57it/s]\n",
      "Fitting models:   5%|███▎                                                            | 21/405 [00:00<00:01, 204.62it/s]"
     ]
    },
    {
     "name": "stdout",
     "output_type": "stream",
     "text": [
      "Predicting for the next 12 time steps.\n"
     ]
    },
    {
     "name": "stderr",
     "output_type": "stream",
     "text": [
      "Fitting models: 100%|███████████████████████████████████████████████████████████████| 405/405 [00:01<00:00, 210.70it/s]\n"
     ]
    },
    {
     "name": "stdout",
     "output_type": "stream",
     "text": [
      "There are negative values in the predictions.\n",
      "The average error is: 9721.030155019933\n"
     ]
    }
   ],
   "source": [
    "# Run the code for hts\n",
    "\n",
    "# Run all combinations for models \n",
    "model_types = ['sarimax']\n",
    "revisions = ['BU', 'AHP', 'PHA', 'FP', 'OLS', 'WLSS', 'WLSV']\n",
    "\n",
    "# Set the params \n",
    "params = {\n",
    "    'model':'auto_arima',\n",
    "    'revision_method':'BU',\n",
    "    'time_steps': 12,\n",
    "    'model_params': {\n",
    "        'order': (2, 1, 2)\n",
    "    }\n",
    "}\n",
    "\n",
    "for m in model_types:\n",
    "    for r in revisions:\n",
    "        print(f\"Model: {m} and Revision: {r}\")\n",
    "        \n",
    "        # Change params \n",
    "        params['model'] = m\n",
    "        params['revision_method'] = r\n",
    "        \n",
    "        # Run the prediction model  \n",
    "        predictions = train_heirarchical_cluster_model(data=cluster1_input,\n",
    "                                         agregate_col='cluster', \n",
    "                                         params=params,\n",
    "                                         cluster_type=\"clusters by Amit\")"
   ]
  },
  {
   "cell_type": "markdown",
   "id": "e2979f59",
   "metadata": {},
   "source": [
    "### Cluster 2: k-Modes Clusters"
   ]
  },
  {
   "cell_type": "code",
   "execution_count": 17,
   "id": "04dc9e79",
   "metadata": {},
   "outputs": [
    {
     "name": "stdout",
     "output_type": "stream",
     "text": [
      "(401, 3)\n"
     ]
    },
    {
     "data": {
      "text/html": [
       "<div>\n",
       "<style scoped>\n",
       "    .dataframe tbody tr th:only-of-type {\n",
       "        vertical-align: middle;\n",
       "    }\n",
       "\n",
       "    .dataframe tbody tr th {\n",
       "        vertical-align: top;\n",
       "    }\n",
       "\n",
       "    .dataframe thead th {\n",
       "        text-align: right;\n",
       "    }\n",
       "</style>\n",
       "<table border=\"1\" class=\"dataframe\">\n",
       "  <thead>\n",
       "    <tr style=\"text-align: right;\">\n",
       "      <th></th>\n",
       "      <th>kreis</th>\n",
       "      <th>ags5</th>\n",
       "      <th>cluster</th>\n",
       "    </tr>\n",
       "  </thead>\n",
       "  <tbody>\n",
       "    <tr>\n",
       "      <th>0</th>\n",
       "      <td>Flensburg, Stadt</td>\n",
       "      <td>1001</td>\n",
       "      <td>1</td>\n",
       "    </tr>\n",
       "    <tr>\n",
       "      <th>1</th>\n",
       "      <td>Kiel, Landeshauptstadt</td>\n",
       "      <td>1002</td>\n",
       "      <td>2</td>\n",
       "    </tr>\n",
       "    <tr>\n",
       "      <th>2</th>\n",
       "      <td>Lübeck, Hansestadt</td>\n",
       "      <td>1003</td>\n",
       "      <td>2</td>\n",
       "    </tr>\n",
       "    <tr>\n",
       "      <th>3</th>\n",
       "      <td>Neumünster, Stadt</td>\n",
       "      <td>1004</td>\n",
       "      <td>0</td>\n",
       "    </tr>\n",
       "    <tr>\n",
       "      <th>4</th>\n",
       "      <td>Dithmarschen</td>\n",
       "      <td>1051</td>\n",
       "      <td>1</td>\n",
       "    </tr>\n",
       "  </tbody>\n",
       "</table>\n",
       "</div>"
      ],
      "text/plain": [
       "                    kreis  ags5 cluster\n",
       "0        Flensburg, Stadt  1001       1\n",
       "1  Kiel, Landeshauptstadt  1002       2\n",
       "2      Lübeck, Hansestadt  1003       2\n",
       "3       Neumünster, Stadt  1004       0\n",
       "4            Dithmarschen  1051       1"
      ]
     },
     "execution_count": 17,
     "metadata": {},
     "output_type": "execute_result"
    }
   ],
   "source": [
    "# Read the data \n",
    "cluster2 = pd.read_csv('kmodes3.csv', converters={'ags5':str, 'cluster':str})\n",
    "print(cluster2.shape)\n",
    "cluster2.head()"
   ]
  },
  {
   "cell_type": "code",
   "execution_count": 18,
   "id": "4a47f860",
   "metadata": {},
   "outputs": [
    {
     "name": "stdout",
     "output_type": "stream",
     "text": [
      "original cluster data\n",
      "2    190\n",
      "0    114\n",
      "1     97\n",
      "Name: cluster, dtype: int64\n",
      "New data\n",
      "2    190\n",
      "0    114\n",
      "1     97\n",
      "Name: cluster, dtype: int64\n"
     ]
    }
   ],
   "source": [
    "cluster2_input = add_column_to_main_data(df, cluster2, 'cluster')"
   ]
  },
  {
   "cell_type": "code",
   "execution_count": 20,
   "id": "46952de9",
   "metadata": {
    "scrolled": true
   },
   "outputs": [
    {
     "name": "stdout",
     "output_type": "stream",
     "text": [
      "Model: auto_arima and Revision: BU\n",
      "Generating the hierarchical dataset...\n",
      "Got 3 clusters..\n",
      "The dataset size is (120, 405)\n",
      "Fitting the model auto_arima with revision method BU.\n"
     ]
    },
    {
     "name": "stderr",
     "output_type": "stream",
     "text": [
      "Fitting models: 100%|████████████████████████████████████████████████████████████████| 405/405 [30:14<00:00,  4.48s/it]\n",
      "Fitting models:   2%|█▌                                                               | 10/405 [00:00<00:04, 88.86it/s]"
     ]
    },
    {
     "name": "stdout",
     "output_type": "stream",
     "text": [
      "Predicting for the next 12 time steps.\n"
     ]
    },
    {
     "name": "stderr",
     "output_type": "stream",
     "text": [
      "Fitting models: 100%|███████████████████████████████████████████████████████████████| 405/405 [00:03<00:00, 119.27it/s]\n"
     ]
    },
    {
     "name": "stdout",
     "output_type": "stream",
     "text": [
      "No negative values found in the predictions\n",
      "The average error is: 0.1707600377188778\n",
      "Model: auto_arima and Revision: AHP\n",
      "Generating the hierarchical dataset...\n",
      "Got 3 clusters..\n",
      "The dataset size is (120, 405)\n",
      "Fitting the model auto_arima with revision method AHP.\n"
     ]
    },
    {
     "name": "stderr",
     "output_type": "stream",
     "text": [
      "Fitting models: 100%|████████████████████████████████████████████████████████████████| 405/405 [30:27<00:00,  4.51s/it]\n",
      "Fitting models:   4%|██▋                                                             | 17/405 [00:00<00:02, 164.42it/s]"
     ]
    },
    {
     "name": "stdout",
     "output_type": "stream",
     "text": [
      "Predicting for the next 12 time steps.\n"
     ]
    },
    {
     "name": "stderr",
     "output_type": "stream",
     "text": [
      "Fitting models: 100%|███████████████████████████████████████████████████████████████| 405/405 [00:02<00:00, 181.77it/s]\n"
     ]
    },
    {
     "name": "stdout",
     "output_type": "stream",
     "text": [
      "No negative values found in the predictions\n",
      "The average error is: 0.41566813827985644\n",
      "Model: auto_arima and Revision: PHA\n",
      "Generating the hierarchical dataset...\n",
      "Got 3 clusters..\n",
      "The dataset size is (120, 405)\n",
      "Fitting the model auto_arima with revision method PHA.\n"
     ]
    },
    {
     "name": "stderr",
     "output_type": "stream",
     "text": [
      "Fitting models: 100%|████████████████████████████████████████████████████████████████| 405/405 [45:34<00:00,  6.75s/it]\n",
      "Fitting models:   2%|█▏                                                                | 7/405 [00:00<00:05, 67.37it/s]"
     ]
    },
    {
     "name": "stdout",
     "output_type": "stream",
     "text": [
      "Predicting for the next 12 time steps.\n"
     ]
    },
    {
     "name": "stderr",
     "output_type": "stream",
     "text": [
      "Fitting models: 100%|████████████████████████████████████████████████████████████████| 405/405 [00:04<00:00, 90.95it/s]\n"
     ]
    },
    {
     "name": "stdout",
     "output_type": "stream",
     "text": [
      "No negative values found in the predictions\n",
      "The average error is: 0.45455251183218054\n",
      "Model: auto_arima and Revision: FP\n",
      "Generating the hierarchical dataset...\n",
      "Got 3 clusters..\n",
      "The dataset size is (120, 405)\n",
      "Fitting the model auto_arima with revision method FP.\n"
     ]
    },
    {
     "name": "stderr",
     "output_type": "stream",
     "text": [
      "Fitting models: 100%|████████████████████████████████████████████████████████████████| 405/405 [46:48<00:00,  6.93s/it]\n",
      "Fitting models:   1%|▉                                                                 | 6/405 [00:00<00:07, 53.74it/s]"
     ]
    },
    {
     "name": "stdout",
     "output_type": "stream",
     "text": [
      "Predicting for the next 12 time steps.\n"
     ]
    },
    {
     "name": "stderr",
     "output_type": "stream",
     "text": [
      "Fitting models: 100%|████████████████████████████████████████████████████████████████| 405/405 [00:04<00:00, 88.66it/s]\n"
     ]
    },
    {
     "name": "stdout",
     "output_type": "stream",
     "text": [
      "(3, 120)\n",
      "There are negative values in the predictions.\n",
      "The average error is: 162543.5457608644\n",
      "Model: auto_arima and Revision: OLS\n",
      "Generating the hierarchical dataset...\n",
      "Got 3 clusters..\n",
      "The dataset size is (120, 405)\n",
      "Fitting the model auto_arima with revision method OLS.\n"
     ]
    },
    {
     "name": "stderr",
     "output_type": "stream",
     "text": [
      "Fitting models: 100%|████████████████████████████████████████████████████████████████| 405/405 [25:29<00:00,  3.78s/it]\n",
      "Fitting models:  11%|██████▊                                                         | 43/405 [00:00<00:01, 210.30it/s]"
     ]
    },
    {
     "name": "stdout",
     "output_type": "stream",
     "text": [
      "Predicting for the next 12 time steps.\n"
     ]
    },
    {
     "name": "stderr",
     "output_type": "stream",
     "text": [
      "Fitting models: 100%|███████████████████████████████████████████████████████████████| 405/405 [00:01<00:00, 220.91it/s]\n"
     ]
    },
    {
     "name": "stdout",
     "output_type": "stream",
     "text": [
      "There are negative values in the predictions.\n",
      "The average error is: 143.8252612693931\n",
      "Model: auto_arima and Revision: WLSS\n",
      "Generating the hierarchical dataset...\n",
      "Got 3 clusters..\n",
      "The dataset size is (120, 405)\n",
      "Fitting the model auto_arima with revision method WLSS.\n"
     ]
    },
    {
     "name": "stderr",
     "output_type": "stream",
     "text": [
      "Fitting models: 100%|████████████████████████████████████████████████████████████████| 405/405 [25:09<00:00,  3.73s/it]\n",
      "Fitting models:   3%|██▏                                                             | 14/405 [00:00<00:02, 138.48it/s]"
     ]
    },
    {
     "name": "stdout",
     "output_type": "stream",
     "text": [
      "Predicting for the next 12 time steps.\n"
     ]
    },
    {
     "name": "stderr",
     "output_type": "stream",
     "text": [
      "Fitting models: 100%|███████████████████████████████████████████████████████████████| 405/405 [00:02<00:00, 163.31it/s]\n"
     ]
    },
    {
     "name": "stdout",
     "output_type": "stream",
     "text": [
      "There are negative values in the predictions.\n",
      "The average error is: 1.9039785850359117\n",
      "Model: auto_arima and Revision: WLSV\n",
      "Generating the hierarchical dataset...\n",
      "Got 3 clusters..\n",
      "The dataset size is (120, 405)\n",
      "Fitting the model auto_arima with revision method WLSV.\n"
     ]
    },
    {
     "name": "stderr",
     "output_type": "stream",
     "text": [
      "Fitting models: 100%|████████████████████████████████████████████████████████████████| 405/405 [23:08<00:00,  3.43s/it]\n",
      "Fitting models:   3%|██                                                              | 13/405 [00:00<00:03, 127.93it/s]"
     ]
    },
    {
     "name": "stdout",
     "output_type": "stream",
     "text": [
      "Predicting for the next 12 time steps.\n"
     ]
    },
    {
     "name": "stderr",
     "output_type": "stream",
     "text": [
      "Fitting models: 100%|███████████████████████████████████████████████████████████████| 405/405 [00:02<00:00, 154.39it/s]\n"
     ]
    },
    {
     "name": "stdout",
     "output_type": "stream",
     "text": [
      "There are negative values in the predictions.\n",
      "The average error is: 2344.1947095309984\n"
     ]
    }
   ],
   "source": [
    "# Run the code for hts\n",
    "\n",
    "# Run all combinations for models \n",
    "model_types = ['auto_arima']\n",
    "revisions = ['BU', 'AHP', 'PHA', 'FP', 'OLS', 'WLSS', 'WLSV']\n",
    "\n",
    "# Set the params \n",
    "params = {\n",
    "    'model':'auto_arima',\n",
    "    'revision_method':'BU',\n",
    "    'time_steps': 12,\n",
    "    'model_params': {\n",
    "        'order': (2, 1, 2)\n",
    "    }\n",
    "}\n",
    "\n",
    "for m in model_types:\n",
    "    for r in revisions:\n",
    "        print(f\"Model: {m} and Revision: {r}\")\n",
    "        \n",
    "        # Change params \n",
    "        params['model'] = m\n",
    "        params['revision_method'] = r\n",
    "        \n",
    "        # Run the prediction model  \n",
    "        predictions = train_heirarchical_cluster_model(data=cluster2_input,\n",
    "                                         agregate_col='cluster', \n",
    "                                         params=params,\n",
    "                                         cluster_type=\"clusters by Cinny kModes\")"
   ]
  },
  {
   "cell_type": "markdown",
   "id": "89a02d7e",
   "metadata": {},
   "source": [
    "## Cluster 3 - tsne"
   ]
  },
  {
   "cell_type": "code",
   "execution_count": 21,
   "id": "99179d8d",
   "metadata": {},
   "outputs": [
    {
     "name": "stdout",
     "output_type": "stream",
     "text": [
      "(401, 179)\n"
     ]
    },
    {
     "data": {
      "text/html": [
       "<div>\n",
       "<style scoped>\n",
       "    .dataframe tbody tr th:only-of-type {\n",
       "        vertical-align: middle;\n",
       "    }\n",
       "\n",
       "    .dataframe tbody tr th {\n",
       "        vertical-align: top;\n",
       "    }\n",
       "\n",
       "    .dataframe thead th {\n",
       "        text-align: right;\n",
       "    }\n",
       "</style>\n",
       "<table border=\"1\" class=\"dataframe\">\n",
       "  <thead>\n",
       "    <tr style=\"text-align: right;\">\n",
       "      <th></th>\n",
       "      <th>data_index</th>\n",
       "      <th>cluster</th>\n",
       "      <th>kreis</th>\n",
       "      <th>ags5</th>\n",
       "      <th>ags2</th>\n",
       "      <th>supermarkets_population</th>\n",
       "      <th>supermarkets_average_distance</th>\n",
       "      <th>public_transport_availability</th>\n",
       "      <th>average_distance_bus_stop</th>\n",
       "      <th>average_distance_train_station</th>\n",
       "      <th>...</th>\n",
       "      <th>room_type_location</th>\n",
       "      <th>district_settlement_structure</th>\n",
       "      <th>type_of_settlement_structure</th>\n",
       "      <th>urban_/_rural</th>\n",
       "      <th>metropolitan_region</th>\n",
       "      <th>metropolitan_area</th>\n",
       "      <th>east_west</th>\n",
       "      <th>border_proximity</th>\n",
       "      <th>support_area_status</th>\n",
       "      <th>eligible_area</th>\n",
       "    </tr>\n",
       "  </thead>\n",
       "  <tbody>\n",
       "    <tr>\n",
       "      <th>0</th>\n",
       "      <td>0</td>\n",
       "      <td>2</td>\n",
       "      <td>Flensburg, Stadt</td>\n",
       "      <td>1001</td>\n",
       "      <td>1</td>\n",
       "      <td>92</td>\n",
       "      <td>500</td>\n",
       "      <td>35</td>\n",
       "      <td>240</td>\n",
       "      <td>2901</td>\n",
       "      <td>...</td>\n",
       "      <td>2</td>\n",
       "      <td>4</td>\n",
       "      <td>3</td>\n",
       "      <td>2</td>\n",
       "      <td>99</td>\n",
       "      <td>99</td>\n",
       "      <td>1</td>\n",
       "      <td>1</td>\n",
       "      <td>C</td>\n",
       "      <td>1</td>\n",
       "    </tr>\n",
       "    <tr>\n",
       "      <th>1</th>\n",
       "      <td>1</td>\n",
       "      <td>2</td>\n",
       "      <td>Kiel, Landeshauptstadt</td>\n",
       "      <td>1002</td>\n",
       "      <td>1</td>\n",
       "      <td>92</td>\n",
       "      <td>460</td>\n",
       "      <td>37</td>\n",
       "      <td>268</td>\n",
       "      <td>2037</td>\n",
       "      <td>...</td>\n",
       "      <td>2</td>\n",
       "      <td>1</td>\n",
       "      <td>2</td>\n",
       "      <td>1</td>\n",
       "      <td>99</td>\n",
       "      <td>99</td>\n",
       "      <td>1</td>\n",
       "      <td>0</td>\n",
       "      <td>C/D</td>\n",
       "      <td>1</td>\n",
       "    </tr>\n",
       "    <tr>\n",
       "      <th>2</th>\n",
       "      <td>2</td>\n",
       "      <td>2</td>\n",
       "      <td>Lübeck, Hansestadt</td>\n",
       "      <td>1003</td>\n",
       "      <td>1</td>\n",
       "      <td>90</td>\n",
       "      <td>532</td>\n",
       "      <td>37</td>\n",
       "      <td>297</td>\n",
       "      <td>1927</td>\n",
       "      <td>...</td>\n",
       "      <td>1</td>\n",
       "      <td>1</td>\n",
       "      <td>2</td>\n",
       "      <td>1</td>\n",
       "      <td>5</td>\n",
       "      <td>99</td>\n",
       "      <td>1</td>\n",
       "      <td>0</td>\n",
       "      <td>C/D</td>\n",
       "      <td>1</td>\n",
       "    </tr>\n",
       "    <tr>\n",
       "      <th>3</th>\n",
       "      <td>3</td>\n",
       "      <td>2</td>\n",
       "      <td>Neumünster, Stadt</td>\n",
       "      <td>1004</td>\n",
       "      <td>1</td>\n",
       "      <td>85</td>\n",
       "      <td>588</td>\n",
       "      <td>37</td>\n",
       "      <td>316</td>\n",
       "      <td>1648</td>\n",
       "      <td>...</td>\n",
       "      <td>2</td>\n",
       "      <td>3</td>\n",
       "      <td>2</td>\n",
       "      <td>2</td>\n",
       "      <td>5</td>\n",
       "      <td>99</td>\n",
       "      <td>1</td>\n",
       "      <td>0</td>\n",
       "      <td>D</td>\n",
       "      <td>1</td>\n",
       "    </tr>\n",
       "    <tr>\n",
       "      <th>4</th>\n",
       "      <td>4</td>\n",
       "      <td>0</td>\n",
       "      <td>Dithmarschen</td>\n",
       "      <td>1051</td>\n",
       "      <td>1</td>\n",
       "      <td>51</td>\n",
       "      <td>1864</td>\n",
       "      <td>35</td>\n",
       "      <td>448</td>\n",
       "      <td>3517</td>\n",
       "      <td>...</td>\n",
       "      <td>4</td>\n",
       "      <td>4</td>\n",
       "      <td>3</td>\n",
       "      <td>2</td>\n",
       "      <td>5</td>\n",
       "      <td>99</td>\n",
       "      <td>1</td>\n",
       "      <td>0</td>\n",
       "      <td>C</td>\n",
       "      <td>1</td>\n",
       "    </tr>\n",
       "  </tbody>\n",
       "</table>\n",
       "<p>5 rows × 179 columns</p>\n",
       "</div>"
      ],
      "text/plain": [
       "   data_index cluster                   kreis  ags5  ags2  \\\n",
       "0           0       2        Flensburg, Stadt  1001     1   \n",
       "1           1       2  Kiel, Landeshauptstadt  1002     1   \n",
       "2           2       2      Lübeck, Hansestadt  1003     1   \n",
       "3           3       2       Neumünster, Stadt  1004     1   \n",
       "4           4       0            Dithmarschen  1051     1   \n",
       "\n",
       "   supermarkets_population  supermarkets_average_distance  \\\n",
       "0                       92                            500   \n",
       "1                       92                            460   \n",
       "2                       90                            532   \n",
       "3                       85                            588   \n",
       "4                       51                           1864   \n",
       "\n",
       "   public_transport_availability  average_distance_bus_stop  \\\n",
       "0                             35                        240   \n",
       "1                             37                        268   \n",
       "2                             37                        297   \n",
       "3                             37                        316   \n",
       "4                             35                        448   \n",
       "\n",
       "   average_distance_train_station  ...  room_type_location  \\\n",
       "0                            2901  ...                   2   \n",
       "1                            2037  ...                   2   \n",
       "2                            1927  ...                   1   \n",
       "3                            1648  ...                   2   \n",
       "4                            3517  ...                   4   \n",
       "\n",
       "   district_settlement_structure  type_of_settlement_structure  urban_/_rural  \\\n",
       "0                              4                             3              2   \n",
       "1                              1                             2              1   \n",
       "2                              1                             2              1   \n",
       "3                              3                             2              2   \n",
       "4                              4                             3              2   \n",
       "\n",
       "   metropolitan_region  metropolitan_area  east_west  border_proximity  \\\n",
       "0                   99                 99          1                 1   \n",
       "1                   99                 99          1                 0   \n",
       "2                    5                 99          1                 0   \n",
       "3                    5                 99          1                 0   \n",
       "4                    5                 99          1                 0   \n",
       "\n",
       "   support_area_status  eligible_area  \n",
       "0                    C              1  \n",
       "1                  C/D              1  \n",
       "2                  C/D              1  \n",
       "3                    D              1  \n",
       "4                    C              1  \n",
       "\n",
       "[5 rows x 179 columns]"
      ]
     },
     "execution_count": 21,
     "metadata": {},
     "output_type": "execute_result"
    }
   ],
   "source": [
    "# Read the tsne data\n",
    "cluster3 = pd.read_csv('df_tsne_cluster.csv', converters={'ags5':str, 'cluster':str})\n",
    "print(cluster3.shape)\n",
    "cluster3.head()"
   ]
  },
  {
   "cell_type": "code",
   "execution_count": 22,
   "id": "91088445",
   "metadata": {},
   "outputs": [
    {
     "name": "stdout",
     "output_type": "stream",
     "text": [
      "original cluster data\n",
      "0    179\n",
      "1    129\n",
      "2     93\n",
      "Name: cluster, dtype: int64\n",
      "New data\n",
      "0    179\n",
      "1    129\n",
      "2     93\n",
      "Name: cluster, dtype: int64\n"
     ]
    }
   ],
   "source": [
    "cluster3_input = add_column_to_main_data(df, cluster3, 'cluster')"
   ]
  },
  {
   "cell_type": "code",
   "execution_count": null,
   "id": "dea76e4d",
   "metadata": {},
   "outputs": [
    {
     "name": "stdout",
     "output_type": "stream",
     "text": [
      "Model: auto_arima and Revision: BU\n",
      "Generating the hierarchical dataset...\n",
      "Got 3 clusters..\n",
      "The dataset size is (120, 405)\n",
      "Fitting the model auto_arima with revision method BU.\n"
     ]
    },
    {
     "name": "stderr",
     "output_type": "stream",
     "text": [
      "Fitting models: 100%|████████████████████████████████████████████████████████████████| 405/405 [22:27<00:00,  3.33s/it]\n",
      "Fitting models:  12%|███████▉                                                        | 50/405 [00:00<00:01, 242.58it/s]"
     ]
    },
    {
     "name": "stdout",
     "output_type": "stream",
     "text": [
      "Predicting for the next 12 time steps.\n"
     ]
    },
    {
     "name": "stderr",
     "output_type": "stream",
     "text": [
      "Fitting models: 100%|███████████████████████████████████████████████████████████████| 405/405 [00:01<00:00, 203.72it/s]\n"
     ]
    },
    {
     "name": "stdout",
     "output_type": "stream",
     "text": [
      "No negative values found in the predictions\n",
      "The average error is: 0.1707600377188778\n",
      "Model: auto_arima and Revision: AHP\n",
      "Generating the hierarchical dataset...\n",
      "Got 3 clusters..\n",
      "The dataset size is (120, 405)\n",
      "Fitting the model auto_arima with revision method AHP.\n"
     ]
    },
    {
     "name": "stderr",
     "output_type": "stream",
     "text": [
      "Fitting models: 100%|████████████████████████████████████████████████████████████████| 405/405 [21:19<00:00,  3.16s/it]\n",
      "Fitting models:  13%|████████                                                        | 51/405 [00:00<00:01, 251.88it/s]"
     ]
    },
    {
     "name": "stdout",
     "output_type": "stream",
     "text": [
      "Predicting for the next 12 time steps.\n"
     ]
    },
    {
     "name": "stderr",
     "output_type": "stream",
     "text": [
      "Fitting models: 100%|███████████████████████████████████████████████████████████████| 405/405 [00:01<00:00, 218.85it/s]\n"
     ]
    },
    {
     "name": "stdout",
     "output_type": "stream",
     "text": [
      "No negative values found in the predictions\n",
      "The average error is: 0.41566813827985644\n",
      "Model: auto_arima and Revision: PHA\n",
      "Generating the hierarchical dataset...\n",
      "Got 3 clusters..\n",
      "The dataset size is (120, 405)\n",
      "Fitting the model auto_arima with revision method PHA.\n"
     ]
    },
    {
     "name": "stderr",
     "output_type": "stream",
     "text": [
      "Fitting models: 100%|████████████████████████████████████████████████████████████████| 405/405 [25:02<00:00,  3.71s/it]\n",
      "Fitting models:   4%|██▌                                                             | 16/405 [00:00<00:02, 153.16it/s]"
     ]
    },
    {
     "name": "stdout",
     "output_type": "stream",
     "text": [
      "Predicting for the next 12 time steps.\n"
     ]
    },
    {
     "name": "stderr",
     "output_type": "stream",
     "text": [
      "Fitting models: 100%|███████████████████████████████████████████████████████████████| 405/405 [00:02<00:00, 185.74it/s]\n"
     ]
    },
    {
     "name": "stdout",
     "output_type": "stream",
     "text": [
      "No negative values found in the predictions\n",
      "The average error is: 0.45455251183218054\n",
      "Model: auto_arima and Revision: FP\n",
      "Generating the hierarchical dataset...\n",
      "Got 3 clusters..\n",
      "The dataset size is (120, 405)\n",
      "Fitting the model auto_arima with revision method FP.\n"
     ]
    },
    {
     "name": "stderr",
     "output_type": "stream",
     "text": [
      "Fitting models: 100%|████████████████████████████████████████████████████████████████| 405/405 [23:18<00:00,  3.45s/it]\n",
      "Fitting models:   0%|                                                                          | 0/405 [00:00<?, ?it/s]"
     ]
    },
    {
     "name": "stdout",
     "output_type": "stream",
     "text": [
      "Predicting for the next 12 time steps.\n"
     ]
    },
    {
     "name": "stderr",
     "output_type": "stream",
     "text": [
      "Fitting models: 100%|███████████████████████████████████████████████████████████████| 405/405 [00:02<00:00, 164.10it/s]\n"
     ]
    },
    {
     "name": "stdout",
     "output_type": "stream",
     "text": [
      "(3, 120)\n",
      "There are negative values in the predictions.\n",
      "The average error is: 2035.9767636240258\n",
      "Model: auto_arima and Revision: OLS\n",
      "Generating the hierarchical dataset...\n",
      "Got 3 clusters..\n",
      "The dataset size is (120, 405)\n",
      "Fitting the model auto_arima with revision method OLS.\n"
     ]
    },
    {
     "name": "stderr",
     "output_type": "stream",
     "text": [
      "Fitting models: 100%|████████████████████████████████████████████████████████████████| 405/405 [27:36<00:00,  4.09s/it]\n",
      "Fitting models:   5%|███▏                                                            | 20/405 [00:00<00:03, 100.22it/s]"
     ]
    },
    {
     "name": "stdout",
     "output_type": "stream",
     "text": [
      "Predicting for the next 12 time steps.\n"
     ]
    },
    {
     "name": "stderr",
     "output_type": "stream",
     "text": [
      "Fitting models: 100%|███████████████████████████████████████████████████████████████| 405/405 [00:03<00:00, 108.98it/s]\n"
     ]
    },
    {
     "name": "stdout",
     "output_type": "stream",
     "text": [
      "There are negative values in the predictions.\n",
      "The average error is: 247.9078859229583\n",
      "Model: auto_arima and Revision: WLSS\n",
      "Generating the hierarchical dataset...\n",
      "Got 3 clusters..\n",
      "The dataset size is (120, 405)\n",
      "Fitting the model auto_arima with revision method WLSS.\n"
     ]
    },
    {
     "name": "stderr",
     "output_type": "stream",
     "text": [
      "Fitting models: 100%|████████████████████████████████████████████████████████████████| 405/405 [39:22<00:00,  5.83s/it]\n",
      "Fitting models:   3%|█▋                                                              | 11/405 [00:00<00:03, 107.20it/s]"
     ]
    },
    {
     "name": "stdout",
     "output_type": "stream",
     "text": [
      "Predicting for the next 12 time steps.\n"
     ]
    },
    {
     "name": "stderr",
     "output_type": "stream",
     "text": [
      "Fitting models: 100%|███████████████████████████████████████████████████████████████| 405/405 [00:03<00:00, 126.54it/s]\n"
     ]
    },
    {
     "name": "stdout",
     "output_type": "stream",
     "text": [
      "There are negative values in the predictions.\n",
      "The average error is: 3.002982747207719\n",
      "Model: auto_arima and Revision: WLSV\n",
      "Generating the hierarchical dataset...\n",
      "Got 3 clusters..\n",
      "The dataset size is (120, 405)\n",
      "Fitting the model auto_arima with revision method WLSV.\n"
     ]
    },
    {
     "name": "stderr",
     "output_type": "stream",
     "text": [
      "Fitting models:  28%|█████████████████▋                                              | 112/405 [09:16<21:21,  4.37s/it]"
     ]
    }
   ],
   "source": [
    "# Run the code for hts\n",
    "\n",
    "# Run all combinations for models \n",
    "model_types = ['auto_arima']\n",
    "revisions = ['BU', 'AHP', 'PHA', 'FP', 'OLS', 'WLSS', 'WLSV']\n",
    "\n",
    "# Set the params \n",
    "params = {\n",
    "    'model':'sarimax',\n",
    "    'revision_method':'BU',\n",
    "    'time_steps': 12,\n",
    "    'model_params': {\n",
    "        'order': (2, 1, 2)\n",
    "    }\n",
    "}\n",
    "\n",
    "for m in model_types:\n",
    "    for r in revisions:\n",
    "        print(f\"Model: {m} and Revision: {r}\")\n",
    "        \n",
    "        # Change params \n",
    "        params['model'] = m\n",
    "        params['revision_method'] = r\n",
    "        \n",
    "        # Run the prediction model  \n",
    "        predictions = train_heirarchical_cluster_model(data=cluster3_input,\n",
    "                                         agregate_col='cluster', \n",
    "                                         params=params,\n",
    "                                         cluster_type=\"clusters by Prakhar tsne\")"
   ]
  },
  {
   "cell_type": "markdown",
   "id": "b77eb87b",
   "metadata": {},
   "source": [
    "## Auto ARIMA Experiments"
   ]
  },
  {
   "cell_type": "code",
   "execution_count": 98,
   "id": "92f06206",
   "metadata": {},
   "outputs": [
    {
     "name": "stdout",
     "output_type": "stream",
     "text": [
      "Model: auto_arima and Revision: BU\n",
      "Generating the hierarchical dataset...\n",
      "Got 3 clusters..\n"
     ]
    },
    {
     "name": "stderr",
     "output_type": "stream",
     "text": [
      "\r",
      "Fitting models:   0%|                                                                          | 0/405 [00:00<?, ?it/s]"
     ]
    },
    {
     "name": "stdout",
     "output_type": "stream",
     "text": [
      "The dataset size is (120, 405)\n",
      "Fitting the model auto_arima with revision method BU.\n"
     ]
    },
    {
     "name": "stderr",
     "output_type": "stream",
     "text": [
      "Fitting models: 100%|████████████████████████████████████████████████████████████████| 405/405 [17:15<00:00,  2.56s/it]\n",
      "Fitting models:   4%|██▊                                                             | 18/405 [00:00<00:02, 167.06it/s]"
     ]
    },
    {
     "name": "stdout",
     "output_type": "stream",
     "text": [
      "Predicting for the next 12 time steps.\n"
     ]
    },
    {
     "name": "stderr",
     "output_type": "stream",
     "text": [
      "Fitting models: 100%|███████████████████████████████████████████████████████████████| 405/405 [00:01<00:00, 252.45it/s]\n"
     ]
    },
    {
     "name": "stdout",
     "output_type": "stream",
     "text": [
      "No negative values found in the predictions\n",
      "The average error is: 0.1707600377188778\n",
      "Model: auto_arima and Revision: AHP\n",
      "Generating the hierarchical dataset...\n",
      "Got 3 clusters..\n",
      "The dataset size is (120, 405)\n",
      "Fitting the model auto_arima with revision method AHP.\n"
     ]
    },
    {
     "name": "stderr",
     "output_type": "stream",
     "text": [
      "Fitting models: 100%|████████████████████████████████████████████████████████████████| 405/405 [21:25<00:00,  3.17s/it]\n",
      "Fitting models:  13%|████████▍                                                       | 53/405 [00:00<00:01, 262.47it/s]"
     ]
    },
    {
     "name": "stdout",
     "output_type": "stream",
     "text": [
      "Predicting for the next 12 time steps.\n"
     ]
    },
    {
     "name": "stderr",
     "output_type": "stream",
     "text": [
      "Fitting models: 100%|███████████████████████████████████████████████████████████████| 405/405 [00:01<00:00, 278.75it/s]\n"
     ]
    },
    {
     "name": "stdout",
     "output_type": "stream",
     "text": [
      "No negative values found in the predictions\n",
      "The average error is: 0.41566813827985644\n",
      "Model: auto_arima and Revision: PHA\n",
      "Generating the hierarchical dataset...\n",
      "Got 3 clusters..\n",
      "The dataset size is (120, 405)\n",
      "Fitting the model auto_arima with revision method PHA.\n"
     ]
    },
    {
     "name": "stderr",
     "output_type": "stream",
     "text": [
      "Fitting models: 100%|████████████████████████████████████████████████████████████████| 405/405 [17:42<00:00,  2.62s/it]\n",
      "Fitting models:   6%|███▋                                                            | 23/405 [00:00<00:01, 227.77it/s]"
     ]
    },
    {
     "name": "stdout",
     "output_type": "stream",
     "text": [
      "Predicting for the next 12 time steps.\n"
     ]
    },
    {
     "name": "stderr",
     "output_type": "stream",
     "text": [
      "Fitting models: 100%|███████████████████████████████████████████████████████████████| 405/405 [00:01<00:00, 235.61it/s]\n"
     ]
    },
    {
     "name": "stdout",
     "output_type": "stream",
     "text": [
      "No negative values found in the predictions\n",
      "The average error is: 0.45455251183218054\n",
      "Model: auto_arima and Revision: FP\n",
      "Generating the hierarchical dataset...\n",
      "Got 3 clusters..\n",
      "The dataset size is (120, 405)\n",
      "Fitting the model auto_arima with revision method FP.\n"
     ]
    },
    {
     "name": "stderr",
     "output_type": "stream",
     "text": [
      "Fitting models: 100%|████████████████████████████████████████████████████████████████| 405/405 [17:51<00:00,  2.65s/it]\n",
      "Fitting models:   5%|███▍                                                            | 22/405 [00:00<00:01, 219.92it/s]"
     ]
    },
    {
     "name": "stdout",
     "output_type": "stream",
     "text": [
      "Predicting for the next 12 time steps.\n"
     ]
    },
    {
     "name": "stderr",
     "output_type": "stream",
     "text": [
      "Fitting models: 100%|███████████████████████████████████████████████████████████████| 405/405 [00:01<00:00, 231.96it/s]\n"
     ]
    },
    {
     "name": "stdout",
     "output_type": "stream",
     "text": [
      "(3, 120)\n",
      "There are negative values in the predictions.\n",
      "The average error is: 306020.5769341778\n",
      "Model: auto_arima and Revision: OLS\n",
      "Generating the hierarchical dataset...\n",
      "Got 3 clusters..\n",
      "The dataset size is (120, 405)\n",
      "Fitting the model auto_arima with revision method OLS.\n"
     ]
    },
    {
     "name": "stderr",
     "output_type": "stream",
     "text": [
      "Fitting models: 100%|████████████████████████████████████████████████████████████████| 405/405 [17:52<00:00,  2.65s/it]\n",
      "Fitting models:  11%|███████▎                                                        | 46/405 [00:00<00:01, 231.64it/s]"
     ]
    },
    {
     "name": "stdout",
     "output_type": "stream",
     "text": [
      "Predicting for the next 12 time steps.\n"
     ]
    },
    {
     "name": "stderr",
     "output_type": "stream",
     "text": [
      "Fitting models: 100%|███████████████████████████████████████████████████████████████| 405/405 [00:01<00:00, 231.66it/s]\n"
     ]
    },
    {
     "name": "stdout",
     "output_type": "stream",
     "text": [
      "There are negative values in the predictions.\n",
      "The average error is: 247.90788592295766\n",
      "Model: auto_arima and Revision: WLSS\n",
      "Generating the hierarchical dataset...\n",
      "Got 3 clusters..\n",
      "The dataset size is (120, 405)\n",
      "Fitting the model auto_arima with revision method WLSS.\n"
     ]
    },
    {
     "name": "stderr",
     "output_type": "stream",
     "text": [
      "Fitting models: 100%|████████████████████████████████████████████████████████████████| 405/405 [17:49<00:00,  2.64s/it]\n",
      "Fitting models:  12%|███████▉                                                        | 50/405 [00:00<00:01, 251.16it/s]"
     ]
    },
    {
     "name": "stdout",
     "output_type": "stream",
     "text": [
      "Predicting for the next 12 time steps.\n"
     ]
    },
    {
     "name": "stderr",
     "output_type": "stream",
     "text": [
      "Fitting models: 100%|███████████████████████████████████████████████████████████████| 405/405 [00:01<00:00, 233.90it/s]\n"
     ]
    },
    {
     "name": "stdout",
     "output_type": "stream",
     "text": [
      "There are negative values in the predictions.\n",
      "The average error is: 3.002982747207723\n",
      "Model: auto_arima and Revision: WLSV\n",
      "Generating the hierarchical dataset...\n",
      "Got 3 clusters..\n",
      "The dataset size is (120, 405)\n",
      "Fitting the model auto_arima with revision method WLSV.\n"
     ]
    },
    {
     "name": "stderr",
     "output_type": "stream",
     "text": [
      "Fitting models: 100%|████████████████████████████████████████████████████████████████| 405/405 [18:09<00:00,  2.69s/it]\n",
      "Fitting models:   5%|███▎                                                            | 21/405 [00:00<00:01, 204.53it/s]"
     ]
    },
    {
     "name": "stdout",
     "output_type": "stream",
     "text": [
      "Predicting for the next 12 time steps.\n"
     ]
    },
    {
     "name": "stderr",
     "output_type": "stream",
     "text": [
      "Fitting models: 100%|███████████████████████████████████████████████████████████████| 405/405 [00:01<00:00, 231.61it/s]\n"
     ]
    },
    {
     "name": "stdout",
     "output_type": "stream",
     "text": [
      "There are negative values in the predictions.\n",
      "The average error is: 4028.080432061559\n"
     ]
    }
   ],
   "source": [
    "# Run the code for hts\n",
    "\n",
    "# Run all combinations for models \n",
    "model_types = ['auto_arima']\n",
    "revisions = ['BU', 'AHP', 'PHA', 'FP', 'OLS', 'WLSS', 'WLSV']\n",
    "\n",
    "# Set the params \n",
    "params = {\n",
    "    'model':'sarimax',\n",
    "    'revision_method':'BU',\n",
    "    'time_steps': 12,\n",
    "    'model_params': {\n",
    "        'order': (2, 1, 2)\n",
    "    }\n",
    "}\n",
    "\n",
    "for m in model_types:\n",
    "    for r in revisions:\n",
    "        print(f\"Model: {m} and Revision: {r}\")\n",
    "        \n",
    "        # Change params \n",
    "        params['model'] = m\n",
    "        params['revision_method'] = r\n",
    "        \n",
    "        # Run the prediction model  \n",
    "        predictions = train_heirarchical_cluster_model(data=cluster1_input,\n",
    "                                         agregate_col='cluster', \n",
    "                                         params=params,\n",
    "                                         cluster_type=\"clusters by Amit\")"
   ]
  },
  {
   "cell_type": "code",
   "execution_count": null,
   "id": "b9f67151",
   "metadata": {},
   "outputs": [],
   "source": []
  }
 ],
 "metadata": {
  "kernelspec": {
   "display_name": "Python 3",
   "language": "python",
   "name": "python3"
  },
  "language_info": {
   "codemirror_mode": {
    "name": "ipython",
    "version": 3
   },
   "file_extension": ".py",
   "mimetype": "text/x-python",
   "name": "python",
   "nbconvert_exporter": "python",
   "pygments_lexer": "ipython3",
   "version": "3.8.8"
  }
 },
 "nbformat": 4,
 "nbformat_minor": 5
}
