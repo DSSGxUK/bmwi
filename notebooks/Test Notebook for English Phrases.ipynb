{
 "cells": [
  {
   "cell_type": "code",
   "execution_count": 1,
   "metadata": {},
   "outputs": [],
   "source": [
    "# Import necessary libraries \n",
    "import pandas as pd"
   ]
  },
  {
   "cell_type": "code",
   "execution_count": 12,
   "metadata": {},
   "outputs": [],
   "source": [
    "# Read the data \n",
    "def get_english_term(german_phrase):\n",
    "    \n",
    "    # This is loading the data each time so there has to be a smarter way to do this. Might help reducing time. \n",
    "    translate = pd.read_csv('../data/metadata/col_translate.csv')\n",
    "\n",
    "    german_phrase = german_phrase.upper()\n",
    "#     print(german_phrase)\n",
    "#     print(translate[translate['Variablenname'] == german_phrase])\n",
    "    \n",
    "    try: \n",
    "        return translate[translate['Variablenname'] == german_phrase]['variable'].values[0] \n",
    "    except: \n",
    "        return german_phrase.lower()\n"
   ]
  },
  {
   "cell_type": "code",
   "execution_count": 11,
   "metadata": {},
   "outputs": [
    {
     "data": {
      "text/html": [
       "<div>\n",
       "<style scoped>\n",
       "    .dataframe tbody tr th:only-of-type {\n",
       "        vertical-align: middle;\n",
       "    }\n",
       "\n",
       "    .dataframe tbody tr th {\n",
       "        vertical-align: top;\n",
       "    }\n",
       "\n",
       "    .dataframe thead th {\n",
       "        text-align: right;\n",
       "    }\n",
       "</style>\n",
       "<table border=\"1\" class=\"dataframe\">\n",
       "  <thead>\n",
       "    <tr style=\"text-align: right;\">\n",
       "      <th></th>\n",
       "      <th>Variablenname</th>\n",
       "      <th>Variable name</th>\n",
       "      <th>Variable</th>\n",
       "      <th>variable</th>\n",
       "      <th>Beschreibung</th>\n",
       "      <th>description</th>\n",
       "    </tr>\n",
       "  </thead>\n",
       "  <tbody>\n",
       "    <tr>\n",
       "      <th>0</th>\n",
       "      <td>AGS2</td>\n",
       "      <td>AGS2</td>\n",
       "      <td>Kennziffer des Bundeslands</td>\n",
       "      <td>Code of the\\nfederal state</td>\n",
       "      <td>Amtlicher Gemeindeschlüssel 2-stellig</td>\n",
       "      <td>Ofﬁcial community\\nkey with 2 digits</td>\n",
       "    </tr>\n",
       "  </tbody>\n",
       "</table>\n",
       "</div>"
      ],
      "text/plain": [
       "  Variablenname Variable name                    Variable  \\\n",
       "0          AGS2          AGS2  Kennziffer des Bundeslands   \n",
       "\n",
       "                     variable                           Beschreibung  \\\n",
       "0  Code of the\\nfederal state  Amtlicher Gemeindeschlüssel 2-stellig   \n",
       "\n",
       "                            description  \n",
       "0  Ofﬁcial community\\nkey with 2 digits  "
      ]
     },
     "execution_count": 11,
     "metadata": {},
     "output_type": "execute_result"
    }
   ],
   "source": [
    "translate = pd.read_csv('../data/metadata/col_translate.csv', index_col=0)\n",
    "translate.head(1)"
   ]
  },
  {
   "cell_type": "code",
   "execution_count": 13,
   "metadata": {
    "scrolled": true
   },
   "outputs": [
    {
     "data": {
      "text/plain": [
       "'Monthly Company changes in the economic sector - mining and quarrying of stones and earth'"
      ]
     },
     "execution_count": 13,
     "metadata": {},
     "output_type": "execute_result"
    }
   ],
   "source": [
    "get_english_term('KR_TO_BE')"
   ]
  },
  {
   "cell_type": "code",
   "execution_count": null,
   "metadata": {},
   "outputs": [],
   "source": []
  }
 ],
 "metadata": {
  "kernelspec": {
   "display_name": "Python 3",
   "language": "python",
   "name": "python3"
  },
  "language_info": {
   "codemirror_mode": {
    "name": "ipython",
    "version": 3
   },
   "file_extension": ".py",
   "mimetype": "text/x-python",
   "name": "python",
   "nbconvert_exporter": "python",
   "pygments_lexer": "ipython3",
   "version": "3.8.5"
  }
 },
 "nbformat": 4,
 "nbformat_minor": 5
}
