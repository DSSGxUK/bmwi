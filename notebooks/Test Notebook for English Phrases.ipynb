{
 "cells": [
  {
   "cell_type": "code",
   "execution_count": 2,
   "id": "143f41d1",
   "metadata": {},
   "outputs": [],
   "source": [
    "# Import necessary libraries \n",
    "import pandas as pd"
   ]
  },
  {
   "cell_type": "code",
   "execution_count": 19,
   "id": "f6cbe298",
   "metadata": {},
   "outputs": [],
   "source": [
    "# Read the data \n",
    "def get_english_term(german_phrase):\n",
    "    \n",
    "    # This is loading the data each time so there has to be a smarter way to do this. Might help reducing time. \n",
    "    translate = pd.read_csv('../data/metadata/col_translate.csv')\n",
    "\n",
    "    german_phrase = german_phrase.upper()\n",
    "    print(german_phrase)\n",
    "    print(translate[translate['German_Variable'] == german_phrase])\n",
    "    \n",
    "    try: \n",
    "        return translate[translate['German_Variable'] == german_phrase]['Translation'].values[0] \n",
    "    except: \n",
    "        return german_phrase.lower()\n"
   ]
  },
  {
   "cell_type": "code",
   "execution_count": 13,
   "id": "cda7b8a6",
   "metadata": {},
   "outputs": [
    {
     "data": {
      "text/html": [
       "<div>\n",
       "<style scoped>\n",
       "    .dataframe tbody tr th:only-of-type {\n",
       "        vertical-align: middle;\n",
       "    }\n",
       "\n",
       "    .dataframe tbody tr th {\n",
       "        vertical-align: top;\n",
       "    }\n",
       "\n",
       "    .dataframe thead th {\n",
       "        text-align: right;\n",
       "    }\n",
       "</style>\n",
       "<table border=\"1\" class=\"dataframe\">\n",
       "  <thead>\n",
       "    <tr style=\"text-align: right;\">\n",
       "      <th></th>\n",
       "      <th>German_Variable</th>\n",
       "      <th>Variable name</th>\n",
       "      <th>Translation</th>\n",
       "      <th>Beschreibung</th>\n",
       "      <th>description</th>\n",
       "    </tr>\n",
       "  </thead>\n",
       "  <tbody>\n",
       "    <tr>\n",
       "      <th>0</th>\n",
       "      <td>_ID</td>\n",
       "      <td>_ID</td>\n",
       "      <td>ID</td>\n",
       "      <td>ID</td>\n",
       "      <td>ID</td>\n",
       "    </tr>\n",
       "    <tr>\n",
       "      <th>1</th>\n",
       "      <td>AGS2</td>\n",
       "      <td>AGS2</td>\n",
       "      <td>Code of the federal state</td>\n",
       "      <td>Amtlicher Gemeindeschlüssel 2-stellig</td>\n",
       "      <td>Ofﬁcial community key with 2 digits</td>\n",
       "    </tr>\n",
       "    <tr>\n",
       "      <th>2</th>\n",
       "      <td>BUNDESLAND</td>\n",
       "      <td>FEDERAL STATE</td>\n",
       "      <td>State name</td>\n",
       "      <td>Name des Bundeslands</td>\n",
       "      <td>State name</td>\n",
       "    </tr>\n",
       "    <tr>\n",
       "      <th>3</th>\n",
       "      <td>AGS5</td>\n",
       "      <td>AGS5</td>\n",
       "      <td>Code number of the district</td>\n",
       "      <td>Amtlicher Gemeindeschlüssel 5-stellig</td>\n",
       "      <td>Ofﬁcial community key with 5 digits</td>\n",
       "    </tr>\n",
       "    <tr>\n",
       "      <th>4</th>\n",
       "      <td>KREIS</td>\n",
       "      <td>CIRCLE</td>\n",
       "      <td>Name of the district</td>\n",
       "      <td>Name des Landkreises</td>\n",
       "      <td>Name of the district</td>\n",
       "    </tr>\n",
       "    <tr>\n",
       "      <th>5</th>\n",
       "      <td>KR_KA_AU_JJJJMM</td>\n",
       "      <td>KR_KA_AU_YYYYMM</td>\n",
       "      <td>Displayed short- time work companies</td>\n",
       "      <td>Eingegangene Anzeigen über Kurzarbeit von Unte...</td>\n",
       "      <td>Advertisements received about short-time work ...</td>\n",
       "    </tr>\n",
       "    <tr>\n",
       "      <th>6</th>\n",
       "      <td>KR_KA_AP_JJJJMM</td>\n",
       "      <td>KR_KA_AP_YYYYMM</td>\n",
       "      <td>Displayed short- time work - people</td>\n",
       "      <td>Anzahl gemeldete Personen in den eingegangenen...</td>\n",
       "      <td>Number of persons registered in the advertisem...</td>\n",
       "    </tr>\n",
       "    <tr>\n",
       "      <th>7</th>\n",
       "      <td>KR_KA_RU_JJJJMM</td>\n",
       "      <td>KR_KA_RU_YYYYMM</td>\n",
       "      <td>Realized short- time work companies</td>\n",
       "      <td>Anzahl kurzarbeitende Unternehmen je Monat (ko...</td>\n",
       "      <td>Number of short- time working companies per mo...</td>\n",
       "    </tr>\n",
       "    <tr>\n",
       "      <th>8</th>\n",
       "      <td>KR_KA_RP_JJJJMM</td>\n",
       "      <td>KR_KA_RP_YYYYMM</td>\n",
       "      <td>Realized short- time work - people</td>\n",
       "      <td>Anzahl Kurzarbeiter je Monat (konjunkturelle K...</td>\n",
       "      <td>Number of short- time workers per month (cycli...</td>\n",
       "    </tr>\n",
       "    <tr>\n",
       "      <th>9</th>\n",
       "      <td>KR_AL_JJJJMM</td>\n",
       "      <td>KR_AL_YYYYMM</td>\n",
       "      <td>Unemployed</td>\n",
       "      <td>Anzahl Arbeitslose je Monat</td>\n",
       "      <td>Number of unemployed per month</td>\n",
       "    </tr>\n",
       "  </tbody>\n",
       "</table>\n",
       "</div>"
      ],
      "text/plain": [
       "   German_Variable    Variable name                           Translation  \\\n",
       "0              _ID              _ID                                    ID   \n",
       "1             AGS2             AGS2             Code of the federal state   \n",
       "2       BUNDESLAND    FEDERAL STATE                            State name   \n",
       "3             AGS5             AGS5           Code number of the district   \n",
       "4            KREIS           CIRCLE                  Name of the district   \n",
       "5  KR_KA_AU_JJJJMM  KR_KA_AU_YYYYMM  Displayed short- time work companies   \n",
       "6  KR_KA_AP_JJJJMM  KR_KA_AP_YYYYMM   Displayed short- time work - people   \n",
       "7  KR_KA_RU_JJJJMM  KR_KA_RU_YYYYMM   Realized short- time work companies   \n",
       "8  KR_KA_RP_JJJJMM  KR_KA_RP_YYYYMM    Realized short- time work - people   \n",
       "9     KR_AL_JJJJMM     KR_AL_YYYYMM                            Unemployed   \n",
       "\n",
       "                                        Beschreibung  \\\n",
       "0                                                 ID   \n",
       "1              Amtlicher Gemeindeschlüssel 2-stellig   \n",
       "2                               Name des Bundeslands   \n",
       "3              Amtlicher Gemeindeschlüssel 5-stellig   \n",
       "4                               Name des Landkreises   \n",
       "5  Eingegangene Anzeigen über Kurzarbeit von Unte...   \n",
       "6  Anzahl gemeldete Personen in den eingegangenen...   \n",
       "7  Anzahl kurzarbeitende Unternehmen je Monat (ko...   \n",
       "8  Anzahl Kurzarbeiter je Monat (konjunkturelle K...   \n",
       "9                        Anzahl Arbeitslose je Monat   \n",
       "\n",
       "                                         description  \n",
       "0                                                 ID  \n",
       "1                Ofﬁcial community key with 2 digits  \n",
       "2                                         State name  \n",
       "3                Ofﬁcial community key with 5 digits  \n",
       "4                               Name of the district  \n",
       "5  Advertisements received about short-time work ...  \n",
       "6  Number of persons registered in the advertisem...  \n",
       "7  Number of short- time working companies per mo...  \n",
       "8  Number of short- time workers per month (cycli...  \n",
       "9                     Number of unemployed per month  "
      ]
     },
     "execution_count": 13,
     "metadata": {},
     "output_type": "execute_result"
    }
   ],
   "source": [
    "translate = pd.read_csv('../data/metadata/col_translate.csv')\n",
    "translate.head(10)"
   ]
  },
  {
   "cell_type": "code",
   "execution_count": 20,
   "id": "d7c0243e",
   "metadata": {
    "scrolled": true
   },
   "outputs": [
    {
     "name": "stdout",
     "output_type": "stream",
     "text": [
      "KR_TO_BE\n",
      "Empty DataFrame\n",
      "Columns: [German_Variable, Variable name, Translation, Beschreibung, description]\n",
      "Index: []\n"
     ]
    },
    {
     "data": {
      "text/plain": [
       "'kr_to_be'"
      ]
     },
     "execution_count": 20,
     "metadata": {},
     "output_type": "execute_result"
    }
   ],
   "source": [
    "get_english_term('KR_TO_BE')"
   ]
  },
  {
   "cell_type": "code",
   "execution_count": null,
   "id": "7a6e41c3",
   "metadata": {},
   "outputs": [],
   "source": [
    "translate"
   ]
  }
 ],
 "metadata": {
  "kernelspec": {
   "display_name": "Python 3",
   "language": "python",
   "name": "python3"
  },
  "language_info": {
   "codemirror_mode": {
    "name": "ipython",
    "version": 3
   },
   "file_extension": ".py",
   "mimetype": "text/x-python",
   "name": "python",
   "nbconvert_exporter": "python",
   "pygments_lexer": "ipython3",
   "version": "3.8.8"
  }
 },
 "nbformat": 4,
 "nbformat_minor": 5
}
