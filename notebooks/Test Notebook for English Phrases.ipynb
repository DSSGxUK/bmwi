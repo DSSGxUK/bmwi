{
 "cells": [
  {
   "cell_type": "code",
   "execution_count": 1,
   "id": "3ed76444",
   "metadata": {},
   "outputs": [],
   "source": [
    "# Import necessary libraries \n",
    "import pandas as pd"
   ]
  },
  {
   "cell_type": "code",
   "execution_count": 27,
   "id": "5db32b4a",
   "metadata": {},
   "outputs": [],
   "source": [
    "# Read the data \n",
    "def get_english_term(german_phrase):\n",
    "    \n",
    "    # This is loading the data each time so there has to be a smarter way to do this. Might help reducing time. \n",
    "    translate = pd.read_csv('../data/metadata/col_translate.csv')\n",
    "\n",
    "    german_phrase = german_phrase.upper()\n",
    "#     print(german_phrase)\n",
    "#     print(translate[translate['Variablenname'] == german_phrase])\n",
    "    \n",
    "    try: \n",
    "        return translate[translate['Variable_name'] == german_phrase]['variable_english'].values[0] \n",
    "    except: \n",
    "        return german_phrase.lower()\n"
   ]
  },
  {
   "cell_type": "code",
   "execution_count": 28,
   "id": "0f493b64",
   "metadata": {},
   "outputs": [
    {
     "data": {
      "text/html": [
       "<div>\n",
       "<style scoped>\n",
       "    .dataframe tbody tr th:only-of-type {\n",
       "        vertical-align: middle;\n",
       "    }\n",
       "\n",
       "    .dataframe tbody tr th {\n",
       "        vertical-align: top;\n",
       "    }\n",
       "\n",
       "    .dataframe thead th {\n",
       "        text-align: right;\n",
       "    }\n",
       "</style>\n",
       "<table border=\"1\" class=\"dataframe\">\n",
       "  <thead>\n",
       "    <tr style=\"text-align: right;\">\n",
       "      <th></th>\n",
       "      <th>Variable name</th>\n",
       "      <th>Variable</th>\n",
       "      <th>variable_english</th>\n",
       "      <th>Beschreibung</th>\n",
       "      <th>description</th>\n",
       "    </tr>\n",
       "    <tr>\n",
       "      <th>Variable_name</th>\n",
       "      <th></th>\n",
       "      <th></th>\n",
       "      <th></th>\n",
       "      <th></th>\n",
       "      <th></th>\n",
       "    </tr>\n",
       "  </thead>\n",
       "  <tbody>\n",
       "    <tr>\n",
       "      <th>_ID</th>\n",
       "      <td>ID</td>\n",
       "      <td>ID</td>\n",
       "      <td>ID</td>\n",
       "      <td>ID</td>\n",
       "      <td>ID</td>\n",
       "    </tr>\n",
       "  </tbody>\n",
       "</table>\n",
       "</div>"
      ],
      "text/plain": [
       "              Variable name Variable variable_english Beschreibung description\n",
       "Variable_name                                                                 \n",
       "_ID                      ID       ID               ID           ID          ID"
      ]
     },
     "execution_count": 28,
     "metadata": {},
     "output_type": "execute_result"
    }
   ],
   "source": [
    "translate = pd.read_csv('../data/metadata/col_translate.csv', index_col=0)\n",
    "translate.head(1)"
   ]
  },
  {
   "cell_type": "code",
   "execution_count": 32,
   "id": "74b2eada",
   "metadata": {
    "scrolled": true
   },
   "outputs": [
    {
     "data": {
      "text/plain": [
       "'Monthly Company changes in the economic sector -\\r\\nmanufacturing'"
      ]
     },
     "execution_count": 32,
     "metadata": {},
     "output_type": "execute_result"
    }
   ],
   "source": [
    "get_english_term('KR_TO_BETT')"
   ]
  },
  {
   "cell_type": "code",
   "execution_count": null,
   "id": "da269d57",
   "metadata": {},
   "outputs": [],
   "source": []
  }
 ],
 "metadata": {
  "kernelspec": {
   "display_name": "Python 3",
   "language": "python",
   "name": "python3"
  },
  "language_info": {
   "codemirror_mode": {
    "name": "ipython",
    "version": 3
   },
   "file_extension": ".py",
   "mimetype": "text/x-python",
   "name": "python",
   "nbconvert_exporter": "python",
   "pygments_lexer": "ipython3",
   "version": "3.8.8"
  }
 },
 "nbformat": 4,
 "nbformat_minor": 5
}
